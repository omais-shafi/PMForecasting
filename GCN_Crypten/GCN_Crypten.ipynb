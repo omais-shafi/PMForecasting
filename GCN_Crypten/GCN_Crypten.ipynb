{
 "cells": [
  {
   "cell_type": "code",
   "execution_count": 1,
   "metadata": {},
   "outputs": [],
   "source": [
    "import torch\n",
    "import torch.nn as nn\n",
    "import torch.nn.functional as F\n",
    "import pandas as pd\n",
    "import numpy as np\n",
    "import random\n",
    "import datetime\n",
    "import math\n",
    "from torch.nn.parameter import Parameter\n",
    "from torch.nn.modules.module import Module\n",
    "import matplotlib.pyplot as plt"
   ]
  },
  {
   "cell_type": "code",
   "execution_count": 2,
   "metadata": {},
   "outputs": [],
   "source": [
    "import crypten\n",
    "crypten.init()\n",
    "torch.set_num_threads(1)\n",
    "crypten_output = torch.ones((0))\n",
    "true_output = torch.ones((0))\n",
    "pytorch_output = torch.ones((0))"
   ]
  },
  {
   "cell_type": "code",
   "execution_count": 3,
   "metadata": {},
   "outputs": [],
   "source": [
    "hr_start, hr_end = 660, 720\n",
    "n_servers = 3\n",
    "epsilon = 1e-3\n",
    "test_fraction = 1/20\n",
    "valid_fraction = 1/10\n",
    "n_epochs = 200\n",
    "n_lat_grid_lines = 100\n",
    "n_long_grid_lines = 100\n",
    "optimizer = \"SGD\""
   ]
  },
  {
   "cell_type": "code",
   "execution_count": 4,
   "metadata": {},
   "outputs": [],
   "source": [
    "from torch import Tensor\n",
    "from torch.nn import Linear"
   ]
  },
  {
   "cell_type": "code",
   "execution_count": 5,
   "metadata": {},
   "outputs": [
    {
     "name": "stdout",
     "output_type": "stream",
     "text": [
      "97358\n",
      "86892\n"
     ]
    }
   ],
   "source": [
    "import datetime\n",
    "#Put the file location\n",
    "df = pd.read_csv('../GNN//GNN-to_share/GNN-to_share/20-10_all.csv')\n",
    "\n",
    "#type casting\n",
    "df.pm1_0 = df.pm1_0.astype(float)\n",
    "df.pm2_5 = df.pm2_5.astype(float)\n",
    "df.pm10 = df.pm10.astype(float)\n",
    "df.lat = round(round(5*df.lat.astype(float),2)/5.0,3)\n",
    "df.long= round(round(5*df.long.astype(float),2)/5.0,3)\n",
    "df.pressure = df.pressure.astype(float)\n",
    "df.temperature = df.temperature.astype(float)\n",
    "df.humidity = df.humidity.astype(float)\n",
    "df.dateTime = pd.to_datetime(df.dateTime)\n",
    "\n",
    "print(len(df))\n",
    "# Ensuring Delhi region and removing outliers from data\n",
    "df = df[(df.lat.astype(int) == 28) &(df.long.astype(int) == 77)]\n",
    "df = df[(df.pm1_0<=1500) & (df.pm2_5<=1500) & (df.pm10<=1500) & (df.pm1_0>=20) & (df.pm2_5>=30) & (df.pm10>=30)]\n",
    "df = df[(df.humidity<=60)&(df.humidity>=7)]\n",
    "print(len(df))"
   ]
  },
  {
   "cell_type": "code",
   "execution_count": 6,
   "metadata": {},
   "outputs": [],
   "source": [
    "# rounding @15min\n",
    "df.dateTime = df.dateTime.dt.round('15min')\n",
    "\n",
    "# only PM10\n",
    "dfHour = df[(df['dateTime'].dt.day == 20)][['dateTime','lat','long','pm1_0']]\n",
    "\n",
    "# TODO: Add buffer and consider train-data for range\n",
    "lat_range = {'min': dfHour.lat.min(), 'max': dfHour.lat.max()}\n",
    "long_range = {'min': dfHour.long.min(), 'max': dfHour.long.max()}\n",
    "\n",
    "dfHour['lat_grid'] = dfHour.apply(lambda row: int(n_lat_grid_lines*(row.lat-lat_range['min'])/(lat_range['max']-lat_range['min'])), axis=1 )\n",
    "dfHour['long_grid'] = dfHour.apply(lambda row: int(n_long_grid_lines*(row.long-long_range['min'])/(long_range['max']-long_range['min'])), axis=1 )\n",
    "dfHour['lat_grid'] = dfHour['lat_grid'].astype(float).astype(int)\n",
    "dfHour['long_grid'] = dfHour['long_grid'].astype(float).astype(int)\n",
    "del dfHour['lat']\n",
    "del dfHour['long']\n",
    "\n",
    "# TODO: use time as a feature as well\n",
    "# converting time to minutes and selecting a one hour slot\n",
    "dfHour.dateTime = dfHour.dateTime.dt.hour*60 + dfHour.dateTime.dt.minute\n",
    "dfHour = dfHour[(dfHour.dateTime>=hr_start) & (dfHour.dateTime<=hr_end)] \n",
    "\n",
    "del dfHour['dateTime']"
   ]
  },
  {
   "cell_type": "code",
   "execution_count": 7,
   "metadata": {},
   "outputs": [
    {
     "data": {
      "text/plain": [
       "97    1491\n",
       "63     316\n",
       "47     180\n",
       "93     173\n",
       "95     152\n",
       "      ... \n",
       "31       4\n",
       "26       4\n",
       "38       3\n",
       "33       3\n",
       "35       2\n",
       "Name: long_grid, Length: 65, dtype: int64"
      ]
     },
     "execution_count": 7,
     "metadata": {},
     "output_type": "execute_result"
    }
   ],
   "source": [
    "dfHour.long_grid.value_counts()"
   ]
  },
  {
   "cell_type": "code",
   "execution_count": 8,
   "metadata": {},
   "outputs": [
    {
     "data": {
      "text/plain": [
       "2     1027\n",
       "1      396\n",
       "41     299\n",
       "39     169\n",
       "43     139\n",
       "      ... \n",
       "56       8\n",
       "64       8\n",
       "70       8\n",
       "83       7\n",
       "84       5\n",
       "Name: lat_grid, Length: 79, dtype: int64"
      ]
     },
     "execution_count": 8,
     "metadata": {},
     "output_type": "execute_result"
    }
   ],
   "source": [
    "dfHour.lat_grid.value_counts()"
   ]
  },
  {
   "cell_type": "code",
   "execution_count": 9,
   "metadata": {},
   "outputs": [
    {
     "name": "stdout",
     "output_type": "stream",
     "text": [
      "208\n",
      "208\n"
     ]
    }
   ],
   "source": [
    "dfHour['server'] = np.random.randint(0, 3, len(dfHour))\n",
    "dfHour = dfHour.reset_index(drop=True)\n",
    "\n",
    "grid = {}\n",
    "count = 0\n",
    "count2 = 0\n",
    "for i,row in dfHour.iterrows():\n",
    "#     print(f\"{int(row.lat_grid)} {int(row.long_grid)}\")\n",
    "    if(not f\"{int(row.lat_grid)} {int(row.long_grid)}\" in grid):\n",
    "        grid[f\"{int(row.lat_grid)} {int(row.long_grid)}\"] = count\n",
    "        count += 1\n",
    "        count2 += 1\n",
    "#     if(not f\"{int(row.lat_grid + 1)} {int(row.long_grid)}\" in grid):\n",
    "#         grid[f\"{int(row.lat_grid + 1)} {int(row.long_grid)}\"] = count\n",
    "#         count += 1\n",
    "#     if(not f\"{int(row.lat_grid)} {int(row.long_grid + 1)}\" in grid):\n",
    "#         grid[f\"{int(row.lat_grid)} {int(row.long_grid + 1)}\"] = count\n",
    "#         count += 1\n",
    "#     if(not f\"{int(row.lat_grid - 1)} {int(row.long_grid)}\" in grid):\n",
    "#         grid[f\"{int(row.lat_grid - 1)} {int(row.long_grid)}\"] = count\n",
    "#         count += 1\n",
    "#     if(not f\"{int(row.lat_grid)} {int(row.long_grid - 1)}\" in grid):\n",
    "#         grid[f\"{int(row.lat_grid)} {int(row.long_grid - 1)}\"] = count\n",
    "#         count += 1\n",
    "\n",
    "print(count)\n",
    "print(count2)\n",
    "\n",
    "adj = np.zeros((count, count))\n",
    "aqi = np.zeros((n_servers, count))\n",
    "mask = np.zeros((n_servers, count))\n",
    "\n",
    "for i,row in dfHour.iterrows():\n",
    "    \n",
    "    mask_ser_grid = mask[int(row.server)][grid[f\"{int(row.lat_grid)} {int(row.long_grid)}\"]]\n",
    "    aqi[int(row.server)][grid[f\"{int(row.lat_grid)} {int(row.long_grid)}\"]] *= mask_ser_grid/(mask_ser_grid+1)\n",
    "    aqi[int(row.server)][grid[f\"{int(row.lat_grid)} {int(row.long_grid)}\"]] += row.pm1_0/(mask_ser_grid+1)\n",
    "    mask[int(row.server)][grid[f\"{int(row.lat_grid)} {int(row.long_grid)}\"]] += 1\n",
    "    \n",
    "    if(f\"{int(row.lat_grid + 1)} {int(row.long_grid)}\" in grid):\n",
    "        adj[grid[f\"{int(row.lat_grid)} {int(row.long_grid)}\"]][grid[f\"{int(row.lat_grid + 1)} {int(row.long_grid)}\"]] = 1\n",
    "    if(f\"{int(row.lat_grid)} {int(row.long_grid + 1)}\" in grid):\n",
    "        adj[grid[f\"{int(row.lat_grid)} {int(row.long_grid)}\"]][grid[f\"{int(row.lat_grid)} {int(row.long_grid + 1)}\"]] = 1\n",
    "    if(f\"{int(row.lat_grid - 1)} {int(row.long_grid)}\" in grid):\n",
    "        adj[grid[f\"{int(row.lat_grid)} {int(row.long_grid)}\"]][grid[f\"{int(row.lat_grid - 1)} {int(row.long_grid)}\"]] = 1\n",
    "    if(f\"{int(row.lat_grid)} {int(row.long_grid - 1)}\" in grid):\n",
    "        adj[grid[f\"{int(row.lat_grid)} {int(row.long_grid)}\"]][grid[f\"{int(row.lat_grid)} {int(row.long_grid - 1)}\"]] = 1\n",
    "    \n",
    "    if(f\"{int(row.lat_grid + 1)} {int(row.long_grid)}\" in grid):\n",
    "        adj[grid[f\"{int(row.lat_grid + 1)} {int(row.long_grid)}\"]][grid[f\"{int(row.lat_grid)} {int(row.long_grid)}\"]] = 1\n",
    "    if(f\"{int(row.lat_grid)} {int(row.long_grid + 1)}\" in grid):\n",
    "        adj[grid[f\"{int(row.lat_grid)} {int(row.long_grid + 1)}\"]][grid[f\"{int(row.lat_grid)} {int(row.long_grid)}\"]] = 1\n",
    "    if(f\"{int(row.lat_grid - 1)} {int(row.long_grid)}\" in grid):\n",
    "        adj[grid[f\"{int(row.lat_grid - 1)} {int(row.long_grid)}\"]][grid[f\"{int(row.lat_grid)} {int(row.long_grid)}\"]] = 1\n",
    "    if(f\"{int(row.lat_grid)} {int(row.long_grid - 1)}\" in grid):\n",
    "        adj[grid[f\"{int(row.lat_grid)} {int(row.long_grid - 1)}\"]][grid[f\"{int(row.lat_grid)} {int(row.long_grid)}\"]] = 1\n",
    "    \n",
    "#     adj[grid[f\"{int(row.lat_grid + 1)} {int(row.long_grid)}\"]][grid[f\"{int(row.lat_grid + 1)} {int(row.long_grid)}\"]] = 1\n",
    "#     adj[grid[f\"{int(row.lat_grid)} {int(row.long_grid + 1)}\"]][grid[f\"{int(row.lat_grid)} {int(row.long_grid + 1)}\"]] = 1\n",
    "#     adj[grid[f\"{int(row.lat_grid - 1)} {int(row.long_grid)}\"]][grid[f\"{int(row.lat_grid - 1)} {int(row.long_grid)}\"]] = 1\n",
    "#     adj[grid[f\"{int(row.lat_grid)} {int(row.long_grid - 1)}\"]][grid[f\"{int(row.lat_grid)} {int(row.long_grid - 1)}\"]] = 1\n",
    "    adj[grid[f\"{int(row.lat_grid)} {int(row.long_grid)}\"]][grid[f\"{int(row.lat_grid)} {int(row.long_grid)}\"]] = 1"
   ]
  },
  {
   "cell_type": "code",
   "execution_count": 10,
   "metadata": {},
   "outputs": [],
   "source": [
    "mask = torch.tensor(mask)\n",
    "adj = torch.tensor(adj)\n",
    "aqi = torch.tensor(aqi)"
   ]
  },
  {
   "cell_type": "code",
   "execution_count": 11,
   "metadata": {},
   "outputs": [],
   "source": [
    "test_indices = random.sample(range(aqi.shape[1]), int(aqi.shape[1] * test_fraction))\n",
    "aqi_train = aqi * 1\n",
    "aqi_train[:, test_indices] = 0\n",
    "\n",
    "mask_train = mask * 1\n",
    "mask_train[:, test_indices] = 0\n",
    "\n",
    "adj_train = adj.clone().detach()\n",
    "adj_train[:, test_indices] = 0"
   ]
  },
  {
   "cell_type": "code",
   "execution_count": 12,
   "metadata": {},
   "outputs": [],
   "source": [
    "def train_valid_split(train_data, rank):\n",
    "    mult = torch.ones(train_data['aqi'].shape)\n",
    "    mult2 = torch.ones(train_data['mask'].shape)\n",
    "    mult3 = torch.ones(train_data['adj'].shape)\n",
    "    \n",
    "    if rank == 0:\n",
    "        valid_indices = random.sample(range(train_data['aqi'].shape[0]), int(train_data['aqi'].shape[0] * valid_fraction))\n",
    "\n",
    "        mult[valid_indices, :] = 0\n",
    "\n",
    "        mult2[valid_indices] = 0\n",
    "        \n",
    "        mult3[:, valid_indices] = 0\n",
    "    \n",
    "    mult = crypten.cryptensor(mult, src = 0) \n",
    "    \n",
    "    aqi_train_valid = train_data['aqi'] * mult\n",
    "    \n",
    "    mult2 = crypten.cryptensor(mult2, src=0) \n",
    "    \n",
    "    mask_train_valid = train_data['mask'] * mult2\n",
    "    mask_train_valid = mask_train_valid > 0.1\n",
    "#     crypten.print(train_data['mask'].sum().get_plain_text())\n",
    "#     crypten.print(mask_train_valid.sum().get_plain_text())\n",
    "    \n",
    "    mult3 = crypten.cryptensor(mult3, src=0).get_plain_text() \n",
    "    new_adj = train_data['adj'].clone().detach()\n",
    "    new_adj = new_adj * mult3\n",
    "        \n",
    "    train_valid_data = {\n",
    "        'adj': new_adj,\n",
    "        'aqi': aqi_train_valid,\n",
    "        'mask': mask_train_valid\n",
    "    }\n",
    "    return train_valid_data"
   ]
  },
  {
   "cell_type": "code",
   "execution_count": 13,
   "metadata": {},
   "outputs": [],
   "source": [
    "class GCNConv(crypten.nn.Module):\n",
    "    \"\"\"\n",
    "    Simple GCN layer, similar to https://arxiv.org/abs/1609.02907\n",
    "    \"\"\"\n",
    "\n",
    "    def __init__(self, in_features, out_features, bias=True):\n",
    "        super(GCNConv, self).__init__()\n",
    "        self.in_features = in_features\n",
    "        self.out_features = out_features\n",
    "        temp_weight = torch.FloatTensor(in_features, out_features)\n",
    "        if bias:\n",
    "            temp_bias = torch.FloatTensor(out_features)\n",
    "        else:\n",
    "            self.register_parameter('bias', None)\n",
    "        self.reset_parameters(temp_weight, temp_bias)\n",
    "\n",
    "    def reset_parameters(self, temp_weight, temp_bias):\n",
    "        stdv = 1. / math.sqrt(temp_weight.size(1))\n",
    "        \n",
    "        temp_weight.data.uniform_(-stdv, stdv)\n",
    "        self.register_parameter('weight', temp_weight)\n",
    "        \n",
    "        if temp_bias is not None:\n",
    "            temp_bias.data.uniform_(-stdv, stdv)\n",
    "            self.register_parameter('bias', temp_bias)\n",
    "            \n",
    "\n",
    "    def forward(self, input, adj):\n",
    "        #  Support becomes N X output_features\n",
    "        support = input.matmul(self.weight)\n",
    "        temp = crypten.cryptensor(adj)\n",
    "        print(type(temp))\n",
    "        D = (1 + temp.sum(dim=1).unsqueeze(-1)).reciprocal()\n",
    "        #  Output is N X output_features\n",
    "        output = D * temp.matmul(support)\n",
    "        \n",
    "        if self.bias is not None:\n",
    "            return output + self.bias\n",
    "        else:\n",
    "            return output\n",
    "\n",
    "    def __repr__(self):\n",
    "        return self.__class__.__name__ + ' ('                + str(self.in_features) + ' -> '                + str(self.out_features) + ')'\n"
   ]
  },
  {
   "cell_type": "code",
   "execution_count": 14,
   "metadata": {},
   "outputs": [
    {
     "name": "stdout",
     "output_type": "stream",
     "text": [
      "tensor([[1.5766e-19, 1.0256e-08, 6.4456e-10, 3.0271e+12, 6.7742e-10, 6.7512e-07,\n",
      "         1.0373e-08, 1.2540e+16],\n",
      "        [2.1707e-18, 7.0952e+22, 1.7748e+28, 1.8176e+31, 7.2708e+31, 5.0778e+31,\n",
      "         3.2608e-12, 1.7728e+28]])\n"
     ]
    }
   ],
   "source": [
    "# module_try = GCNConv(2,8)   \n",
    "weight = torch.FloatTensor(2, 8)\n",
    "temp = crypten.cryptensor(weight)\n",
    "print(weight)"
   ]
  },
  {
   "cell_type": "code",
   "execution_count": 15,
   "metadata": {},
   "outputs": [],
   "source": [
    "# TODO/ASK: too many parameters\n",
    "class Net(crypten.nn.Module):\n",
    "    def __init__(self):\n",
    "        super(Net, self).__init__()\n",
    "        self.conv1Mean = GCNConv(2,8)        \n",
    "        self.conv2Mean = GCNConv(8,8)\n",
    "        \n",
    "        self.lin3 = crypten.nn.Linear(8, 1)\n",
    "    \n",
    "    def lrelu(self, x, alpha):\n",
    "        temp1 = ((x < 0) * alpha) + (x > 0)\n",
    "        return temp1 * x\n",
    "    \n",
    "    def forward(self, data):\n",
    "        x, adj = crypten.cat([data['aqi'],data['mask'].unsqueeze(-1)],1), data['adj']\n",
    "        x = self.lrelu(self.conv1Mean(x, adj), 0.1)\n",
    "#         crypten.print(x.get_plain_text())\n",
    "        x = self.lrelu(self.conv2Mean(x, adj), 0.1)\n",
    "#         crypten.print(x.get_plain_text())\n",
    "        x = self.lin3(x)\n",
    "#         crypten.print(x.get_plain_text())\n",
    "        return x.squeeze()"
   ]
  },
  {
   "cell_type": "code",
   "execution_count": 35,
   "metadata": {},
   "outputs": [],
   "source": []
  },
  {
   "cell_type": "code",
   "execution_count": 16,
   "metadata": {},
   "outputs": [],
   "source": [
    "loss_array = []"
   ]
  },
  {
   "cell_type": "code",
   "execution_count": 17,
   "metadata": {},
   "outputs": [],
   "source": [
    "def train(net, data_train, combined_y_enc, rank):\n",
    "    global loss_array\n",
    "\n",
    "    net.train() # Change to training mode\n",
    "    net.encrypt()\n",
    "    loss = crypten.nn.MSELoss() # Choose loss functions\n",
    "\n",
    "    \n",
    "    crypten_optimizer = crypten.optim.SGD(net.parameters(), lr = 0.0001)\n",
    "    \n",
    "    # Set parameters: learning rate, num_epochs\n",
    "#     learning_rate = 0.001\n",
    "    num_epochs = n_epochs\n",
    "      \n",
    "    \n",
    "    # Train the model: SGD on encrypted data\n",
    "    for i in range(num_epochs):\n",
    "        \n",
    "        # set gradients to zero\n",
    "        net.zero_grad()\n",
    "        \n",
    "        data_valid = train_valid_split(data_train, rank=rank)  \n",
    "        \n",
    "        # forward pass\n",
    "        output = net(data_valid)\n",
    "        print(type(data_valid))\n",
    "#         crypten.print(data_train['mask'])\n",
    "        loss_value = loss(output * data_train['mask'], combined_y_enc * data_train['mask'])\n",
    "        \n",
    "        # perform backward pass\n",
    "        loss_value.backward()\n",
    "\n",
    "        # update parameters\n",
    "        crypten_optimizer.step()\n",
    "            \n",
    "        # examine the loss after each epoch\n",
    "        l_t = loss_value.get_plain_text()\n",
    "        loss_array.append(l_t)\n",
    "        crypten.print(\"Epoch: {0:d} Loss: {1:.4f}\".format(i, l_t))"
   ]
  },
  {
   "cell_type": "code",
   "execution_count": 20,
   "metadata": {},
   "outputs": [],
   "source": [
    "import crypten.mpc as mpc\n",
    "import crypten.communicator as comm\n",
    "from crypten.communicator.communicator import _logging\n",
    "# from crypten.common.approximations import ConfigManager\n",
    "from crypten.config import cfg\n",
    "num_parties = n_servers\n",
    "torch.manual_seed(42)\n",
    "model = Net()"
   ]
  },
  {
   "cell_type": "code",
   "execution_count": 34,
   "metadata": {},
   "outputs": [],
   "source": [
    "# Parties' data\n",
    "x = aqi_train[rank].unsqueeze(-1)\n",
    "train_mask = mask_train[rank].unsqueeze(-1)\n",
    "y = aqi_train[rank]\n",
    "\n",
    "# Combined data\n",
    "combined_mask_enc = crypten.cryptensor(train_mask, src = 0)\n",
    "combined_x_enc = crypten.cryptensor(x, src = 0) * combined_mask_enc\n",
    "combined_y_enc = crypten.cryptensor(y, src = 0) * combined_mask_enc.t()\n",
    "# Take or to get final mask\n",
    "combined_mask_enc = (combined_mask_enc.sum(dim=1, keepdim=True) > 0).squeeze()\n",
    "\n",
    "train_data = {\n",
    "    'adj': adj_matrix,\n",
    "    'aqi': combined_x_enc,\n",
    "    'mask': combined_mask_enc\n",
    "}\n",
    "crypten.print(combined_mask_enc.sum().get_plain_text())\n",
    "#         crypten.print(combined_y_enc.get_plain_text())\n",
    "\n",
    "\n",
    "# net = model\n",
    "# net.encrypt()\n",
    "crypten.print(train_data)\n",
    "# train(net, train_data, combined_y_enc, rank)\n"
   ]
  },
  {
   "cell_type": "code",
   "execution_count": 32,
   "metadata": {
    "scrolled": true
   },
   "outputs": [],
   "source": [
    "@mpc.run_multiprocess(world_size=num_parties)\n",
    "def run_encrypted_training():\n",
    "    global model, loss_array\n",
    "    # Get rank of current process\n",
    "    rank = comm.get().get_rank()\n",
    "    \n",
    "    with ConfigManager(\"reciprocal_nr_iters\", 12):\n",
    "\n",
    "        # Parties' data\n",
    "        x = aqi_train[rank].unsqueeze(-1)\n",
    "        train_mask = mask_train[rank].unsqueeze(-1)\n",
    "        y = aqi_train[rank]\n",
    "\n",
    "        # Combined data\n",
    "        combined_mask_enc = crypten.cryptensor(train_mask, src = 0)\n",
    "        combined_x_enc = crypten.cryptensor(x, src = 0) * combined_mask_enc\n",
    "        combined_y_enc = crypten.cryptensor(y, src = 0) * combined_mask_enc.t()\n",
    "\n",
    "        adj_matrix = adj_train\n",
    "\n",
    "        # Get features and adjacency matrix\n",
    "        for i in range(1, num_parties):       \n",
    "            x_enc = crypten.cryptensor(x, src = i)\n",
    "            y_enc = crypten.cryptensor(y, src = i)\n",
    "            mask_enc = crypten.cryptensor(train_mask, src = i)\n",
    "\n",
    "            combined_x_enc = combined_x_enc + x_enc * mask_enc\n",
    "            combined_y_enc = combined_y_enc + y_enc * mask_enc.t()\n",
    "            combined_mask_enc = crypten.cat([combined_mask_enc, mask_enc], dim=1)\n",
    "\n",
    "        # Add epsilon to prevent 0/0\n",
    "        normalise = (combined_mask_enc.sum(dim=1, keepdim=True) + epsilon) / 10\n",
    "\n",
    "        # Combined x encrypted -> average of all\n",
    "        combined_x_enc = combined_x_enc / 10\n",
    "        combined_x_enc = combined_x_enc / normalise\n",
    "\n",
    "        combined_y_enc = combined_y_enc / 10 \n",
    "        combined_y_enc = (combined_y_enc / normalise.t()).squeeze()\n",
    "\n",
    "        # Take or to get final mask\n",
    "        combined_mask_enc = (combined_mask_enc.sum(dim=1, keepdim=True) > 0).squeeze()\n",
    "\n",
    "        train_data = {\n",
    "            'adj': adj_matrix,\n",
    "            'aqi': combined_x_enc,\n",
    "            'mask': combined_mask_enc\n",
    "        }\n",
    "\n",
    "    #     crypten.print(torch.max(normalise.get_plain_text()))\n",
    "        crypten.print(combined_mask_enc.sum().get_plain_text())\n",
    "#         crypten.print(combined_y_enc.get_plain_text())\n",
    "\n",
    "\n",
    "        net = model\n",
    "        net.encrypt()\n",
    "        train(net, train_data, combined_y_enc, rank)\n",
    "        "
   ]
  },
  {
   "cell_type": "code",
   "execution_count": 33,
   "metadata": {},
   "outputs": [],
   "source": [
    "run_encrypted_training()"
   ]
  },
  {
   "cell_type": "code",
   "execution_count": null,
   "metadata": {},
   "outputs": [],
   "source": [
    "loss_array"
   ]
  },
  {
   "cell_type": "code",
   "execution_count": null,
   "metadata": {},
   "outputs": [],
   "source": [
    "for i in model.named_parameters():\n",
    "    print(i)"
   ]
  },
  {
   "cell_type": "code",
   "execution_count": 218,
   "metadata": {},
   "outputs": [],
   "source": [
    "aqi_mean = (aqi*mask).sum(axis=0)/(mask.sum(axis=0) + epsilon)\n",
    "mask_mean = (mask).sum(axis=0)\n",
    "mask_mean[mask_mean > 0] = 1\n",
    "mask_mean_train = mask_mean * 1\n",
    "mask_mean_train[test_indices] = 0\n",
    "aqi_mean_train = aqi_mean * 1\n",
    "aqi_mean_train[test_indices] = 0\n",
    "train_data = {\n",
    "    'adj': adj_train.float(),\n",
    "    'aqi': aqi_mean_train.view(-1,1).float(),\n",
    "    'mask': mask_mean_train.float()\n",
    "}\n",
    "def eval(output = output, aqi_mean=aqi_mean, test_indices=test_indices):\n",
    "    test_output = (torch.reshape(output,(-1,)) * mask_mean)[test_indices]\n",
    "    true_test_output = aqi_mean[test_indices]\n",
    "    test_loss = F.mse_loss(test_output, true_test_output)\n",
    "    test_loss *= len(train_data['mask'])/torch.sum(train_data['mask'])\n",
    "    print(test_output)\n",
    "    print(true_test_output)\n",
    "    return test_output, true_test_output, test_loss.item()\n",
    "\n",
    "# # In[13]:"
   ]
  },
  {
   "cell_type": "code",
   "execution_count": 219,
   "metadata": {},
   "outputs": [
    {
     "name": "stdout",
     "output_type": "stream",
     "text": [
      "tensor([20.7303, 25.9158, 28.1599,  0.2406, 41.8291, 21.6307, 22.6942, 16.0909,\n",
      "        30.4941, 31.5359], dtype=torch.float64)\n",
      "tensor([27.5945, 31.9206, 33.3222, 29.6074, 40.9556, 29.2427, 30.8485, 39.3921,\n",
      "        34.7666, 40.2755], dtype=torch.float64)\n",
      "182.26378874995976\n"
     ]
    }
   ],
   "source": [
    "crypten_output_temp, true_output_temp, l = eval()\n",
    "print(l)"
   ]
  },
  {
   "cell_type": "code",
   "execution_count": 220,
   "metadata": {},
   "outputs": [],
   "source": [
    "actual_test_indices = np.intersect1d(np.where(mask_mean > 0), test_indices)"
   ]
  },
  {
   "cell_type": "code",
   "execution_count": 221,
   "metadata": {},
   "outputs": [
    {
     "name": "stdout",
     "output_type": "stream",
     "text": [
      "48\n",
      "(array([42, 48, 56]),)\n",
      "tensor(31.9206, dtype=torch.float64)\n",
      "tensor([31.5360, 31.9206, 28.9065], dtype=torch.float64)\n",
      "51\n",
      "(array([51]),)\n",
      "tensor(29.6074, dtype=torch.float64)\n",
      "tensor([29.6074], dtype=torch.float64)\n",
      "92\n",
      "(array([90, 92, 95]),)\n",
      "tensor(33.3222, dtype=torch.float64)\n",
      "tensor([31.8968, 33.3222, 33.4944], dtype=torch.float64)\n",
      "109\n",
      "(array([108, 109, 111]),)\n",
      "tensor(27.5945, dtype=torch.float64)\n",
      "tensor([27.9907, 27.5945, 26.9865], dtype=torch.float64)\n",
      "122\n",
      "(array([119, 122, 128]),)\n",
      "tensor(40.2755, dtype=torch.float64)\n",
      "tensor([47.2790, 40.2755, 39.3921], dtype=torch.float64)\n",
      "126\n",
      "(array([125, 126, 127]),)\n",
      "tensor(29.2427, dtype=torch.float64)\n",
      "tensor([28.9903, 29.2427, 29.3980], dtype=torch.float64)\n",
      "128\n",
      "(array([122, 128, 131]),)\n",
      "tensor(39.3921, dtype=torch.float64)\n",
      "tensor([40.2755, 39.3921, 33.3933], dtype=torch.float64)\n",
      "133\n",
      "(array([127, 133, 140]),)\n",
      "tensor(30.8485, dtype=torch.float64)\n",
      "tensor([29.3980, 30.8485, 31.9893], dtype=torch.float64)\n",
      "137\n",
      "(array([135, 137, 139]),)\n",
      "tensor(34.7666, dtype=torch.float64)\n",
      "tensor([34.4988, 34.7666, 35.9976], dtype=torch.float64)\n",
      "179\n",
      "(array([178, 179, 180]),)\n",
      "tensor(40.9556, dtype=torch.float64)\n",
      "tensor([54.3303, 40.9556, 40.5976], dtype=torch.float64)\n"
     ]
    }
   ],
   "source": [
    "for ind in range(len(actual_test_indices)):\n",
    "    print(actual_test_indices[ind])\n",
    "    print(np.where(adj[actual_test_indices[ind]]))\n",
    "    print(aqi_mean[actual_test_indices[ind]])\n",
    "    print(aqi_mean[np.where(adj[actual_test_indices[ind]])])"
   ]
  },
  {
   "cell_type": "code",
   "execution_count": null,
   "metadata": {},
   "outputs": [],
   "source": []
  },
  {
   "cell_type": "code",
   "execution_count": 222,
   "metadata": {},
   "outputs": [],
   "source": [
    "# TODO: too little data and too little input features"
   ]
  },
  {
   "cell_type": "code",
   "execution_count": 223,
   "metadata": {},
   "outputs": [],
   "source": [
    "# TODO: node normalization, may not be needed\n",
    "class GCNConvPy(Module):\n",
    "    \"\"\"\n",
    "    Simple GCN layer, similar to https://arxiv.org/abs/1609.02907\n",
    "    \"\"\"\n",
    "\n",
    "    def __init__(self, in_features, out_features, bias=True):\n",
    "        super(GCNConvPy, self).__init__()\n",
    "        self.in_features = in_features\n",
    "        self.out_features = out_features\n",
    "        self.weight = Parameter(torch.FloatTensor(in_features, out_features))\n",
    "        if bias:\n",
    "            self.bias = Parameter(torch.FloatTensor(out_features))\n",
    "        else:\n",
    "            self.register_parameter('bias', None)\n",
    "        self.reset_parameters()\n",
    "\n",
    "    def reset_parameters(self):\n",
    "        stdv = 1. / math.sqrt(self.weight.size(1))\n",
    "        self.weight.data.uniform_(-stdv, stdv)\n",
    "        if self.bias is not None:\n",
    "            self.bias.data.uniform_(-stdv, stdv)\n",
    "\n",
    "    def forward(self, input, adj, mask):\n",
    "        D = 1 / (1 + adj.sum(axis=1).unsqueeze(-1))\n",
    "#         D = 1 / (1 + torch.mm(adj, mask.unsqueeze(-1)))\n",
    "#         print(D)\n",
    "        support = torch.mm(input, self.weight)\n",
    "        output = D * torch.spmm(adj, support)\n",
    "#         print(output)\n",
    "#         output = torch.spmm(adj, support)\n",
    "        if self.bias is not None:\n",
    "            return output + self.bias\n",
    "        else:\n",
    "            return output\n",
    "\n",
    "    def __repr__(self):\n",
    "        return self.__class__.__name__ + ' (' \\\n",
    "               + str(self.in_features) + ' -> ' \\\n",
    "               + str(self.out_features) + ')'\n",
    "    \n",
    "# TODO/ASK: too many parameters\n",
    "class NetPy(torch.nn.Module):\n",
    "    def __init__(self):\n",
    "        super(NetPy, self).__init__()\n",
    "        self.conv1Mean = GCNConvPy(2,8)\n",
    "        self.conv2Mean = GCNConvPy(8,4)\n",
    "#         self.conv3Mean = GCNConv(2,2)\n",
    "        self.lrelu = nn.LeakyReLU(0.1)\n",
    "        self.lin3 = nn.Linear(4, 1)\n",
    "\n",
    "    def forward(self,data):\n",
    "#         x, adj = data['aqi'], data['adj']\n",
    "        x, adj = torch.cat((data['aqi'],data['mask'].view(-1,1)),1), data['adj']\n",
    "#         x = F.relu(self.conv1Mean(x, adj, data['mask']))\n",
    "        x = self.lrelu(self.conv1Mean(x, adj, data['mask']))\n",
    "        \n",
    "#         x = F.relu(self.conv2Mean(x, adj, data['mask']))\n",
    "        x = self.lrelu(self.conv2Mean(x, adj, data['mask']))\n",
    "    \n",
    "#         x = F.relu(self.conv3Mean(x, adj, data['mask']))\n",
    "        x = self.lin3(x)\n",
    "        return torch.squeeze(x)\n",
    "\n",
    "torch.manual_seed(42)    \n",
    "model2 = NetPy()\n",
    "if (optimizer == \"SGD\"):\n",
    "#     opt = torch.optim.SGD(model.parameters(), lr=0.0001, weight_decay=0.01, momentum = 0.1, nesterov=True)\n",
    "    opt = torch.optim.SGD(model2.parameters(), lr=0.0001) \n",
    "else:\n",
    "    opt = torch.optim.Adam(model2.parameters(), lr = 0.01)"
   ]
  },
  {
   "cell_type": "code",
   "execution_count": 224,
   "metadata": {},
   "outputs": [],
   "source": [
    "# aqi_mean = (aqi*mask).sum(axis=0)/(mask.sum(axis=0) + epsilon)\n",
    "# mask_mean = (mask).sum(axis=0)\n",
    "# mask_mean[mask_mean > 0] = 1\n",
    "# train_data = {\n",
    "#     'adj': adj_train,\n",
    "#     'aqi': aqi_mean_train.view(-1,1),\n",
    "#     'mask': torch.Tensor(mask_mean_train)\n",
    "# }\n",
    "\n",
    "# data = {\n",
    "#     'adj': torch.Tensor(adj),\n",
    "#     'aqi': torch.Tensor(aqi_mean).view(-1,1),\n",
    "#     'mask': torch.Tensor(mask_mean)\n",
    "# }"
   ]
  },
  {
   "cell_type": "code",
   "execution_count": 225,
   "metadata": {},
   "outputs": [],
   "source": [
    "def train_valid_split2(train_data):\n",
    "    train_nonzero_grids = list(np.array(range(train_data['mask'].shape[0]))[train_data['mask'] == 1])\n",
    "    \n",
    "    valid_indices = random.sample(train_nonzero_grids, int(len(train_nonzero_grids) * valid_fraction))\n",
    "    \n",
    "    \n",
    "    \n",
    "    aqi_mean_train_valid = train_data['aqi'] * 1\n",
    "    aqi_mean_train_valid[valid_indices] = 0\n",
    "\n",
    "    mask_mean_train_valid = train_data['mask'] * 1\n",
    "    mask_mean_train_valid[valid_indices] = 0\n",
    "    \n",
    "    new_adj = train_data['adj'].clone().detach()\n",
    "    new_adj[:, valid_indices] = 0\n",
    "    \n",
    "    train_valid_data = {\n",
    "        'adj': new_adj,\n",
    "        'aqi': aqi_mean_train_valid,\n",
    "        'mask': mask_mean_train_valid\n",
    "    }\n",
    "    \n",
    "    return train_valid_data, valid_indices"
   ]
  },
  {
   "cell_type": "code",
   "execution_count": 226,
   "metadata": {},
   "outputs": [],
   "source": [
    "def train(opt=opt, model=model2, train_data=train_data):\n",
    "    model.train()\n",
    "    opt.zero_grad()\n",
    "    train_valid_data, valid_indices = train_valid_split2(train_data)\n",
    "    output = model(train_valid_data)\n",
    "    print(output[:5])\n",
    "#     print(train_data['aqi'][0:5])\n",
    "    loss = F.mse_loss(torch.reshape(output,(-1,)) * train_data['mask'],torch.reshape(train_data['aqi'],(-1,)))\n",
    "#     loss *= len(train_data['mask'])/torch.sum(train_data['mask'])\n",
    "    loss.backward()\n",
    "    opt.step()\n",
    "    loss_valid = F.mse_loss(torch.reshape(output,(-1,))[valid_indices] * train_data['mask'][valid_indices],torch.reshape(train_data['aqi'],(-1,))[valid_indices])\n",
    "    loss_valid *= len(train_data['mask'][valid_indices])/torch.sum(train_data['mask'])\n",
    "    return loss.item(), loss_valid.item()"
   ]
  },
  {
   "cell_type": "code",
   "execution_count": 227,
   "metadata": {},
   "outputs": [
    {
     "name": "stdout",
     "output_type": "stream",
     "text": [
      "tensor([0.6194, 0.7424, 0.9559, 0.7641, 0.6383], grad_fn=<SliceBackward>)\n",
      "0: 1219.18798828125 105.77371215820312\n",
      "tensor([0.7854, 0.9514, 1.1584, 0.9757, 0.8103], grad_fn=<SliceBackward>)\n",
      "1: 1205.9093017578125 115.36407470703125\n",
      "tensor([0.9253, 1.1282, 1.4747, 1.1576, 0.9556], grad_fn=<SliceBackward>)\n",
      "2: 1194.619384765625 137.3960723876953\n",
      "tensor([0.8497, 1.3389, 1.6429, 1.3743, 1.1284], grad_fn=<SliceBackward>)\n",
      "3: 1180.50634765625 120.47059631347656\n",
      "tensor([1.2924, 1.3342, 2.0327, 1.6372, 1.3374], grad_fn=<SliceBackward>)\n",
      "4: 1164.4276123046875 144.8919219970703\n",
      "tensor([1.5346, 1.9034, 2.0350, 1.6087, 1.5085], grad_fn=<SliceBackward>)\n",
      "5: 1143.6510009765625 118.86035919189453\n",
      "tensor([1.8326, 2.2845, 2.5012, 2.3470, 0.3341], grad_fn=<SliceBackward>)\n",
      "6: 1118.6055908203125 104.55078887939453\n",
      "tensor([2.2009, 2.4141, 3.7013, 2.8325, 1.3565], grad_fn=<SliceBackward>)\n",
      "7: 1086.5552978515625 100.99078369140625\n",
      "tensor([2.6632, 3.2544, 4.3420, 3.4432, 1.6187], grad_fn=<SliceBackward>)\n",
      "8: 1052.875732421875 117.8448486328125\n",
      "tensor([3.2297, 4.0785, 5.4881, 4.1927, 3.3555], grad_fn=<SliceBackward>)\n",
      "9: 1005.7262573242188 101.52384948730469\n",
      "tensor([3.9468, 5.0020, 6.7937, 4.1484, 4.1030], grad_fn=<SliceBackward>)\n",
      "10: 954.9434814453125 122.75212860107422\n",
      "tensor([4.8331, 5.1138, 8.1866, 6.3189, 5.0272], grad_fn=<SliceBackward>)\n",
      "11: 885.7949829101562 82.5357666015625\n",
      "tensor([5.9575, 7.5964, 9.6164, 4.3231, 6.1998], grad_fn=<SliceBackward>)\n",
      "12: 810.0082397460938 102.22451782226562\n",
      "tensor([ 4.1743,  8.1307, 12.8645,  9.6636,  7.6519], grad_fn=<SliceBackward>)\n",
      "13: 709.5833740234375 67.55716705322266\n",
      "tensor([ 9.0924, 10.0682, 15.9841, 11.9833,  9.4701], grad_fn=<SliceBackward>)\n",
      "14: 600.8468017578125 62.75408935546875\n",
      "tensor([11.2005, 14.3775, 19.7627, 14.7911, 11.6696], grad_fn=<SliceBackward>)\n",
      "15: 481.18310546875 56.3182258605957\n",
      "tensor([13.6549, 17.5557, 24.0152, 18.0621, 14.2307], grad_fn=<SliceBackward>)\n",
      "16: 358.5911865234375 52.86307144165039\n",
      "tensor([16.3482, 17.3504, 29.0040, 18.7984, 17.0413], grad_fn=<SliceBackward>)\n",
      "17: 255.78639221191406 45.27931213378906\n",
      "tensor([19.1023, 24.6142, 24.6298, 25.3272, 19.9156], grad_fn=<SliceBackward>)\n",
      "18: 179.77755737304688 51.72626876831055\n",
      "tensor([20.4133, 24.0545, 38.5603, 28.7455, 22.5893], grad_fn=<SliceBackward>)\n",
      "19: 120.51652526855469 32.94205856323242\n",
      "tensor([17.0294, 30.7505, 42.4661, 31.6433, 24.8555], grad_fn=<SliceBackward>)\n",
      "20: 71.88279724121094 29.55220603942871\n",
      "tensor([25.2385, 14.7731, 42.7522, 33.5160, 26.3199], grad_fn=<SliceBackward>)\n",
      "21: 47.45680618286133 13.125713348388672\n",
      "tensor([26.1521, 33.7545, 33.7738, 34.7355, 27.2735], grad_fn=<SliceBackward>)\n",
      "22: 49.39196014404297 14.770915031433105\n",
      "tensor([26.8859, 33.0220, 45.9485, 28.3276, 28.0394], grad_fn=<SliceBackward>)\n",
      "23: 46.734962463378906 6.7634406089782715\n",
      "tensor([27.2848, 35.2234, 48.6724, 36.2474, 28.4558], grad_fn=<SliceBackward>)\n",
      "24: 55.22157287597656 20.243335723876953\n",
      "tensor([27.3810, 35.3479, 43.6417, 36.3755, 28.5561], grad_fn=<SliceBackward>)\n",
      "25: 50.72989273071289 18.301864624023438\n",
      "tensor([27.6302, 35.6710, 49.2931, 19.5801, 28.8162], grad_fn=<SliceBackward>)\n",
      "26: 53.31784439086914 18.236501693725586\n",
      "tensor([27.7636, 35.8440, 40.8940, 36.8861, 28.9555], grad_fn=<SliceBackward>)\n",
      "27: 40.60935974121094 7.672748565673828\n",
      "tensor([ 0.7891, 20.6957, 49.4097, 36.7948, 20.9688], grad_fn=<SliceBackward>)\n",
      "28: 49.55637741088867 18.410831451416016\n",
      "tensor([27.5615, 35.5814, 49.1681, 29.0397, 15.3197], grad_fn=<SliceBackward>)\n",
      "29: 42.10074996948242 9.978577613830566\n",
      "tensor([27.5298, 28.6025, 49.1106, 36.5733, 20.8446], grad_fn=<SliceBackward>)\n",
      "30: 62.09638977050781 29.354150772094727\n",
      "tensor([27.6691, 35.7207, 45.6219, 36.7591, 28.8567], grad_fn=<SliceBackward>)\n",
      "31: 48.037593841552734 8.492927551269531\n",
      "tensor([27.8788, 35.9925, 49.7380, 37.0389, 15.4938], grad_fn=<SliceBackward>)\n",
      "32: 43.33021926879883 15.90031623840332\n",
      "tensor([27.6080, 35.6412, 49.2501, 36.6772, 28.7929], grad_fn=<SliceBackward>)\n",
      "33: 55.47475814819336 23.01054573059082\n",
      "tensor([27.5883, 29.3002, 45.4864, 31.7718, 28.7722], grad_fn=<SliceBackward>)\n",
      "34: 44.12023162841797 7.945859909057617\n",
      "tensor([27.6971, 35.7564, 49.4096, 36.7957, 28.8858], grad_fn=<SliceBackward>)\n",
      "35: 51.528404235839844 17.715862274169922\n",
      "tensor([27.6212, 34.5340, 49.2724, 19.5754, 28.8066], grad_fn=<SliceBackward>)\n",
      "36: 63.409000396728516 26.279367446899414\n",
      "tensor([27.6924, 35.7499, 45.6583, 36.7890, 28.8809], grad_fn=<SliceBackward>)\n",
      "37: 53.702693939208984 24.276487350463867\n",
      "tensor([26.1948, 28.5694, 49.6099, 36.9448, 29.0028], grad_fn=<SliceBackward>)\n",
      "38: 51.48899841308594 20.693973541259766\n",
      "tensor([27.7728, 35.8538, 45.7912, 31.9844, 21.0284], grad_fn=<SliceBackward>)\n",
      "39: 51.150272369384766 9.355584144592285\n",
      "tensor([19.8676, 35.9427, 49.6671, 36.9874, 29.0363], grad_fn=<SliceBackward>)\n",
      "40: 44.269309997558594 12.052282333374023\n",
      "tensor([27.7911, 35.8773, 48.4329,  0.7966, 28.9838], grad_fn=<SliceBackward>)\n",
      "41: 43.73110580444336 12.516205787658691\n",
      "tensor([19.7844, 35.7895, 49.4540, 36.8296, 28.9132], grad_fn=<SliceBackward>)\n",
      "42: 46.497398376464844 17.192893981933594\n",
      "tensor([25.9995, 33.9018, 49.2338, 31.7862, 28.7858], grad_fn=<SliceBackward>)\n",
      "43: 53.76313018798828 18.193349838256836\n",
      "tensor([27.6106, 29.3236, 49.2497, 31.7967, 28.7953], grad_fn=<SliceBackward>)\n",
      "44: 59.15720748901367 26.58128547668457\n",
      "tensor([27.5931, 30.6520, 38.3936, 29.0722, 28.7770], grad_fn=<SliceBackward>)\n",
      "45: 42.40381622314453 12.77214527130127\n",
      "tensor([27.6130, 30.6740, 48.1174, 36.6812, 28.7978], grad_fn=<SliceBackward>)\n",
      "46: 40.37701416015625 9.58155632019043\n",
      "tensor([27.6178, 35.6514, 45.5304, 36.6874, 28.8027], grad_fn=<SliceBackward>)\n",
      "47: 55.095970153808594 25.442047119140625\n",
      "tensor([27.6613, 33.9749, 40.9620, 36.7453, 28.8481], grad_fn=<SliceBackward>)\n",
      "48: 41.575443267822266 5.572168827056885\n",
      "tensor([27.7268, 35.7925, 49.4565, 36.8325, 28.9165], grad_fn=<SliceBackward>)\n",
      "49: 68.70659637451172 28.905277252197266\n",
      "tensor([27.7656, 28.8471, 47.4535, 36.8841, 28.9569], grad_fn=<SliceBackward>)\n",
      "50: 45.659847259521484 12.932628631591797\n",
      "tensor([27.6342, 33.9410, 39.1492, 31.8232, 28.8197], grad_fn=<SliceBackward>)\n",
      "51: 49.771175384521484 11.040534973144531\n",
      "tensor([26.1847, 29.5225, 49.5830, 36.9269, 27.2101], grad_fn=<SliceBackward>)\n",
      "52: 53.15632629394531 12.416125297546387\n",
      "tensor([19.7623, 34.0091, 49.3874, 36.7820, 20.9679], grad_fn=<SliceBackward>)\n",
      "53: 49.866825103759766 14.908292770385742\n",
      "tensor([15.2014, 35.8124, 45.7354, 31.9484, 28.9331], grad_fn=<SliceBackward>)\n",
      "54: 59.520633697509766 19.374961853027344\n",
      "tensor([27.9653, 29.7003, 49.1759, 37.1496, 21.1754], grad_fn=<SliceBackward>)\n",
      "55: 51.38882827758789 21.177898406982422\n",
      "tensor([19.6772, 35.5860, 49.1681, 36.6198, 15.3307], grad_fn=<SliceBackward>)\n",
      "56: 46.30281066894531 11.543286323547363\n",
      "tensor([27.5868, 35.6094, 47.1421, 36.6439, 28.7701], grad_fn=<SliceBackward>)\n",
      "57: 62.407264709472656 30.471641540527344\n",
      "tensor([15.2520, 35.9311, 49.6465, 36.9749, 29.0291], grad_fn=<SliceBackward>)\n",
      "58: 52.356266021728516 21.758487701416016\n",
      "tensor([27.6950, 35.7494, 49.3942, 36.7879, 27.1095], grad_fn=<SliceBackward>)\n",
      "59: 38.025978088378906 7.89622688293457\n",
      "tensor([27.7227, 35.7852, 49.4437, 36.8248, 28.9119], grad_fn=<SliceBackward>)\n",
      "60: 53.87483596801758 18.914058685302734\n",
      "tensor([15.1461, 35.6735, 49.2884, 19.5905, 28.8221], grad_fn=<SliceBackward>)\n",
      "61: 46.503196716308594 7.907548904418945\n",
      "tensor([27.7330, 34.6705, 49.4613, 36.8381, 28.9226], grad_fn=<SliceBackward>)\n",
      "62: 54.24245071411133 28.611934661865234\n",
      "tensor([26.4073, 29.7732, 49.6848, 19.8698, 29.2369], grad_fn=<SliceBackward>)\n",
      "63: 47.65691375732422 16.984956741333008\n",
      "tensor([26.1464, 20.7462, 49.5034, 36.8695, 28.9474], grad_fn=<SliceBackward>)\n",
      "64: 68.38037109375 32.28361129760742\n",
      "tensor([27.6785, 35.7270, 49.3617, 36.7647, 28.8656], grad_fn=<SliceBackward>)\n",
      "65: 48.25853729248047 11.148660659790039\n",
      "tensor([27.7156, 35.7750, 45.6854, 36.8141, 28.9043], grad_fn=<SliceBackward>)\n",
      "66: 45.11993408203125 5.3713507652282715\n",
      "tensor([19.8162, 28.8437, 48.3712, 31.9701, 28.9534], grad_fn=<SliceBackward>)\n",
      "67: 47.812679290771484 10.904848098754883\n",
      "tensor([19.8777, 35.9482, 49.6680, 36.9923, 29.0439], grad_fn=<SliceBackward>)\n",
      "68: 44.36271667480469 10.373419761657715\n",
      "tensor([27.7823, 34.1212, 49.5468, 31.9925, 28.9738], grad_fn=<SliceBackward>)\n",
      "69: 53.71019744873047 19.07248878479004\n",
      "tensor([19.8794, 29.5785, 49.6706, 19.7426, 29.0459], grad_fn=<SliceBackward>)\n",
      "70: 49.28012466430664 8.590523719787598\n",
      "tensor([27.8240, 35.9147, 44.3369, 36.9578, 29.0173], grad_fn=<SliceBackward>)\n",
      "71: 41.53719711303711 13.780925750732422\n",
      "tensor([19.8139, 35.8295, 48.3615, 29.2451, 28.9488], grad_fn=<SliceBackward>)\n",
      "72: 46.08467102050781 13.395753860473633\n",
      "tensor([27.6643, 35.7073, 48.6339, 36.7442, 28.8506], grad_fn=<SliceBackward>)\n",
      "73: 44.77341079711914 14.503018379211426\n",
      "tensor([27.6009, 33.8969, 37.2800, 36.6593, 20.9038], grad_fn=<SliceBackward>)\n",
      "74: 48.39722442626953 12.065637588500977\n",
      "tensor([27.6717, 35.7165, 49.0309, 29.1535, 15.3917], grad_fn=<SliceBackward>)\n",
      "75: 48.29132843017578 14.59104061126709\n",
      "tensor([27.8544, 28.9388, 49.6734, 36.9974, 29.0489], grad_fn=<SliceBackward>)\n",
      "76: 50.034568786621094 16.473386764526367\n",
      "tensor([27.7976, 35.8796, 48.8687, 19.7060, 28.9896], grad_fn=<SliceBackward>)\n",
      "77: 50.48101043701172 19.45957374572754\n",
      "tensor([27.6738, 33.9864, 49.3475, 36.7559, 28.8604], grad_fn=<SliceBackward>)\n",
      "78: 44.31920623779297 10.766422271728516\n",
      "tensor([27.5782, 28.3313, 49.1749, 36.6281, 28.7606], grad_fn=<SliceBackward>)\n",
      "79: 56.90671157836914 20.989791870117188\n",
      "tensor([27.6627, 35.7040, 49.3263, 36.7406, 28.8487], grad_fn=<SliceBackward>)\n",
      "80: 44.945011138916016 10.469691276550293\n",
      "tensor([15.1259, 35.6091, 49.1943, 36.6428, 28.7724], grad_fn=<SliceBackward>)\n",
      "81: 48.66185760498047 13.724382400512695\n",
      "tensor([27.6447, 30.7068, 48.9793, 31.8324, 28.8298], grad_fn=<SliceBackward>)\n",
      "82: 52.350624084472656 21.987945556640625\n",
      "tensor([27.9041, 29.6341, 49.7595, 37.0623, 29.1006], grad_fn=<SliceBackward>)\n",
      "83: 48.01363754272461 14.217933654785156\n",
      "tensor([27.6805, 35.7264, 40.7547, 36.7636, 28.8672], grad_fn=<SliceBackward>)\n",
      "84: 61.81083297729492 32.32172393798828\n",
      "tensor([27.5299, 35.5308, 47.0320, 36.5622, 28.7099], grad_fn=<SliceBackward>)\n",
      "85: 45.55674362182617 13.349528312683105\n",
      "tensor([27.5227, 16.1039, 45.3569, 36.5524, 28.7024], grad_fn=<SliceBackward>)\n",
      "86: 51.205875396728516 14.330169677734375\n",
      "tensor([27.6362, 35.6684, 49.2751,  0.8200, 28.8209], grad_fn=<SliceBackward>)\n",
      "87: 60.45785140991211 27.67685890197754\n",
      "tensor([27.5530, 28.6251, 49.1248, 36.5924, 26.9709], grad_fn=<SliceBackward>)\n",
      "88: 46.99788284301758 12.330086708068848\n",
      "tensor([27.6368, 35.6687, 48.9617, 29.1160, 28.8214], grad_fn=<SliceBackward>)\n",
      "89: 49.35531234741211 14.297061920166016\n",
      "tensor([27.6502, 35.6860, 48.1630, 36.7218, 28.8354], grad_fn=<SliceBackward>)\n",
      "90: 50.030582427978516 15.597249031066895\n",
      "tensor([27.8001, 35.8802, 41.1557, 29.2880, 21.0559], grad_fn=<SliceBackward>)\n",
      "91: 34.97780990600586 7.237855911254883\n",
      "tensor([15.2027, 34.6582, 49.4357, 17.0488, 21.0009], grad_fn=<SliceBackward>)\n",
      "92: 54.483211517333984 24.48561668395996\n",
      "tensor([27.8088, 35.8912, 48.8810, 36.9330, 29.0009], grad_fn=<SliceBackward>)\n",
      "93: 51.46541213989258 19.77027130126953\n",
      "tensor([27.7108, 35.7639, 49.4061, 17.0396, 28.8985], grad_fn=<SliceBackward>)\n"
     ]
    },
    {
     "name": "stdout",
     "output_type": "stream",
     "text": [
      "94: 56.36498260498047 27.216339111328125\n",
      "tensor([27.9460, 34.9331, 49.8291, 37.1158, 27.3555], grad_fn=<SliceBackward>)\n",
      "95: 41.209896087646484 7.426405429840088\n",
      "tensor([27.7019, 34.6265, 49.3894, 36.7897, 28.8892], grad_fn=<SliceBackward>)\n",
      "96: 47.99319076538086 20.213476181030273\n",
      "tensor([19.6642, 34.4244, 48.7870, 36.5748, 28.7213], grad_fn=<SliceBackward>)\n",
      "97: 40.07844543457031 6.064754009246826\n",
      "tensor([27.5143, 35.5084, 46.1316, 28.9864, 28.6933], grad_fn=<SliceBackward>)\n",
      "98: 45.257164001464844 12.637796401977539\n",
      "tensor([27.4758, 29.1781, 48.6693, 36.4871, 26.8955], grad_fn=<SliceBackward>)\n",
      "99: 55.763572692871094 21.532535552978516\n",
      "tensor([27.7307, 28.8097, 47.3718, 31.9301, 28.9192], grad_fn=<SliceBackward>)\n",
      "100: 46.19826126098633 16.771944046020508\n",
      "tensor([19.8665, 34.1711, 49.6107, 36.9546, 29.0188], grad_fn=<SliceBackward>)\n",
      "101: 59.179813385009766 24.574031829833984\n",
      "tensor([27.9371, 36.0562, 49.8100, 37.1025, 29.1346], grad_fn=<SliceBackward>)\n",
      "102: 40.426368713378906 9.475340843200684\n",
      "tensor([26.1582, 35.8365, 45.7579, 36.8764, 28.9579], grad_fn=<SliceBackward>)\n",
      "103: 57.87831497192383 28.29168701171875\n",
      "tensor([19.9066, 34.2399, 49.7104, 37.0289, 29.0772], grad_fn=<SliceBackward>)\n",
      "104: 46.17869567871094 11.172727584838867\n",
      "tensor([27.6786, 33.9887, 49.3435, 36.7569, 28.8647], grad_fn=<SliceBackward>)\n",
      "105: 49.20642852783203 16.17101287841797\n",
      "tensor([27.6253, 21.3937, 49.2470, 36.6855, 28.8090], grad_fn=<SliceBackward>)\n",
      "106: 43.331520080566406 11.732403755187988\n",
      "tensor([15.1703, 28.7355, 49.3083, 36.7311, 28.8448], grad_fn=<SliceBackward>)\n",
      "107: 45.203529357910156 9.732420921325684\n",
      "tensor([27.6525, 30.7138, 49.2951, 36.7214, 20.9471], grad_fn=<SliceBackward>)\n",
      "108: 52.912132263183594 19.450841903686523\n",
      "tensor([27.6343, 30.6935, 47.2020, 36.6969, 28.8183], grad_fn=<SliceBackward>)\n",
      "109: 52.891544342041016 19.760318756103516\n",
      "tensor([19.7483, 35.6919, 49.3027, 36.7273, 15.3927], grad_fn=<SliceBackward>)\n",
      "110: 53.22548294067383 21.475744247436523\n",
      "tensor([19.7142, 35.6288, 49.2148, 19.5789, 28.7916], grad_fn=<SliceBackward>)\n",
      "111: 48.8660888671875 15.407698631286621\n",
      "tensor([27.6889, 35.7325, 49.3586, 36.7691, 28.8752], grad_fn=<SliceBackward>)\n",
      "112: 65.74932098388672 20.661041259765625\n",
      "tensor([27.8314, 35.9173, 47.1663, 36.9593, 29.0240], grad_fn=<SliceBackward>)\n",
      "113: 47.52858352661133 15.636850357055664\n",
      "tensor([27.5990, 29.3086, 43.9603, 36.6488, 20.9076], grad_fn=<SliceBackward>)\n",
      "114: 41.592735290527344 6.105410099029541\n",
      "tensor([26.1132, 30.7880, 48.7130, 36.8096, 28.9072], grad_fn=<SliceBackward>)\n",
      "115: 58.84135055541992 33.12183380126953\n",
      "tensor([27.6190, 29.3298, 47.1726, 36.6751, 28.8022], grad_fn=<SliceBackward>)\n",
      "116: 48.044883728027344 15.191560745239258\n",
      "tensor([27.7115, 29.4280, 49.3969, 36.7983, 28.8987], grad_fn=<SliceBackward>)\n",
      "117: 44.60898208618164 6.733233451843262\n",
      "tensor([27.7570, 34.6925, 49.4784, 36.8589, 27.1709], grad_fn=<SliceBackward>)\n",
      "118: 47.58554458618164 14.171041488647461\n",
      "tensor([27.7803, 35.8499, 45.7723, 36.8898, 28.9704], grad_fn=<SliceBackward>)\n",
      "119: 46.870460510253906 17.163002014160156\n",
      "tensor([27.5955, 35.6101, 49.1868, 36.6429, 28.7775], grad_fn=<SliceBackward>)\n",
      "120: 48.607852935791016 11.628637313842773\n",
      "tensor([27.7013, 28.7785, 49.3767, 36.7839, 27.1164], grad_fn=<SliceBackward>)\n",
      "121: 56.76601791381836 31.08913230895996\n",
      "tensor([27.4402, 35.4082, 35.4274, 36.4351, 15.2773], grad_fn=<SliceBackward>)\n",
      "122: 50.306827545166016 15.351454734802246\n",
      "tensor([27.5451, 35.5442, 48.7824, 36.5750, 26.9637], grad_fn=<SliceBackward>)\n",
      "123: 56.005516052246094 24.29237174987793\n",
      "tensor([27.5383, 35.5351, 49.0818, 36.5657, 20.8634], grad_fn=<SliceBackward>)\n",
      "124: 51.79075622558594 21.712892532348633\n",
      "tensor([27.5851, 28.6576, 49.1654, 36.6278, 28.7665], grad_fn=<SliceBackward>)\n",
      "125: 46.15281677246094 13.158541679382324\n",
      "tensor([27.6767, 30.7394, 49.3299, 36.7500, 28.8621], grad_fn=<SliceBackward>)\n",
      "126: 45.38050842285156 15.336515426635742\n",
      "tensor([27.4994, 35.4842, 48.6987, 36.5131, 28.6770], grad_fn=<SliceBackward>)\n",
      "127: 61.37300491333008 34.31818389892578\n",
      "tensor([27.4049, 35.3615, 48.8398, 36.3868, 28.5784], grad_fn=<SliceBackward>)\n",
      "128: 43.01313781738281 8.9944429397583\n",
      "tensor([27.5056, 35.4919, 49.0206, 19.5095, 28.6835], grad_fn=<SliceBackward>)\n",
      "129: 49.26438522338867 14.82192325592041\n",
      "tensor([25.9169, 30.5539, 49.0283, 28.9806, 15.7852], grad_fn=<SliceBackward>)\n",
      "130: 46.52862548828125 11.233746528625488\n",
      "tensor([15.1247, 35.5655, 49.1221, 31.7332, 28.7430], grad_fn=<SliceBackward>)\n",
      "131: 51.882015228271484 17.782352447509766\n",
      "tensor([27.5313, 35.5246, 48.7532, 19.5281, 28.7102], grad_fn=<SliceBackward>)\n",
      "132: 44.390220642089844 7.727071285247803\n",
      "tensor([27.6302, 29.3410, 49.2427, 36.6864, 28.8134], grad_fn=<SliceBackward>)\n",
      "133: 54.104248046875 24.47463607788086\n",
      "tensor([15.2008, 35.7463, 49.3723, 19.6487, 15.4239], grad_fn=<SliceBackward>)\n",
      "134: 40.535526275634766 9.980128288269043\n",
      "tensor([27.7373, 35.7913, 40.8244, 31.9344, 28.9252], grad_fn=<SliceBackward>)\n",
      "135: 49.090675354003906 16.12957191467285\n",
      "tensor([27.7759, 30.8491, 49.5035, 36.8803, 15.4645], grad_fn=<SliceBackward>)\n",
      "136: 53.78403091430664 19.80771255493164\n",
      "tensor([26.0007, 35.6117, 40.6189, 31.7747, 15.3682], grad_fn=<SliceBackward>)\n",
      "137: 48.26747131347656 15.92480182647705\n",
      "tensor([27.6479, 35.6748, 48.5749, 36.7090, 28.8317], grad_fn=<SliceBackward>)\n",
      "138: 53.76961898803711 26.042667388916016\n",
      "tensor([27.4337, 35.3968, 48.8862, 36.4229, 28.6082], grad_fn=<SliceBackward>)\n",
      "139: 60.093387603759766 17.810571670532227\n",
      "tensor([27.6732, 29.3865, 39.4831, 36.7423, 28.8581], grad_fn=<SliceBackward>)\n",
      "140: 54.16438293457031 17.856578826904297\n",
      "tensor([27.8182, 34.1558, 37.5609, 36.9356, 29.0093], grad_fn=<SliceBackward>)\n",
      "141: 62.20932388305664 18.607297897338867\n",
      "tensor([26.2672, 35.9779, 45.9322, 37.0209, 29.0762], grad_fn=<SliceBackward>)\n",
      "142: 50.644554138183594 18.576339721679688\n",
      "tensor([27.7196, 35.7668, 48.2612, 36.8036, 21.0024], grad_fn=<SliceBackward>)\n",
      "143: 43.63144302368164 12.10177993774414\n",
      "tensor([27.7336, 35.7849, 45.6845, 36.8222, 21.0131], grad_fn=<SliceBackward>)\n",
      "144: 55.45819091796875 24.418180465698242\n",
      "tensor([27.7461, 35.8009, 49.4455, 36.8386, 28.9340], grad_fn=<SliceBackward>)\n",
      "145: 41.76473617553711 13.739641189575195\n",
      "tensor([27.8323, 28.9141, 45.8479, 29.3193, 29.0239], grad_fn=<SliceBackward>)\n",
      "146: 44.34794616699219 10.013713836669922\n",
      "tensor([15.2499, 35.8546, 48.8190, 36.8939, 28.9774], grad_fn=<SliceBackward>)\n",
      "147: 49.009788513183594 11.363947868347168\n",
      "tensor([27.7232, 35.7708, 48.2657, 31.9170, 21.0057], grad_fn=<SliceBackward>)\n",
      "148: 50.37289047241211 22.921371459960938\n",
      "tensor([27.6517, 30.7101, 48.5768, 36.7119, 28.8354], grad_fn=<SliceBackward>)\n",
      "149: 54.77634048461914 24.203378677368164\n",
      "tensor([27.6334, 30.6896, 48.1069, 36.6873, 28.8163], grad_fn=<SliceBackward>)\n",
      "150: 44.24383544921875 16.304712295532227\n",
      "tensor([27.6789, 35.7128, 40.7332, 36.7478, 28.8637], grad_fn=<SliceBackward>)\n",
      "151: 45.609130859375 12.032392501831055\n",
      "tensor([27.7623, 35.8208, 47.0108, 36.8590, 15.4613], grad_fn=<SliceBackward>)\n",
      "152: 38.84128952026367 5.493048191070557\n",
      "tensor([27.7107, 28.7876, 49.3784, 36.7899, 28.8969], grad_fn=<SliceBackward>)\n",
      "153: 51.171630859375 15.998530387878418\n",
      "tensor([15.2097, 35.7519, 47.3118, 36.7879, 28.8955], grad_fn=<SliceBackward>)\n",
      "154: 61.743648529052734 23.068004608154297\n",
      "tensor([27.6930, 25.6281, 49.3454, 36.7658, 28.8784], grad_fn=<SliceBackward>)\n",
      "155: 49.86122512817383 15.120957374572754\n",
      "tensor([27.6349, 35.6547, 39.4240, 36.6879, 28.8176], grad_fn=<SliceBackward>)\n",
      "156: 43.58261489868164 12.388472557067871\n",
      "tensor([27.9429, 36.0541, 47.7130, 37.0990, 29.1391], grad_fn=<SliceBackward>)\n",
      "157: 41.04062271118164 6.296503067016602\n",
      "tensor([15.2526, 35.8522, 49.5138, 29.2713, 28.9767], grad_fn=<SliceBackward>)\n",
      "158: 56.75387191772461 19.17769432067871\n",
      "tensor([19.7878, 34.6171, 48.2231, 36.7767, 20.9910], grad_fn=<SliceBackward>)\n",
      "159: 48.76953125 18.9818172454834\n",
      "tensor([27.6684, 35.6976, 44.0550, 36.7320, 28.8525], grad_fn=<SliceBackward>)\n",
      "160: 44.705501556396484 16.168325424194336\n",
      "tensor([27.6813, 35.7142, 49.3216, 36.7490, 28.8659], grad_fn=<SliceBackward>)\n",
      "161: 50.654258728027344 10.306455612182617\n",
      "tensor([27.6691, 28.4234, 48.1644, 19.6298, 28.8532], grad_fn=<SliceBackward>)\n"
     ]
    },
    {
     "name": "stdout",
     "output_type": "stream",
     "text": [
      "162: 57.07843780517578 16.905193328857422\n",
      "tensor([27.7603, 29.4782, 49.1483, 36.8540, 21.0356], grad_fn=<SliceBackward>)\n",
      "163: 49.90898132324219 8.738123893737793\n",
      "tensor([27.8577, 35.9424, 49.6375, 29.3452, 29.0500], grad_fn=<SliceBackward>)\n",
      "164: 50.575111389160156 21.65534210205078\n",
      "tensor([26.1669, 35.8347, 49.4878, 36.8729, 28.9634], grad_fn=<SliceBackward>)\n",
      "165: 53.917930603027344 11.343740463256836\n",
      "tensor([27.7250, 32.9129, 49.3978, 36.8063, 28.9115], grad_fn=<SliceBackward>)\n",
      "166: 45.672115325927734 13.799849510192871\n",
      "tensor([27.8077, 35.8771, 49.5462, 36.9165, 28.9977], grad_fn=<SliceBackward>)\n",
      "167: 48.262142181396484 14.200675964355469\n",
      "tensor([19.8049, 34.6435, 48.0799, 36.8043, 28.9102], grad_fn=<SliceBackward>)\n",
      "168: 49.675331115722656 7.486685276031494\n",
      "tensor([27.8531, 34.8057, 49.6271, 32.0650, 29.0451], grad_fn=<SliceBackward>)\n",
      "169: 54.375648498535156 19.294553756713867\n",
      "tensor([27.9071, 34.8732, 49.7238, 37.0486, 29.1014], grad_fn=<SliceBackward>)\n",
      "170: 55.521400451660156 19.9558162689209\n",
      "tensor([27.6897, 35.7234, 45.6011, 36.7582, 28.8745], grad_fn=<SliceBackward>)\n",
      "171: 47.17052459716797 15.190692901611328\n",
      "tensor([27.6032, 28.6754, 49.1759, 36.6425, 27.0212], grad_fn=<SliceBackward>)\n",
      "172: 62.58009719848633 31.392364501953125\n",
      "tensor([27.5851, 22.7826, 40.5879,  0.8654, 20.9052], grad_fn=<SliceBackward>)\n",
      "173: 66.72820281982422 34.41311264038086\n",
      "tensor([27.6424, 34.5403, 38.4312, 36.6943, 15.4015], grad_fn=<SliceBackward>)\n",
      "174: 39.020015716552734 6.072120666503906\n",
      "tensor([26.1445, 35.8016, 49.4395, 36.8385, 15.4608], grad_fn=<SliceBackward>)\n",
      "175: 49.87548065185547 14.420296669006348\n",
      "tensor([ 0.8683, 34.0345, 49.3904, 36.8023, 28.9097], grad_fn=<SliceBackward>)\n",
      "176: 51.414058685302734 18.23731231689453\n",
      "tensor([27.6937, 35.7275, 49.3362, 36.7622, 27.1098], grad_fn=<SliceBackward>)\n",
      "177: 45.378944396972656 9.92345142364502\n",
      "tensor([27.7088, 34.6231, 49.3629, 29.1876, 28.8943], grad_fn=<SliceBackward>)\n",
      "178: 53.865882873535156 20.523406982421875\n",
      "tensor([27.6354, 35.6515, 47.4009, 29.1101, 28.8176], grad_fn=<SliceBackward>)\n",
      "179: 43.42905807495117 14.85094928741455\n",
      "tensor([27.6117, 35.6206, 49.1871, 36.6521, 28.7928], grad_fn=<SliceBackward>)\n",
      "180: 45.246334075927734 8.243712425231934\n",
      "tensor([19.7362, 35.6361, 45.4875, 36.6681, 28.8054], grad_fn=<SliceBackward>)\n",
      "181: 44.541141510009766 13.346481323242188\n",
      "tensor([27.5852, 20.6354, 47.0855, 36.6163, 28.7651], grad_fn=<SliceBackward>)\n",
      "182: 41.95688247680664 15.244913101196289\n",
      "tensor([27.5374, 35.5238, 40.5144, 36.5524, 28.7152], grad_fn=<SliceBackward>)\n",
      "183: 45.86096954345703 17.491533279418945\n",
      "tensor([27.5762, 35.5739, 45.4073, 19.5682, 28.7557], grad_fn=<SliceBackward>)\n",
      "184: 54.21049118041992 20.073741912841797\n",
      "tensor([27.6085, 35.6156, 45.4605, 36.6469, 28.7894], grad_fn=<SliceBackward>)\n",
      "185: 51.29355239868164 16.466569900512695\n",
      "tensor([19.7001, 35.5675, 49.1120, 36.5973, 28.7508], grad_fn=<SliceBackward>)\n",
      "186: 43.269718170166016 8.432269096374512\n",
      "tensor([27.6808, 35.7090, 45.5798, 36.7430, 27.0973], grad_fn=<SliceBackward>)\n",
      "187: 50.00444030761719 15.568706512451172\n",
      "tensor([27.7411, 35.7870, 49.4161, 36.8232, 27.1563], grad_fn=<SliceBackward>)\n",
      "188: 39.49322509765625 6.32539701461792\n",
      "tensor([27.7266, 35.7680, 44.1378, 36.8036, 28.9125], grad_fn=<SliceBackward>)\n",
      "189: 57.60667037963867 28.304121017456055\n",
      "tensor([19.7154, 35.5936, 49.1473, 29.0640, 28.7723], grad_fn=<SliceBackward>)\n",
      "190: 52.1956787109375 19.065385818481445\n",
      "tensor([27.5875, 33.8647, 47.0854, 36.6175, 28.7673], grad_fn=<SliceBackward>)\n",
      "191: 41.593849182128906 11.345526695251465\n",
      "tensor([27.6877, 35.7170, 49.0047, 31.8717, 28.8718], grad_fn=<SliceBackward>)\n",
      "192: 48.68473434448242 17.218677520751953\n",
      "tensor([27.6302, 35.6423, 47.1582, 36.6741, 28.8118], grad_fn=<SliceBackward>)\n",
      "193: 44.31332778930664 12.36208724975586\n",
      "tensor([19.7862, 32.8699, 47.2633, 36.7556, 28.8756], grad_fn=<SliceBackward>)\n",
      "194: 42.62864303588867 10.225093841552734\n",
      "tensor([27.6430, 33.9326, 49.2363, 36.6908, 28.8250], grad_fn=<SliceBackward>)\n",
      "195: 54.0908203125 22.57973289489746\n",
      "tensor([27.8234, 29.5440, 44.2909, 36.9315, 29.0133], grad_fn=<SliceBackward>)\n",
      "196: 50.178077697753906 20.26358413696289\n",
      "tensor([27.9951, 36.1150, 44.5663, 37.1606, 29.1926], grad_fn=<SliceBackward>)\n",
      "197: 40.71841812133789 6.6603546142578125\n",
      "tensor([27.9889, 29.0758, 44.5561, 37.1521, 29.1861], grad_fn=<SliceBackward>)\n",
      "198: 46.109375 10.704503059387207\n",
      "tensor([27.9235, 36.0218, 49.0363, 37.0646, 29.1178], grad_fn=<SliceBackward>)\n",
      "199: 57.046268463134766 15.650321006774902\n",
      "0.4087860584259033\n"
     ]
    }
   ],
   "source": [
    "# TODO: add validation masking\n",
    "from time import time\n",
    "t0 = time()\n",
    "loss_array = []\n",
    "for i in range(n_epochs):\n",
    "    loss, loss_valid = train()\n",
    "    loss_array.append(loss)\n",
    "    print(str(i)+\":\", loss, loss_valid)\n",
    "print(time() - t0)"
   ]
  },
  {
   "cell_type": "code",
   "execution_count": 229,
   "metadata": {},
   "outputs": [
    {
     "data": {
      "image/png": "[encoded data removed]",
      "text/plain": [
       "<Figure size 432x288 with 1 Axes>"
      ]
     },
     "metadata": {
      "needs_background": "light"
     },
     "output_type": "display_data"
    }
   ],
   "source": [
    "import matplotlib.pyplot as plt\n",
    "titleFontSize = 15\n",
    "labelFontSize = 12\n",
    "tickFontSize = 10\n",
    "legendFontSize = 10\n",
    "labelStr = \"size = \"\n",
    "yLabel = \"% of test points with lower error\"\n",
    "xLabel = \"Error %\"\n",
    "count_arr = [i for i in range(1, len(loss_array) + 1)]\n",
    "plt.plot(count_arr, loss_array, label = \"loss\", color='red')\n",
    "plt.title(\"Training loss vs epochs(Pytorch)\", fontsize=titleFontSize)\n",
    "plt.xlabel(\"Epochs\", fontsize=labelFontSize)\n",
    "plt.ylabel(\"Training loss\", fontsize=labelFontSize)\n",
    "plt.xticks(fontsize=tickFontSize)\n",
    "plt.yticks(fontsize=tickFontSize)\n",
    "plt.tight_layout()\n",
    "plt.legend(prop={\"size\": legendFontSize})\n",
    "plt.savefig(\"pytorch_loss.png\")"
   ]
  },
  {
   "cell_type": "code",
   "execution_count": 156,
   "metadata": {},
   "outputs": [],
   "source": [
    "def eval2(model=model2, train_data=train_data, aqi_mean=aqi_mean, test_indices=test_indices):\n",
    "    model.eval()\n",
    "    output = model(train_data)\n",
    "    test_output = (torch.reshape(output,(-1,)) * mask_mean)[test_indices]\n",
    "    true_test_output = aqi_mean[test_indices]\n",
    "    test_loss = F.mse_loss(test_output, true_test_output)\n",
    "#     test_loss = F.mse_loss(30*torch.ones(len(test_indices)) * torch.FloatTensor(mask_mean)[test_indices], true_test_output)\n",
    "    test_loss *= len(train_data['mask'])/torch.sum(train_data['mask'])\n",
    "    print(true_test_output)\n",
    "    print(test_output)\n",
    "#     print((torch.reshape(output,(-1,)) * torch.FloatTensor(mask_mean))[:20])\n",
    "    return test_output, test_loss.item()"
   ]
  },
  {
   "cell_type": "code",
   "execution_count": 157,
   "metadata": {},
   "outputs": [
    {
     "name": "stdout",
     "output_type": "stream",
     "text": [
      "tensor([ 45.9969,  47.9840,  38.7403,  51.2372,  45.9540, 222.5555,  44.6343,\n",
      "         45.4773,  81.9836,  46.9765,  64.8669,  34.7241,  54.3891],\n",
      "       dtype=torch.float64)\n",
      "tensor([ 33.2362,  42.4134,   0.9035,  39.1338,  38.7053, 155.5837,  40.0250,\n",
      "         22.6066,  82.2646,  43.0869,  57.5541,  27.5796,  44.5388],\n",
      "       dtype=torch.float64, grad_fn=<IndexBackward>)\n",
      "570.6929792485591\n"
     ]
    }
   ],
   "source": [
    "pytorch_output_temp, l = eval2()\n",
    "print(l)"
   ]
  },
  {
   "cell_type": "code",
   "execution_count": 158,
   "metadata": {},
   "outputs": [],
   "source": [
    "crypten_output = torch.cat((crypten_output, crypten_output_temp))\n",
    "pytorch_output = torch.cat((pytorch_output, pytorch_output_temp))\n",
    "true_output = torch.cat((true_output, true_output_temp))"
   ]
  },
  {
   "cell_type": "code",
   "execution_count": 159,
   "metadata": {},
   "outputs": [
    {
     "data": {
      "text/plain": [
       "tensor([ 33.7214,   0.2390,  32.3221,  28.6523,  41.7113,  24.5185,  42.1813,\n",
       "         27.9334,  35.9474,  26.4330,  28.6940,  37.7954,  28.9838,  33.8788,\n",
       "         20.5909,  47.4966,  27.4407,  19.5628,  33.0279,  27.2303,  25.5486,\n",
       "         21.1895,  20.6977,  38.3974,  19.8901,  31.2675,  25.9644,  24.4110,\n",
       "         30.2148,  54.8356,  38.1659,  31.0375,  28.9689,  26.0812,  31.0044,\n",
       "         31.4311,  43.7911,  36.1868,  16.3797,  26.2870,  34.6722,  47.2234,\n",
       "         42.9798,  33.9935,  33.3003,  42.7178,   0.2395,  39.3507,  38.8931,\n",
       "        158.9335,  40.2634,  22.3830,  83.6168,  43.4015,  58.2572,  27.4819,\n",
       "         44.8938], dtype=torch.float64)"
      ]
     },
     "execution_count": 159,
     "metadata": {},
     "output_type": "execute_result"
    }
   ],
   "source": [
    "crypten_output"
   ]
  },
  {
   "cell_type": "code",
   "execution_count": 160,
   "metadata": {},
   "outputs": [
    {
     "data": {
      "text/plain": [
       "tensor([ 35.1652,  22.4888,  36.5577,  45.8257,  33.9915,  28.7971,  39.4967,\n",
       "         33.6208,  35.1930,  29.6213,  33.0471,  36.9815,  30.6564,  86.9565,\n",
       "         31.3969,  83.6321,  28.2429,  27.5525,  36.5301,  31.4989,  30.3283,\n",
       "         29.9940,  33.7416,  33.3296,  31.7812,  31.2422,  30.9690,  33.9660,\n",
       "         41.5509,  40.3199,  40.4975,  34.5665,  33.1745,  30.8282,  34.0899,\n",
       "         40.2491,  53.8244,  37.8147,  32.7418,  42.6325,  47.7381, 121.1758,\n",
       "         32.3279,  50.1055,  45.9969,  47.9840,  38.7403,  51.2372,  45.9540,\n",
       "        222.5555,  44.6343,  45.4773,  81.9836,  46.9765,  64.8669,  34.7241,\n",
       "         54.3891], dtype=torch.float64)"
      ]
     },
     "execution_count": 160,
     "metadata": {},
     "output_type": "execute_result"
    }
   ],
   "source": [
    "true_output"
   ]
  },
  {
   "cell_type": "code",
   "execution_count": 161,
   "metadata": {},
   "outputs": [],
   "source": [
    "crypten_error = abs(crypten_output - true_output) * 100 / (true_output)\n",
    "crypten_error_abs = abs(crypten_output - true_output)"
   ]
  },
  {
   "cell_type": "code",
   "execution_count": 162,
   "metadata": {},
   "outputs": [
    {
     "data": {
      "text/plain": [
       "Text(0, 0.5, 'Num points')"
      ]
     },
     "execution_count": 162,
     "metadata": {},
     "output_type": "execute_result"
    },
    {
     "data": {
      "image/png": "[encoded data removed]",
      "text/plain": [
       "<Figure size 432x288 with 1 Axes>"
      ]
     },
     "metadata": {
      "needs_background": "light"
     },
     "output_type": "display_data"
    }
   ],
   "source": [
    "plt.hist(crypten_error.detach().numpy(), bins=10, density=False)  # density=False would make counts\n",
    "plt.xlabel('Error %')\n",
    "plt.ylabel('Num points')"
   ]
  },
  {
   "cell_type": "code",
   "execution_count": 163,
   "metadata": {},
   "outputs": [],
   "source": [
    "pytorch_error = abs(pytorch_output - true_output) * 100 / (true_output)\n",
    "pytorch_error_abs = abs(crypten_output - true_output)"
   ]
  },
  {
   "cell_type": "code",
   "execution_count": 164,
   "metadata": {},
   "outputs": [
    {
     "data": {
      "text/plain": [
       "Text(0, 0.5, 'Num points')"
      ]
     },
     "execution_count": 164,
     "metadata": {},
     "output_type": "execute_result"
    },
    {
     "data": {
      "image/png": "[encoded data removed]",
      "text/plain": [
       "<Figure size 432x288 with 1 Axes>"
      ]
     },
     "metadata": {
      "needs_background": "light"
     },
     "output_type": "display_data"
    }
   ],
   "source": [
    "plt.hist(pytorch_error.detach().numpy(), bins=10, density=False)  # density=False would make counts\n",
    "plt.xlabel('Error %')\n",
    "plt.ylabel('Num points')"
   ]
  },
  {
   "cell_type": "code",
   "execution_count": 165,
   "metadata": {},
   "outputs": [
    {
     "data": {
      "text/plain": [
       "57"
      ]
     },
     "execution_count": 165,
     "metadata": {},
     "output_type": "execute_result"
    }
   ],
   "source": [
    "len(crypten_error)"
   ]
  },
  {
   "cell_type": "code",
   "execution_count": 196,
   "metadata": {},
   "outputs": [
    {
     "data": {
      "image/png": "[encoded data removed]",
      "text/plain": [
       "<Figure size 432x288 with 1 Axes>"
      ]
     },
     "metadata": {
      "needs_background": "light"
     },
     "output_type": "display_data"
    }
   ],
   "source": [
    "from scipy import stats\n",
    "res = stats.cumfreq(pytorch_error.detach().numpy(), numbins=10, defaultreallimits=(0, 100))\n",
    "x = 5 + np.linspace(0, 90, 10)\n",
    "# fig = plt.figure(figsize=(10, 4))\n",
    "# ax2 = fig.add_subplot(1, 2, 2)\n",
    "plt.bar(x, res.cumcount * 100 / (len(true_output)), width=res.binsize)\n",
    "# ax2.set_xlim([0, 100])\n",
    "plt.title(\"Test error(Pytorch)\", fontsize=titleFontSize)\n",
    "plt.xlabel(xLabel, fontsize=labelFontSize)\n",
    "plt.ylabel(yLabel, fontsize=labelFontSize)\n",
    "plt.xticks(fontsize=tickFontSize)\n",
    "plt.yticks(fontsize=tickFontSize)\n",
    "plt.tight_layout()\n",
    "plt.savefig(\"pytorch_error.svg\")"
   ]
  },
  {
   "cell_type": "code",
   "execution_count": 198,
   "metadata": {},
   "outputs": [
    {
     "data": {
      "image/png": "[encoded data removed]",
      "text/plain": [
       "<Figure size 432x288 with 1 Axes>"
      ]
     },
     "metadata": {
      "needs_background": "light"
     },
     "output_type": "display_data"
    }
   ],
   "source": [
    "res = stats.cumfreq(crypten_error.detach().numpy(), numbins=10, defaultreallimits=(0, 100))\n",
    "x = 5 + np.linspace(0, 90, 10)\n",
    "# fig = plt.figure(figsize=(10, 4))\n",
    "# ax2 = fig.add_subplot(1, 2, 2)\n",
    "plt.bar(x, res.cumcount * 100 / (len(true_output)), width=res.binsize)\n",
    "plt.title(\"Test error(Crypten)\", fontsize=titleFontSize)\n",
    "plt.xlabel(xLabel, fontsize=labelFontSize)\n",
    "plt.ylabel(yLabel, fontsize=labelFontSize)\n",
    "plt.xticks(fontsize=tickFontSize)\n",
    "plt.yticks(fontsize=tickFontSize)\n",
    "plt.tight_layout()\n",
    "plt.savefig(\"crypten_error.svg\")"
   ]
  },
  {
   "cell_type": "code",
   "execution_count": 197,
   "metadata": {},
   "outputs": [
    {
     "data": {
      "text/plain": [
       "array([ 26.31578947,  54.38596491,  71.92982456,  87.71929825,\n",
       "        91.22807018,  92.98245614,  96.49122807,  96.49122807,\n",
       "        96.49122807, 100.        ])"
      ]
     },
     "execution_count": 197,
     "metadata": {},
     "output_type": "execute_result"
    }
   ],
   "source": [
    "res.cumcount * 100 / (len(true_output))"
   ]
  },
  {
   "cell_type": "code",
   "execution_count": 199,
   "metadata": {},
   "outputs": [
    {
     "data": {
      "text/plain": [
       "array([ 24.56140351,  54.38596491,  73.68421053,  87.71929825,\n",
       "        91.22807018,  92.98245614,  96.49122807,  96.49122807,\n",
       "        96.49122807, 100.        ])"
      ]
     },
     "execution_count": 199,
     "metadata": {},
     "output_type": "execute_result"
    }
   ],
   "source": [
    "res.cumcount * 100 / (len(true_output))"
   ]
  },
  {
   "cell_type": "code",
   "execution_count": 281,
   "metadata": {},
   "outputs": [
    {
     "data": {
      "text/plain": [
       "array([ 0., 10., 20., 30., 40., 50., 60., 70., 80., 90.])"
      ]
     },
     "execution_count": 281,
     "metadata": {},
     "output_type": "execute_result"
    }
   ],
   "source": [
    "np.linspace(0, 90, 10)"
   ]
  },
  {
   "cell_type": "code",
   "execution_count": 319,
   "metadata": {},
   "outputs": [
    {
     "data": {
      "text/plain": [
       "CumfreqResult(cumcount=array([ 9., 27., 38., 49., 52., 56., 56., 56., 56., 57.]), lowerlimit=0, binsize=10.0, extrapoints=0)"
      ]
     },
     "execution_count": 319,
     "metadata": {},
     "output_type": "execute_result"
    }
   ],
   "source": [
    "res"
   ]
  },
  {
   "cell_type": "code",
   "execution_count": 308,
   "metadata": {},
   "outputs": [
    {
     "data": {
      "text/plain": [
       "0.8596491228070176"
      ]
     },
     "execution_count": 308,
     "metadata": {},
     "output_type": "execute_result"
    }
   ],
   "source": [
    "res"
   ]
  },
  {
   "cell_type": "code",
   "execution_count": 42,
   "metadata": {},
   "outputs": [
    {
     "data": {
      "text/plain": [
       "10"
      ]
     },
     "execution_count": 42,
     "metadata": {},
     "output_type": "execute_result"
    }
   ],
   "source": [
    "len(true_output)"
   ]
  },
  {
   "cell_type": "code",
   "execution_count": 348,
   "metadata": {},
   "outputs": [
    {
     "data": {
      "text/plain": [
       "torch.Size([57])"
      ]
     },
     "execution_count": 348,
     "metadata": {},
     "output_type": "execute_result"
    }
   ],
   "source": [
    "crypten_error[0:68-11].shape"
   ]
  },
  {
   "cell_type": "code",
   "execution_count": null,
   "metadata": {},
   "outputs": [],
   "source": []
  }
 ],
 "metadata": {
  "kernelspec": {
   "display_name": "Python 3 (ipykernel)",
   "language": "python",
   "name": "python3"
  },
  "language_info": {
   "codemirror_mode": {
    "name": "ipython",
    "version": 3
   },
   "file_extension": ".py",
   "mimetype": "text/x-python",
   "name": "python",
   "nbconvert_exporter": "python",
   "pygments_lexer": "ipython3",
   "version": "3.7.11"
  }
 },
 "nbformat": 4,
 "nbformat_minor": 2
}
