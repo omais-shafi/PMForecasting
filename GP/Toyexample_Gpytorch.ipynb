{
 "cells": [
  {
   "cell_type": "code",
   "execution_count": null,
   "metadata": {
    "colab": {
     "base_uri": "https://localhost:8080/"
    },
    "id": "vllvliS2E3QM",
    "outputId": "40c0f55a-b03d-4882-c582-996fe90cddfc"
   },
   "outputs": [
    {
     "name": "stdout",
     "output_type": "stream",
     "text": [
      "Collecting gpytorch\n",
      "\u001b[?25l  Downloading https://files.pythonhosted.org/packages/38/0d/b2a8a87a2297ee8144d60229323671b3cf9359c1b012e9300b284e4ea3d2/gpytorch-1.4.1-py2.py3-none-any.whl (491kB)\n",
      "\r",
      "\u001b[K     |▊                               | 10kB 23.2MB/s eta 0:00:01\r",
      "\u001b[K     |█▍                              | 20kB 16.0MB/s eta 0:00:01\r",
      "\u001b[K     |██                              | 30kB 13.5MB/s eta 0:00:01\r",
      "\u001b[K     |██▊                             | 40kB 12.5MB/s eta 0:00:01\r",
      "\u001b[K     |███▍                            | 51kB 8.2MB/s eta 0:00:01\r",
      "\u001b[K     |████                            | 61kB 7.7MB/s eta 0:00:01\r",
      "\u001b[K     |████▊                           | 71kB 8.8MB/s eta 0:00:01\r",
      "\u001b[K     |█████▍                          | 81kB 9.7MB/s eta 0:00:01\r",
      "\u001b[K     |██████                          | 92kB 10.2MB/s eta 0:00:01\r",
      "\u001b[K     |██████▊                         | 102kB 8.0MB/s eta 0:00:01\r",
      "\u001b[K     |███████▍                        | 112kB 8.0MB/s eta 0:00:01\r",
      "\u001b[K     |████████                        | 122kB 8.0MB/s eta 0:00:01\r",
      "\u001b[K     |████████▊                       | 133kB 8.0MB/s eta 0:00:01\r",
      "\u001b[K     |█████████▍                      | 143kB 8.0MB/s eta 0:00:01\r",
      "\u001b[K     |██████████                      | 153kB 8.0MB/s eta 0:00:01\r",
      "\u001b[K     |██████████▊                     | 163kB 8.0MB/s eta 0:00:01\r",
      "\u001b[K     |███████████▍                    | 174kB 8.0MB/s eta 0:00:01\r",
      "\u001b[K     |████████████                    | 184kB 8.0MB/s eta 0:00:01\r",
      "\u001b[K     |████████████▊                   | 194kB 8.0MB/s eta 0:00:01\r",
      "\u001b[K     |█████████████▍                  | 204kB 8.0MB/s eta 0:00:01\r",
      "\u001b[K     |██████████████                  | 215kB 8.0MB/s eta 0:00:01\r",
      "\u001b[K     |██████████████▊                 | 225kB 8.0MB/s eta 0:00:01\r",
      "\u001b[K     |███████████████▍                | 235kB 8.0MB/s eta 0:00:01\r",
      "\u001b[K     |████████████████                | 245kB 8.0MB/s eta 0:00:01\r",
      "\u001b[K     |████████████████▊               | 256kB 8.0MB/s eta 0:00:01\r",
      "\u001b[K     |█████████████████▍              | 266kB 8.0MB/s eta 0:00:01\r",
      "\u001b[K     |██████████████████              | 276kB 8.0MB/s eta 0:00:01\r",
      "\u001b[K     |██████████████████▊             | 286kB 8.0MB/s eta 0:00:01\r",
      "\u001b[K     |███████████████████▍            | 296kB 8.0MB/s eta 0:00:01\r",
      "\u001b[K     |████████████████████            | 307kB 8.0MB/s eta 0:00:01\r",
      "\u001b[K     |████████████████████▊           | 317kB 8.0MB/s eta 0:00:01\r",
      "\u001b[K     |█████████████████████▍          | 327kB 8.0MB/s eta 0:00:01\r",
      "\u001b[K     |██████████████████████          | 337kB 8.0MB/s eta 0:00:01\r",
      "\u001b[K     |██████████████████████▊         | 348kB 8.0MB/s eta 0:00:01\r",
      "\u001b[K     |███████████████████████▍        | 358kB 8.0MB/s eta 0:00:01\r",
      "\u001b[K     |████████████████████████        | 368kB 8.0MB/s eta 0:00:01\r",
      "\u001b[K     |████████████████████████▊       | 378kB 8.0MB/s eta 0:00:01\r",
      "\u001b[K     |█████████████████████████▍      | 389kB 8.0MB/s eta 0:00:01\r",
      "\u001b[K     |██████████████████████████      | 399kB 8.0MB/s eta 0:00:01\r",
      "\u001b[K     |██████████████████████████▊     | 409kB 8.0MB/s eta 0:00:01\r",
      "\u001b[K     |███████████████████████████▍    | 419kB 8.0MB/s eta 0:00:01\r",
      "\u001b[K     |████████████████████████████    | 430kB 8.0MB/s eta 0:00:01\r",
      "\u001b[K     |████████████████████████████▊   | 440kB 8.0MB/s eta 0:00:01\r",
      "\u001b[K     |█████████████████████████████▍  | 450kB 8.0MB/s eta 0:00:01\r",
      "\u001b[K     |██████████████████████████████  | 460kB 8.0MB/s eta 0:00:01\r",
      "\u001b[K     |██████████████████████████████▊ | 471kB 8.0MB/s eta 0:00:01\r",
      "\u001b[K     |███████████████████████████████▍| 481kB 8.0MB/s eta 0:00:01\r",
      "\u001b[K     |████████████████████████████████| 491kB 8.0MB/s \n",
      "\u001b[?25hRequirement already satisfied: scipy in /usr/local/lib/python3.7/dist-packages (from gpytorch) (1.4.1)\n",
      "Requirement already satisfied: scikit-learn in /usr/local/lib/python3.7/dist-packages (from gpytorch) (0.22.2.post1)\n",
      "Requirement already satisfied: torch>=1.7 in /usr/local/lib/python3.7/dist-packages (from gpytorch) (1.8.1+cu101)\n",
      "Requirement already satisfied: numpy>=1.13.3 in /usr/local/lib/python3.7/dist-packages (from scipy->gpytorch) (1.19.5)\n",
      "Requirement already satisfied: joblib>=0.11 in /usr/local/lib/python3.7/dist-packages (from scikit-learn->gpytorch) (1.0.1)\n",
      "Requirement already satisfied: typing-extensions in /usr/local/lib/python3.7/dist-packages (from torch>=1.7->gpytorch) (3.7.4.3)\n",
      "Installing collected packages: gpytorch\n",
      "Successfully installed gpytorch-1.4.1\n"
     ]
    }
   ],
   "source": [
    "!pip install gpytorch"
   ]
  },
  {
   "cell_type": "code",
   "execution_count": null,
   "metadata": {
    "id": "J5J28fsHE8vU"
   },
   "outputs": [],
   "source": [
    "### Importing all libraries and modules\n",
    "import copy\n",
    "\n",
    "from datetime import datetime\n",
    "import matplotlib.pyplot as plt\n",
    "import tqdm.notebook as tqdm\n",
    "import pandas as pd\n",
    "import numpy as np\n",
    "import pickle\n",
    "\n",
    "import torch\n",
    "import gpytorch\n",
    "from torch.utils.data import TensorDataset, DataLoader\n",
    "from gpytorch.variational import CholeskyVariationalDistribution, VariationalStrategy\n",
    "from gpytorch.models import ApproximateGP\n",
    "\n",
    "from torch.optim.lr_scheduler import StepLR\n",
    "\n",
    "# Defining the Main GP model class\n",
    "class GPModel(ApproximateGP):\n",
    "    def __init__(self, inducing_points):\n",
    "      \"\"\"\n",
    "      This initializes the model with some standard settings including the variational distribution to be used, the number of inducing points\n",
    "      being used along with the mean and the covariance functions being used. \n",
    "\n",
    "      Below ConstantMean refers to the Mean being a constant. This means that the mean learnt will act as an offset of sorts whereas all the \n",
    "      variance in the data will be explained by the covariance function. The Mean can also be set to linear where it becomes a linear function\n",
    "      of the features. \n",
    "\n",
    "      A basic RBF kernel has been used here that learns one lengthscale for all the dimensions. ScaleKernel below just imbues the RBF Kernel\n",
    "      with a scalar scale value that can scale the value of the RBF kernel. \n",
    "      \"\"\"\n",
    "      variational_distribution = CholeskyVariationalDistribution(inducing_points.size(0))\n",
    "      variational_strategy = VariationalStrategy(self, inducing_points, variational_distribution, learn_inducing_locations=True)\n",
    "      super(GPModel, self).__init__(variational_strategy)\n",
    "      self.mean_module = gpytorch.means.ConstantMean()\n",
    "      self.covar_module = gpytorch.kernels.ScaleKernel(gpytorch.kernels.RBFKernel())\n",
    "\n",
    "    def forward(self, x):\n",
    "      \"\"\"\n",
    "      This is akin to the forward pass in Neural Nets in a way. Here the mean and the covariance functions are calculated on some given x.\n",
    "      Then, using that mean and covariance function, a MultivariateNormal distribtuion is represented. \n",
    "      \"\"\"\n",
    "      mean_x = self.mean_module(x)\n",
    "      covar_x = self.covar_module(x)\n",
    "      return gpytorch.distributions.MultivariateNormal(mean_x, covar_x)\n",
    "\n",
    "\n",
    "#### functions for getting hyperparameter values (the details of these can be ignored)\n",
    "def hyperparams_simple(model):\n",
    "    \"\"\"\n",
    "    Print the models hyperparameters for hyperparameter exploration. Only works for kernels not using additive or product \n",
    "    kernels\n",
    "    \"\"\"\n",
    "    kern_dict = {}\n",
    "    current = model.covar_module\n",
    "    count = 0\n",
    "    while True:\n",
    "        name = str(count) + \"_\" + str(type(current))[25:-2]\n",
    "        children = get_children(current)\n",
    "        cons_hp = [i for i in current.named_parameters_and_constraints()]\n",
    "        kern_dict[name] = get_hp_dict(cons_hp)\n",
    "        if children == []:\n",
    "            break\n",
    "        else:\n",
    "            current = children[0][1]\n",
    "        count += 1\n",
    "    return pd.DataFrame(kern_dict).T\n",
    "    \n",
    "def get_children(current):\n",
    "    children = []\n",
    "    for i in current.named_children():\n",
    "        if \"kernel\" not in i[0]:\n",
    "            pass\n",
    "        else:\n",
    "            children.append(i)\n",
    "    return children\n",
    "\n",
    "def get_hp_dict(cons_hp):\n",
    "    \n",
    "    hp_dict = {}\n",
    "    for i in cons_hp:\n",
    "        if (\"base_kernel\" in i[0]) or (\"kernels\" in i[0]):\n",
    "            pass\n",
    "        else:\n",
    "            curr_item = i[1]\n",
    "            if curr_item.shape==():\n",
    "                curr_item_list = [i[2].transform(curr_item)]\n",
    "            else:\n",
    "                curr_item_list = []\n",
    "                for item in curr_item:\n",
    "                    curr_item_list.append(i[2].transform(item)) \n",
    "            hp_dict[i[0][4:]] = curr_item_list[0].cpu().detach().numpy()\n",
    "    return hp_dict"
   ]
  },
  {
   "cell_type": "code",
   "execution_count": null,
   "metadata": {
    "colab": {
     "base_uri": "https://localhost:8080/",
     "height": 419
    },
    "id": "qEE32YC9JY4o",
    "outputId": "38ba65d8-00d9-4fa1-e3c7-9b8770882200"
   },
   "outputs": [
    {
     "data": {
      "text/html": [
       "<div>\n",
       "<style scoped>\n",
       "    .dataframe tbody tr th:only-of-type {\n",
       "        vertical-align: middle;\n",
       "    }\n",
       "\n",
       "    .dataframe tbody tr th {\n",
       "        vertical-align: top;\n",
       "    }\n",
       "\n",
       "    .dataframe thead th {\n",
       "        text-align: right;\n",
       "    }\n",
       "</style>\n",
       "<table border=\"1\" class=\"dataframe\">\n",
       "  <thead>\n",
       "    <tr style=\"text-align: right;\">\n",
       "      <th></th>\n",
       "      <th>Temperature</th>\n",
       "      <th>Humidity</th>\n",
       "      <th>Wind</th>\n",
       "    </tr>\n",
       "  </thead>\n",
       "  <tbody>\n",
       "    <tr>\n",
       "      <th>0</th>\n",
       "      <td>18.350782</td>\n",
       "      <td>79.778918</td>\n",
       "      <td>98.100662</td>\n",
       "    </tr>\n",
       "    <tr>\n",
       "      <th>1</th>\n",
       "      <td>17.978290</td>\n",
       "      <td>75.509898</td>\n",
       "      <td>93.574344</td>\n",
       "    </tr>\n",
       "    <tr>\n",
       "      <th>2</th>\n",
       "      <td>24.245549</td>\n",
       "      <td>76.946228</td>\n",
       "      <td>101.227094</td>\n",
       "    </tr>\n",
       "    <tr>\n",
       "      <th>3</th>\n",
       "      <td>27.191908</td>\n",
       "      <td>76.802709</td>\n",
       "      <td>104.146112</td>\n",
       "    </tr>\n",
       "    <tr>\n",
       "      <th>4</th>\n",
       "      <td>26.713044</td>\n",
       "      <td>82.957483</td>\n",
       "      <td>109.841448</td>\n",
       "    </tr>\n",
       "    <tr>\n",
       "      <th>...</th>\n",
       "      <td>...</td>\n",
       "      <td>...</td>\n",
       "      <td>...</td>\n",
       "    </tr>\n",
       "    <tr>\n",
       "      <th>995</th>\n",
       "      <td>26.684666</td>\n",
       "      <td>75.748040</td>\n",
       "      <td>102.438072</td>\n",
       "    </tr>\n",
       "    <tr>\n",
       "      <th>996</th>\n",
       "      <td>26.507777</td>\n",
       "      <td>83.714309</td>\n",
       "      <td>110.110620</td>\n",
       "    </tr>\n",
       "    <tr>\n",
       "      <th>997</th>\n",
       "      <td>24.467574</td>\n",
       "      <td>77.134158</td>\n",
       "      <td>101.550195</td>\n",
       "    </tr>\n",
       "    <tr>\n",
       "      <th>998</th>\n",
       "      <td>24.046500</td>\n",
       "      <td>83.396481</td>\n",
       "      <td>107.384963</td>\n",
       "    </tr>\n",
       "    <tr>\n",
       "      <th>999</th>\n",
       "      <td>22.925018</td>\n",
       "      <td>74.477729</td>\n",
       "      <td>97.548372</td>\n",
       "    </tr>\n",
       "  </tbody>\n",
       "</table>\n",
       "<p>1000 rows × 3 columns</p>\n",
       "</div>"
      ],
      "text/plain": [
       "     Temperature   Humidity        Wind\n",
       "0      18.350782  79.778918   98.100662\n",
       "1      17.978290  75.509898   93.574344\n",
       "2      24.245549  76.946228  101.227094\n",
       "3      27.191908  76.802709  104.146112\n",
       "4      26.713044  82.957483  109.841448\n",
       "..           ...        ...         ...\n",
       "995    26.684666  75.748040  102.438072\n",
       "996    26.507777  83.714309  110.110620\n",
       "997    24.467574  77.134158  101.550195\n",
       "998    24.046500  83.396481  107.384963\n",
       "999    22.925018  74.477729   97.548372\n",
       "\n",
       "[1000 rows x 3 columns]"
      ]
     },
     "execution_count": 4,
     "metadata": {
      "tags": []
     },
     "output_type": "execute_result"
    }
   ],
   "source": [
    "# Creating a toy dataset\n",
    "# There will be 1000 different rows where very hypothetical temperature and humidity will be the features which will be used to predict\n",
    "# the even more hypothetical wind variable\n",
    " \n",
    "cities = list(range(1000))\n",
    "n= len(cities)\n",
    "data = {'Temperature': np.random.normal(24, 3, n),\n",
    "        'Humidity': np.random.normal(78, 2.5, n),\n",
    "       }\n",
    "df = pd.DataFrame(data=data, index=cities)\n",
    "df[\"Wind\"] = df.Temperature + df.Humidity + np.random.normal(0, 0.1, n) \n",
    "df"
   ]
  },
  {
   "cell_type": "code",
   "execution_count": null,
   "metadata": {
    "colab": {
     "base_uri": "https://localhost:8080/",
     "height": 312
    },
    "id": "cOe2sXt1KJJB",
    "outputId": "eeb731c4-5b6e-4bdb-d0af-3783d630397c"
   },
   "outputs": [
    {
     "data": {
      "text/plain": [
       "Text(0, 0.5, 'Wind')"
      ]
     },
     "execution_count": 5,
     "metadata": {
      "tags": []
     },
     "output_type": "execute_result"
    },
    {
     "data": {
      "image/png": "[encoded data removed]",
      "text/plain": [
       "<Figure size 432x288 with 1 Axes>"
      ]
     },
     "metadata": {
      "needs_background": "light",
      "tags": []
     },
     "output_type": "display_data"
    }
   ],
   "source": [
    "plt.scatter(df.Temperature, df.Wind)\n",
    "plt.title(\"Temp vs Wind\")\n",
    "plt.xlabel(\"Temperature\")\n",
    "plt.ylabel(\"Wind\")"
   ]
  },
  {
   "cell_type": "code",
   "execution_count": null,
   "metadata": {
    "colab": {
     "base_uri": "https://localhost:8080/",
     "height": 312
    },
    "id": "z0D_eCkxK86V",
    "outputId": "4498ae7c-b1ff-4209-b961-131974df9c0a"
   },
   "outputs": [
    {
     "data": {
      "text/plain": [
       "Text(0, 0.5, 'Wind')"
      ]
     },
     "execution_count": 6,
     "metadata": {
      "tags": []
     },
     "output_type": "execute_result"
    },
    {
     "data": {
      "image/png": "[encoded data removed]",
      "text/plain": [
       "<Figure size 432x288 with 1 Axes>"
      ]
     },
     "metadata": {
      "needs_background": "light",
      "tags": []
     },
     "output_type": "display_data"
    }
   ],
   "source": [
    "plt.scatter(df.Humidity, df.Wind)\n",
    "plt.title(\"Humidity vs Wind\")\n",
    "plt.xlabel(\"Humidity\")\n",
    "plt.ylabel(\"Wind\")"
   ]
  },
  {
   "cell_type": "code",
   "execution_count": null,
   "metadata": {
    "id": "SR5TgPevLWIm"
   },
   "outputs": [],
   "source": [
    "# some data related preprocessing for Gpytorch\n",
    "train_x = df[[\"Temperature\", \"Humidity\"]].values\n",
    "train_y = df.Wind.values\n",
    "train_x, train_y = torch.Tensor(train_x), torch.Tensor(train_y)\n",
    "\n",
    "if torch.cuda.is_available():\n",
    "    train_x, train_y = train_x.cuda(), train_y.cuda()\n",
    "\n",
    "train_dataset = TensorDataset(train_x, train_y) \n",
    "train_loader = DataLoader(train_dataset, batch_size=200, shuffle=True)"
   ]
  },
  {
   "cell_type": "code",
   "execution_count": null,
   "metadata": {
    "id": "S0kdPPwlIFXE"
   },
   "outputs": [],
   "source": [
    "# Here we select the inducing points to be used\n",
    "inducing_points = train_x[:500, :]\n",
    "model = GPModel(inducing_points=inducing_points)\n",
    "# The likelihood is learnt separate from the model. This refers to the epsilon/error term in the GP model formulation. \n",
    "likelihood = gpytorch.likelihoods.GaussianLikelihood()\n",
    "# Below checks if the cuda/GPU is avaliable or not. If it is, then the model and likelihood both are transferred to the GPU\n",
    "if torch.cuda.is_available():\n",
    "    model = model.cuda()\n",
    "    likelihood = likelihood.cuda()"
   ]
  },
  {
   "cell_type": "code",
   "execution_count": null,
   "metadata": {
    "colab": {
     "base_uri": "https://localhost:8080/"
    },
    "id": "Vbzd6aMKI2kl",
    "outputId": "8011c5bf-2fe7-46d1-bfa8-da535746689f"
   },
   "outputs": [
    {
     "name": "stdout",
     "output_type": "stream",
     "text": [
      "Mean Loss for Epoch 0 : 6991.33095703125\n",
      "Mean Loss for Epoch 10 : 1880.3463623046875\n",
      "Mean Loss for Epoch 20 : 689.5436157226562\n",
      "Mean Loss for Epoch 30 : 298.8431457519531\n",
      "Mean Loss for Epoch 40 : 164.89541931152343\n",
      "Mean Loss for Epoch 50 : 110.53347625732422\n",
      "Mean Loss for Epoch 60 : 81.35429229736329\n",
      "Mean Loss for Epoch 70 : 65.83657455444336\n",
      "Mean Loss for Epoch 80 : 55.3259162902832\n",
      "Mean Loss for Epoch 90 : 48.00375518798828\n",
      "Mean Loss for Epoch 100 : 42.28669128417969\n",
      "Mean Loss for Epoch 110 : 38.435523986816406\n",
      "Mean Loss for Epoch 120 : 36.3560073852539\n",
      "Mean Loss for Epoch 130 : 33.798316955566406\n",
      "Mean Loss for Epoch 140 : 32.039005279541016\n",
      "Mean Loss for Epoch 150 : 29.75288314819336\n",
      "Mean Loss for Epoch 160 : 29.857290267944336\n",
      "Mean Loss for Epoch 170 : 27.42790298461914\n",
      "Mean Loss for Epoch 180 : 26.321685791015625\n",
      "Mean Loss for Epoch 190 : 25.798586273193358\n",
      "Mean Loss for Epoch 200 : 24.392546463012696\n",
      "Mean Loss for Epoch 210 : 22.880017852783205\n",
      "Mean Loss for Epoch 220 : 22.16098861694336\n",
      "Mean Loss for Epoch 230 : 20.921896743774415\n",
      "Mean Loss for Epoch 240 : 20.133433151245118\n",
      "Mean Loss for Epoch 250 : 19.23351593017578\n",
      "Mean Loss for Epoch 260 : 18.248596954345704\n",
      "Mean Loss for Epoch 270 : 17.500816345214844\n",
      "Mean Loss for Epoch 280 : 16.627427673339845\n",
      "Mean Loss for Epoch 290 : 15.960112762451171\n",
      "Mean Loss for Epoch 300 : 15.337339973449707\n",
      "Mean Loss for Epoch 310 : 14.794534683227539\n",
      "Mean Loss for Epoch 320 : 14.342026519775391\n",
      "Mean Loss for Epoch 330 : 13.8815767288208\n",
      "Mean Loss for Epoch 340 : 13.288864898681641\n",
      "Mean Loss for Epoch 350 : 12.879257965087891\n",
      "Mean Loss for Epoch 360 : 12.576921463012695\n",
      "Mean Loss for Epoch 370 : 12.109933471679687\n",
      "Mean Loss for Epoch 380 : 11.604619789123536\n",
      "Mean Loss for Epoch 390 : 11.352788734436036\n",
      "Mean Loss for Epoch 400 : 10.818520545959473\n",
      "Mean Loss for Epoch 410 : 10.381828880310058\n",
      "Mean Loss for Epoch 420 : 10.040637397766114\n",
      "Mean Loss for Epoch 430 : 9.695558166503906\n",
      "Mean Loss for Epoch 440 : 9.371524810791016\n",
      "Mean Loss for Epoch 450 : 8.978231430053711\n",
      "Mean Loss for Epoch 460 : 8.717205429077149\n",
      "Mean Loss for Epoch 470 : 8.3004301071167\n",
      "Mean Loss for Epoch 480 : 8.000182628631592\n",
      "Mean Loss for Epoch 490 : 7.6830370903015135\n"
     ]
    }
   ],
   "source": [
    "# Now we set both to training mode\n",
    "model.train()\n",
    "likelihood.train()\n",
    "\n",
    "# The use of an optimizer is again very similar to how it is used in neural nets. lr is learning rate.\n",
    "optimizer = torch.optim.Adam([\n",
    "    {'params': model.parameters()},\n",
    "    {'params': likelihood.parameters()},\n",
    "], lr=0.05)\n",
    "\n",
    "# Our loss object. We're using the VariationalELBO. This defines the loss function we are tryi ng to optimize\n",
    "mll = gpytorch.mlls.VariationalELBO(likelihood, model, num_data=train_y.size(0))\n",
    "\n",
    "num_epochs = 500                  ############ please change this if you want to increase or decrease train time ############ \n",
    "epochs_iter = range(num_epochs)\n",
    "for i in epochs_iter:\n",
    "    count = 0\n",
    "    mean_loss = 0\n",
    "    # Within each iteration, we will go over each minibatch of data\n",
    "    minibatch_iter = train_loader\n",
    "    for x_batch, y_batch in minibatch_iter:\n",
    "        optimizer.zero_grad()\n",
    "        output = model(x_batch)\n",
    "        loss = -mll(output, y_batch)\n",
    "        loss.backward()\n",
    "        optimizer.step()\n",
    "        mean_loss += loss.item()\n",
    "        count+=1\n",
    "    if i%10 == 0:\n",
    "      print(\"Mean Loss for Epoch\", i,\":\", mean_loss/count)    "
   ]
  },
  {
   "cell_type": "code",
   "execution_count": null,
   "metadata": {
    "colab": {
     "base_uri": "https://localhost:8080/",
     "height": 111
    },
    "id": "rIYNKxGKFG1B",
    "outputId": "6dceba3d-0d93-432c-dc9c-77b487702f29"
   },
   "outputs": [
    {
     "data": {
      "text/html": [
       "<div>\n",
       "<style scoped>\n",
       "    .dataframe tbody tr th:only-of-type {\n",
       "        vertical-align: middle;\n",
       "    }\n",
       "\n",
       "    .dataframe tbody tr th {\n",
       "        vertical-align: top;\n",
       "    }\n",
       "\n",
       "    .dataframe thead th {\n",
       "        text-align: right;\n",
       "    }\n",
       "</style>\n",
       "<table border=\"1\" class=\"dataframe\">\n",
       "  <thead>\n",
       "    <tr style=\"text-align: right;\">\n",
       "      <th></th>\n",
       "      <th>outputscale</th>\n",
       "      <th>lengthscale</th>\n",
       "    </tr>\n",
       "  </thead>\n",
       "  <tbody>\n",
       "    <tr>\n",
       "      <th>0_scale_kernel.ScaleKernel</th>\n",
       "      <td>17.15954</td>\n",
       "      <td>NaN</td>\n",
       "    </tr>\n",
       "    <tr>\n",
       "      <th>1_rbf_kernel.RBFKernel</th>\n",
       "      <td>NaN</td>\n",
       "      <td>[1.6763567]</td>\n",
       "    </tr>\n",
       "  </tbody>\n",
       "</table>\n",
       "</div>"
      ],
      "text/plain": [
       "                           outputscale  lengthscale\n",
       "0_scale_kernel.ScaleKernel    17.15954          NaN\n",
       "1_rbf_kernel.RBFKernel             NaN  [1.6763567]"
      ]
     },
     "execution_count": 10,
     "metadata": {
      "tags": []
     },
     "output_type": "execute_result"
    }
   ],
   "source": [
    "# final hyperparameter values\n",
    "hyperparams_simple(model)"
   ]
  },
  {
   "cell_type": "code",
   "execution_count": null,
   "metadata": {
    "colab": {
     "base_uri": "https://localhost:8080/"
    },
    "id": "2GwvVYXI5Eg7",
    "outputId": "bfc9b1a6-d3ee-4677-b00e-b2e9257a7dcb"
   },
   "outputs": [
    {
     "data": {
      "text/plain": [
       "MultivariateNormal(loc: tensor([98.4446], device='cuda:0', grad_fn=<AddBackward0>))"
      ]
     },
     "execution_count": 16,
     "metadata": {
      "tags": []
     },
     "output_type": "execute_result"
    }
   ],
   "source": [
    "model(train_x[:1, :])"
   ]
  },
  {
   "cell_type": "code",
   "execution_count": null,
   "metadata": {
    "id": "266436qH5eKd"
   },
   "outputs": [],
   "source": []
  }
 ],
 "metadata": {
  "accelerator": "GPU",
  "colab": {
   "collapsed_sections": [],
   "name": "Toyexample_Gpytorch.ipynb",
   "provenance": []
  },
  "kernelspec": {
   "display_name": "Python 3 (ipykernel)",
   "language": "python",
   "name": "python3"
  },
  "language_info": {
   "codemirror_mode": {
    "name": "ipython",
    "version": 3
   },
   "file_extension": ".py",
   "mimetype": "text/x-python",
   "name": "python",
   "nbconvert_exporter": "python",
   "pygments_lexer": "ipython3",
   "version": "3.7.11"
  }
 },
 "nbformat": 4,
 "nbformat_minor": 1
}
