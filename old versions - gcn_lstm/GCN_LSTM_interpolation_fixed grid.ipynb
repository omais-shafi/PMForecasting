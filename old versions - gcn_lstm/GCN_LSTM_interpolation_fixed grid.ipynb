{
 "cells": [
  {
   "cell_type": "code",
   "execution_count": 1,
   "id": "a366fcb1",
   "metadata": {},
   "outputs": [],
   "source": [
    "# !pip install stellargraph[demos]\n",
    "# !pip install tf-nightly"
   ]
  },
  {
   "cell_type": "code",
   "execution_count": 1,
   "id": "1b01d87c",
   "metadata": {},
   "outputs": [
    {
     "name": "stderr",
     "output_type": "stream",
     "text": [
      "2022-03-15 22:49:28.898781: W tensorflow/stream_executor/platform/default/dso_loader.cc:64] Could not load dynamic library 'libcudart.so.11.0'; dlerror: libcudart.so.11.0: cannot open shared object file: No such file or directory\n",
      "2022-03-15 22:49:28.899412: I tensorflow/stream_executor/cuda/cudart_stub.cc:29] Ignore above cudart dlerror if you do not have a GPU set up on your machine.\n",
      "2022-03-15 22:49:51.323740: W tensorflow/stream_executor/platform/default/dso_loader.cc:64] Could not load dynamic library 'libcuda.so.1'; dlerror: libcuda.so.1: cannot open shared object file: No such file or directory\n",
      "2022-03-15 22:49:51.325994: W tensorflow/stream_executor/cuda/cuda_driver.cc:269] failed call to cuInit: UNKNOWN ERROR (303)\n",
      "2022-03-15 22:49:51.326200: I tensorflow/stream_executor/cuda/cuda_diagnostics.cc:156] kernel driver does not appear to be running on this host (DESKTOP-F3GKG0K): /proc/driver/nvidia/version does not exist\n",
      "2022-03-15 22:49:51.346809: I tensorflow/core/platform/cpu_feature_guard.cc:151] This TensorFlow binary is optimized with oneAPI Deep Neural Network Library (oneDNN) to use the following CPU instructions in performance-critical operations:  AVX2 FMA\n",
      "To enable them in other operations, rebuild TensorFlow with the appropriate compiler flags.\n"
     ]
    }
   ],
   "source": [
    "import stellargraph as sg\n",
    "import os\n",
    "import sys\n",
    "import urllib.request\n",
    "\n",
    "import numpy as np\n",
    "import pandas as pd\n",
    "import matplotlib.pyplot as plt\n",
    "import matplotlib.lines as mlines\n",
    "\n",
    "import tensorflow as tf\n",
    "from tensorflow import keras\n",
    "from tensorflow.keras import Sequential, Model\n",
    "from stellargraph.layer import GCN_LSTM\n",
    "\n",
    "import datetime\n",
    "import random\n",
    "random.seed(45)\n",
    "tf.random.set_seed(10)"
   ]
  },
  {
   "cell_type": "code",
   "execution_count": 2,
   "id": "1e382d4f",
   "metadata": {},
   "outputs": [],
   "source": [
    "from timeit import default_timer as timer\n",
    "\n",
    "class TimingCallback(keras.callbacks.Callback):\n",
    "    def __init__(self, logs={}):\n",
    "        self.logs=[]\n",
    "    def on_epoch_begin(self, epoch, logs={}):\n",
    "        self.starttime = timer()\n",
    "    def on_epoch_end(self, epoch, logs={}):\n",
    "        self.logs.append(timer()-self.starttime)"
   ]
  },
  {
   "cell_type": "code",
   "execution_count": 3,
   "id": "160509a8",
   "metadata": {},
   "outputs": [
    {
     "name": "stdout",
     "output_type": "stream",
     "text": [
      "(270, 270)\n"
     ]
    }
   ],
   "source": [
    "from scipy.spatial.distance import pdist, squareform\n",
    "\n",
    "lat_range = {'min': 28.486, 'max': 28.72}\n",
    "long_range = {'min': 77.1, 'max': 77.32}\n",
    "n_lat_grid = 25\n",
    "n_long_grid = 25\n",
    "\n",
    "#adjacency matrix\n",
    "grid_points = pd.read_csv('grid_points_25.csv')\n",
    "n_grid_points = grid_points.shape[0] \n",
    "X = grid_points[[\"lat_grid\", \"long_grid\"]].to_numpy()\n",
    "f = lambda u, v: max(abs(u-v))<=1\n",
    "adj = squareform(pdist(X, f))\n",
    "eye = np.identity(n_grid_points)\n",
    "adj = adj+eye\n",
    "print(adj.shape) \n",
    "\n",
    "grid_points = grid_points.pivot_table(index=['lat_grid', 'long_grid'])\n",
    "grid_points_indices = grid_points.index"
   ]
  },
  {
   "cell_type": "code",
   "execution_count": 4,
   "id": "5539f763",
   "metadata": {},
   "outputs": [],
   "source": [
    "def data_preparation(datafile1):\n",
    "    #Put the file location\n",
    "    df = pd.read_csv(datafile1)\n",
    "    \n",
    "    #type casting\n",
    "    df.pm1_0 = df.pm1_0.astype(float)\n",
    "    df.pm2_5 = df.pm2_5.astype(float)\n",
    "    df.pm10 = df.pm10.astype(float)\n",
    "    df.lat = round(round(5*df.lat.astype(float),2)/5.0,3)\n",
    "    df.long= round(round(5*df.long.astype(float),2)/5.0,3)\n",
    "\n",
    "    # Ensuring Delhi region and removing outliers from data\n",
    "    df = df[(df.lat.astype(int) == 28) &(df.long.astype(int) == 77)]\n",
    "    df = df[(df.pm1_0<=1500) & (df.pm2_5<=1500) & (df.pm10<=1500) & (df.pm1_0>=20) & (df.pm2_5>=30) & (df.pm10>=30)]\n",
    "    #df = df[(df.humidity<=60)&(df.humidity>=7)]\n",
    "    # TODO: Add buffer and consider train-data for range\n",
    "    # lat_range = {'min': df.lat.min(), 'max': df.lat.max()}\n",
    "    # long_range = {'min': df.long.min(), 'max': df.long.max()}\n",
    "    df['lat_grid'] = df.apply(lambda row: int((n_lat_grid-1)*(row.lat-lat_range['min'])/(lat_range['max']-lat_range['min'])), axis=1 )\n",
    "    df['long_grid'] = df.apply(lambda row: int((n_long_grid-1)*(row.long-long_range['min'])/(long_range['max']-long_range['min'])), axis=1 )\n",
    "    df['lat_grid'] = df['lat_grid'].astype(float).astype(int)\n",
    "    df['long_grid'] = df['long_grid'].astype(float).astype(int)\n",
    "    means = df[[\"lat_grid\", \"long_grid\", \"pm2_5\"]].groupby(['lat_grid', 'long_grid']).mean().reset_index()['pm2_5'].values\n",
    "\n",
    "    # rounding @120min\n",
    "    df.dateTime = pd.to_datetime(df.dateTime)\n",
    "    df.dateTime = df.dateTime.dt.round('240min')\n",
    "    # use time as a feature as well\n",
    "    df.dateTime = df.dateTime.dt.hour*60 + df.dateTime.dt.minute\n",
    "\n",
    "    # only PM2_5\n",
    "    df = df[['dateTime','lat_grid','long_grid','pm2_5']]\n",
    "    df = df.pivot_table(index=['lat_grid','long_grid'], columns='dateTime', aggfunc='mean')['pm2_5']\n",
    "#     df = df.fillna(method='ffill')\n",
    "#     df = df.fillna(method='bfill')\n",
    "#     df = df.interpolate(limit_direction=\"both\")\n",
    "#     df = df.interpolate(method='spline', order=3)\n",
    "#     df = df.fillna(0)\n",
    "    columns = df.columns\n",
    "    df = df[columns[2:]]\n",
    "    df = df.fillna(0)\n",
    "#     df['means'] = means\n",
    "    return df"
   ]
  },
  {
   "cell_type": "markdown",
   "id": "d63a5fb0",
   "metadata": {},
   "source": [
    "# Fill missing values"
   ]
  },
  {
   "cell_type": "code",
   "execution_count": 6,
   "id": "c2a052c3",
   "metadata": {},
   "outputs": [],
   "source": [
    "# !pip install missingno"
   ]
  },
  {
   "cell_type": "code",
   "execution_count": 6,
   "id": "eb8a02cc",
   "metadata": {},
   "outputs": [],
   "source": [
    "# import missingno as msno\n",
    "# import matplotlib.pyplot as plt\n",
    "df = data_preparation('PM Datasets/2021-01-23_all.csv')\n",
    "# msno.bar(df, figsize=(12, 6), fontsize=12, color='steelblue')"
   ]
  },
  {
   "cell_type": "code",
   "execution_count": 7,
   "id": "89719e97",
   "metadata": {},
   "outputs": [
    {
     "data": {
      "text/html": [
       "<div>\n",
       "<style scoped>\n",
       "    .dataframe tbody tr th:only-of-type {\n",
       "        vertical-align: middle;\n",
       "    }\n",
       "\n",
       "    .dataframe tbody tr th {\n",
       "        vertical-align: top;\n",
       "    }\n",
       "\n",
       "    .dataframe thead th {\n",
       "        text-align: right;\n",
       "    }\n",
       "</style>\n",
       "<table border=\"1\" class=\"dataframe\">\n",
       "  <thead>\n",
       "    <tr style=\"text-align: right;\">\n",
       "      <th></th>\n",
       "      <th>dateTime</th>\n",
       "      <th>480</th>\n",
       "      <th>720</th>\n",
       "      <th>960</th>\n",
       "      <th>1200</th>\n",
       "    </tr>\n",
       "    <tr>\n",
       "      <th>lat_grid</th>\n",
       "      <th>long_grid</th>\n",
       "      <th></th>\n",
       "      <th></th>\n",
       "      <th></th>\n",
       "      <th></th>\n",
       "    </tr>\n",
       "  </thead>\n",
       "  <tbody>\n",
       "    <tr>\n",
       "      <th rowspan=\"2\" valign=\"top\">0</th>\n",
       "      <th>21</th>\n",
       "      <td>146.000000</td>\n",
       "      <td>0.000000</td>\n",
       "      <td>0.000000</td>\n",
       "      <td>0.000000</td>\n",
       "    </tr>\n",
       "    <tr>\n",
       "      <th>22</th>\n",
       "      <td>163.010445</td>\n",
       "      <td>131.187048</td>\n",
       "      <td>113.317735</td>\n",
       "      <td>194.578186</td>\n",
       "    </tr>\n",
       "    <tr>\n",
       "      <th rowspan=\"3\" valign=\"top\">1</th>\n",
       "      <th>19</th>\n",
       "      <td>132.193548</td>\n",
       "      <td>160.869565</td>\n",
       "      <td>139.480000</td>\n",
       "      <td>304.500000</td>\n",
       "    </tr>\n",
       "    <tr>\n",
       "      <th>20</th>\n",
       "      <td>133.450980</td>\n",
       "      <td>151.697674</td>\n",
       "      <td>127.581818</td>\n",
       "      <td>266.000000</td>\n",
       "    </tr>\n",
       "    <tr>\n",
       "      <th>21</th>\n",
       "      <td>143.541772</td>\n",
       "      <td>136.545190</td>\n",
       "      <td>125.040650</td>\n",
       "      <td>230.193853</td>\n",
       "    </tr>\n",
       "    <tr>\n",
       "      <th>...</th>\n",
       "      <th>...</th>\n",
       "      <td>...</td>\n",
       "      <td>...</td>\n",
       "      <td>...</td>\n",
       "      <td>...</td>\n",
       "    </tr>\n",
       "    <tr>\n",
       "      <th rowspan=\"2\" valign=\"top\">18</th>\n",
       "      <th>23</th>\n",
       "      <td>113.196970</td>\n",
       "      <td>110.247423</td>\n",
       "      <td>78.568182</td>\n",
       "      <td>149.281250</td>\n",
       "    </tr>\n",
       "    <tr>\n",
       "      <th>24</th>\n",
       "      <td>102.646154</td>\n",
       "      <td>144.207547</td>\n",
       "      <td>85.841121</td>\n",
       "      <td>139.301471</td>\n",
       "    </tr>\n",
       "    <tr>\n",
       "      <th rowspan=\"3\" valign=\"top\">19</th>\n",
       "      <th>14</th>\n",
       "      <td>158.200000</td>\n",
       "      <td>162.512195</td>\n",
       "      <td>0.000000</td>\n",
       "      <td>0.000000</td>\n",
       "    </tr>\n",
       "    <tr>\n",
       "      <th>19</th>\n",
       "      <td>189.280000</td>\n",
       "      <td>174.516129</td>\n",
       "      <td>156.033333</td>\n",
       "      <td>246.515152</td>\n",
       "    </tr>\n",
       "    <tr>\n",
       "      <th>20</th>\n",
       "      <td>179.382166</td>\n",
       "      <td>145.768473</td>\n",
       "      <td>182.930348</td>\n",
       "      <td>258.493776</td>\n",
       "    </tr>\n",
       "  </tbody>\n",
       "</table>\n",
       "<p>154 rows × 4 columns</p>\n",
       "</div>"
      ],
      "text/plain": [
       "dateTime                  480         720         960         1200\n",
       "lat_grid long_grid                                                \n",
       "0        21         146.000000    0.000000    0.000000    0.000000\n",
       "         22         163.010445  131.187048  113.317735  194.578186\n",
       "1        19         132.193548  160.869565  139.480000  304.500000\n",
       "         20         133.450980  151.697674  127.581818  266.000000\n",
       "         21         143.541772  136.545190  125.040650  230.193853\n",
       "...                        ...         ...         ...         ...\n",
       "18       23         113.196970  110.247423   78.568182  149.281250\n",
       "         24         102.646154  144.207547   85.841121  139.301471\n",
       "19       14         158.200000  162.512195    0.000000    0.000000\n",
       "         19         189.280000  174.516129  156.033333  246.515152\n",
       "         20         179.382166  145.768473  182.930348  258.493776\n",
       "\n",
       "[154 rows x 4 columns]"
      ]
     },
     "execution_count": 7,
     "metadata": {},
     "output_type": "execute_result"
    }
   ],
   "source": [
    "df"
   ]
  },
  {
   "cell_type": "code",
   "execution_count": 8,
   "id": "e7ce66ed",
   "metadata": {},
   "outputs": [],
   "source": [
    "# from sklearn.experimental import enable_iterative_imputer\n",
    "# from sklearn.impute import IterativeImputer\n",
    "# df = data_preparation('PM Datasets/2021-01-23_all.csv')\n",
    "# imputer = IterativeImputer(imputation_order='ascending',max_iter=10,random_state=42,n_nearest_features=5)\n",
    "# imputed_dataset = imputer.fit_transform(df)"
   ]
  },
  {
   "cell_type": "code",
   "execution_count": 9,
   "id": "e4c417ee",
   "metadata": {},
   "outputs": [],
   "source": [
    "def my_loss(y_true, y_pred):\n",
    "    mse = tf.keras.losses.MeanSquaredError()\n",
    "#     mask = tf.sign(y_true)\n",
    "#     print(mask[mask>0])\n",
    "#     y_pred = y_pred*(mask)\n",
    "    loss = mse(y_pred[y_true>0], y_true[y_true>0] )\n",
    "#     loss = mse(tf.reshape(y_true,(-1,)),tf.reshape(y_pred,(-1,)))\n",
    "#     print(loss)\n",
    "    return loss"
   ]
  },
  {
   "cell_type": "code",
   "execution_count": 10,
   "id": "94b2f065",
   "metadata": {},
   "outputs": [],
   "source": [
    "from sklearn.experimental import enable_iterative_imputer\n",
    "# from sklearn.impute import IterativeImputer\n",
    "# imputer=IterativeImputer(imputation_order='ascending',max_iter=10,random_state=42,n_nearest_features=5)\n",
    "\n",
    "def train_test_split(df, grid_points_indices, train_size, full_train):\n",
    "#     random.seed(10)\n",
    "#     train_size = 0.8\n",
    "    #train-data for range from total grid structure\n",
    "    points_len = df.shape[0]\n",
    "    test_size = int(points_len * (1-train_size))\n",
    "    test_indices = random.sample(list(df.index), test_size)\n",
    "    train_indices = list(set(df.index) - set(test_indices))\n",
    "    \n",
    "    if full_train:\n",
    "        train_data = df\n",
    "    else:\n",
    "        train_data = df.loc[train_indices, :] \n",
    "#     imputed_trainset = imputer.fit_transform(train_data)\n",
    "    train_data['mask'] = 1\n",
    "    train_data = train_data[[480, 720, 960, 'mask', 1200]]\n",
    "#     train_data = pd.DataFrame(train_data,index = train_data.index)\n",
    "    train_data = train_data.reindex(grid_points_indices,fill_value=0)\n",
    "    train_data = np.array(train_data)\n",
    "\n",
    "    test_data = df.loc[test_indices, :] \n",
    "    test_data['mask'] = 1\n",
    "    test_data = test_data[[480, 720, 960, 'mask', 1200]]\n",
    "    test_data = test_data.reindex(grid_points_indices,fill_value=0)\n",
    "    test_data = np.array(test_data)\n",
    "    return train_data, test_data"
   ]
  },
  {
   "cell_type": "code",
   "execution_count": 11,
   "id": "02f37807",
   "metadata": {},
   "outputs": [],
   "source": [
    "def scale_data(train_data, test_data):\n",
    "    max_pm = train_data.max()\n",
    "    min_pm = train_data.min()\n",
    "    train_scaled = (train_data - min_pm) / (max_pm - min_pm)\n",
    "    test_scaled = (test_data - min_pm) / (max_pm - min_pm)\n",
    "    return train_scaled, test_scaled"
   ]
  },
  {
   "cell_type": "code",
   "execution_count": 13,
   "id": "59104e17",
   "metadata": {},
   "outputs": [],
   "source": [
    "# df = data_preparation('PM Datasets/2021-01-23_all.csv')\n",
    "# train_data, test_data = train_test_split(df, grid_points_indices, train_size=0.8, full_train = False)\n",
    "# train_data2, test_data2 = train_test_split(df2, grid_points_indices, train_size=0.8)"
   ]
  },
  {
   "cell_type": "code",
   "execution_count": 14,
   "id": "d8768137",
   "metadata": {},
   "outputs": [],
   "source": [
    "# train_data = np.hstack((train_data1, train_data2))\n",
    "# test_data = np.hstack((test_data1, test_data2))"
   ]
  },
  {
   "cell_type": "code",
   "execution_count": 12,
   "id": "0a893a3d",
   "metadata": {},
   "outputs": [],
   "source": [
    "def sequence_data_preparation(seq_len, train_data, test_data): \n",
    "    trainX, trainY, testX, testY = [], [], [], []\n",
    "    i = 0\n",
    "    while i< train_data.shape[1] - seq_len:\n",
    "        trainX.append(train_data[:, i : i + seq_len + 1])\n",
    "        trainY.append(train_data[:, i + seq_len + 1])\n",
    "        testX.append(test_data[:, i : i + seq_len + 1])\n",
    "        testY.append(test_data[:, i + seq_len + 1])\n",
    "        i = i + seq_len + 2\n",
    "        \n",
    "    trainX = np.array(trainX)\n",
    "    trainY = np.array(trainY)\n",
    "    testX = np.array(testX)\n",
    "    testY = np.array(testY)\n",
    "\n",
    "    return trainX, trainY, testX, testY"
   ]
  },
  {
   "cell_type": "code",
   "execution_count": 16,
   "id": "59e836c2",
   "metadata": {},
   "outputs": [],
   "source": [
    "# trainX, trainY, testX, testY  = sequence_data_preparation(3, train_data, test_data)\n",
    "# print(trainX.shape)\n",
    "# print(trainY.shape)\n",
    "# print(testX.shape)\n",
    "# print(testY.shape)"
   ]
  },
  {
   "cell_type": "code",
   "execution_count": 17,
   "id": "cd10b148",
   "metadata": {},
   "outputs": [],
   "source": [
    "# def prepare_train_data(df1, df2, grid_points_indices, train_size):\n",
    "#     train_data1, test_data1 = train_test_split(df1, grid_points_indices, train_size)\n",
    "#     train_data2, test_data2 = train_test_split(df2, grid_points_indices, train_size)\n",
    "#     train_data = np.hstack((train_data1, train_data2))\n",
    "#     test_data = np.hstack((test_data, test_data))\n",
    "#     print(\"Train data: \", train_data1.shape)\n",
    "#     print(\"Test data: \", test_data1.shape)\n",
    "#     train_scaled, test_scaled = scale_data(train_data, test_data)\n",
    "#     trainX, trainY, testX, testY = sequence_data_preparation(\n",
    "#         seq_len, train_scaled, test_scaled\n",
    "#     )\n",
    "#     print(trainX.shape)\n",
    "#     print(trainY.shape)\n",
    "#     print(testX.shape)\n",
    "#     print(testY.shape)\n",
    "#     return trainX, trainY, testX, testY, train_data"
   ]
  },
  {
   "cell_type": "code",
   "execution_count": 13,
   "id": "b1fc662d",
   "metadata": {},
   "outputs": [],
   "source": [
    "def prepare_train_data(df, grid_points_indices, train_size, full_train):\n",
    "    train_data, test_data = train_test_split(df, grid_points_indices, train_size, full_train)\n",
    "    print(\"Train data: \", train_data.shape)\n",
    "    print(\"Test data: \", test_data.shape)\n",
    "    train_scaled, test_scaled = scale_data(train_data, test_data)\n",
    "    trainX, trainY, testX, testY = sequence_data_preparation(\n",
    "        seq_len, train_scaled, test_scaled\n",
    "    )\n",
    "    print(trainX.shape)\n",
    "    print(trainY.shape)\n",
    "    print(testX.shape)\n",
    "    print(testY.shape)\n",
    "    return trainX, trainY, testX, testY, train_data"
   ]
  },
  {
   "cell_type": "code",
   "execution_count": 31,
   "id": "fc6b02ea",
   "metadata": {},
   "outputs": [],
   "source": [
    "def train_model(trainX, trainY, testX, testY, train_data, n_epochs):\n",
    "    cb = TimingCallback()\n",
    "\n",
    "    history = model.fit(\n",
    "            trainX,\n",
    "            trainY,\n",
    "            epochs = n_epochs,\n",
    "            batch_size = 1,\n",
    "            shuffle=True,\n",
    "            verbose=0,\n",
    "            validation_data=[testX, testY],\n",
    "            callbacks=[cb]\n",
    "        )\n",
    "\n",
    "    ## Rescale values\n",
    "    max_pm = train_data.max()\n",
    "    min_pm = train_data.min()\n",
    "    train_scaled = (train_data - min_pm) / (max_pm - min_pm)\n",
    "\n",
    "    print(\n",
    "        \"Mean Train loss: \",\n",
    "        sum(tf.sqrt(history.history[\"loss\"]))*max_pm/len(history.history[\"loss\"]),\n",
    "        \"\\n Last Train loss: \",\n",
    "        tf.sqrt(history.history[\"loss\"][-1])*max_pm,\n",
    "        \"\\n Mean Test loss:\",\n",
    "        sum(tf.sqrt(history.history[\"val_loss\"]))*max_pm/len(history.history[\"val_loss\"]),\n",
    "        \"\\n Last Test loss:\",\n",
    "        tf.sqrt(history.history[\"val_loss\"][-1])*max_pm,\n",
    "    #     \"\\nTrain time \", traintime,\n",
    "        \"\\n Train time callbacks\", sum(cb.logs)\n",
    "        \n",
    "    )\n",
    "    sg.utils.plot_history(history)"
   ]
  },
  {
   "cell_type": "code",
   "execution_count": null,
   "id": "5040e6ed",
   "metadata": {},
   "outputs": [],
   "source": []
  },
  {
   "cell_type": "code",
   "execution_count": 14,
   "id": "2752a30e",
   "metadata": {},
   "outputs": [],
   "source": [
    "def eval(model, testX, testY):\n",
    "    output = model.predict(trainX)\n",
    "    # yhat = model.predict(testX)\n",
    "\n",
    "    ## actual train and test values\n",
    "    ## Rescale values\n",
    "    max_pm = train_data.max()\n",
    "    min_pm = train_data.min()\n",
    "    train_true = np.array((trainY * (max_pm - min_pm)) + min_pm)\n",
    "    test_true = np.array((testY * (max_pm - min_pm)) + min_pm)\n",
    "\n",
    "    ## Rescale model predicted values\n",
    "    train_output = np.array((output * (max_pm - min_pm)) + min_pm)\n",
    "    # test_rescpred = np.array((yhat * (max_pm - min_pm)) + min_pm)\n",
    "\n",
    "    # # Masked predicted values\n",
    "    # mask_train = tf.sign(trainY)\n",
    "    mask_test = tf.sign(testY)\n",
    "    # train_rescpred = train_rescpred*(mask_train)\n",
    "    test_output = train_output*(mask_test)\n",
    "    test_mse = my_loss(test_true, train_output)\n",
    "    test_rmse = tf.sqrt(test_mse)\n",
    "    print(\"Test RMSE: \", test_rmse)\n",
    "    return test_output, test_true"
   ]
  },
  {
   "cell_type": "code",
   "execution_count": 15,
   "id": "d3e50feb",
   "metadata": {},
   "outputs": [
    {
     "name": "stdout",
     "output_type": "stream",
     "text": [
      "(270, 270)\n"
     ]
    }
   ],
   "source": [
    "from scipy.spatial.distance import pdist, squareform\n",
    "\n",
    "lat_range = {'min': 28.486, 'max': 28.72}\n",
    "long_range = {'min': 77.1, 'max': 77.32}\n",
    "n_lat_grid = 25\n",
    "n_long_grid = 25\n",
    "seq_len = 3\n",
    "\n",
    "#adjacency matrix\n",
    "grid_points = pd.read_csv('grid_points_25.csv')\n",
    "n_grid_points = grid_points.shape[0] \n",
    "X = grid_points[[\"lat_grid\", \"long_grid\"]].to_numpy()\n",
    "f = lambda u, v: max(abs(u-v))<=1\n",
    "adj = squareform(pdist(X, f))\n",
    "eye = np.identity(n_grid_points)\n",
    "adj = adj+eye\n",
    "print(adj.shape) \n",
    "\n",
    "grid_points = grid_points.pivot_table(index=['lat_grid', 'long_grid'])\n",
    "grid_points_indices = grid_points.index"
   ]
  },
  {
   "cell_type": "code",
   "execution_count": 33,
   "id": "40515632",
   "metadata": {
    "scrolled": true
   },
   "outputs": [
    {
     "name": "stderr",
     "output_type": "stream",
     "text": [
      "/home/gauri/anaconda3/envs/crypten/lib/python3.7/site-packages/ipykernel_launcher.py:7: ExperimentalWarning: GCN_LSTM is experimental: Lack of unit tests and code refinement (see: https://github.com/stellargraph/stellargraph/issues/1132, https://github.com/stellargraph/stellargraph/issues/1526, https://github.com/stellargraph/stellargraph/issues/1564). It may be difficult to use and may have major changes at any time.\n",
      "  import sys\n"
     ]
    },
    {
     "name": "stdout",
     "output_type": "stream",
     "text": [
      "Model: \"model_1\"\n",
      "_________________________________________________________________\n",
      " Layer (type)                Output Shape              Param #   \n",
      "=================================================================\n",
      " input_3 (InputLayer)        [(None, 270, 4)]          0         \n",
      "                                                                 \n",
      " tf.expand_dims_1 (TFOpLambd  (None, 270, 4, 1)        0         \n",
      " a)                                                              \n",
      "                                                                 \n",
      " reshape_3 (Reshape)         (None, 270, 4)            0         \n",
      "                                                                 \n",
      " fixed_adjacency_graph_convo  (None, 270, 4)           73186     \n",
      " lution_2 (FixedAdjacencyGra                                     \n",
      " phConvolution)                                                  \n",
      "                                                                 \n",
      " fixed_adjacency_graph_convo  (None, 270, 4)           73186     \n",
      " lution_3 (FixedAdjacencyGra                                     \n",
      " phConvolution)                                                  \n",
      "                                                                 \n",
      " reshape_4 (Reshape)         (None, 270, 4, 1)         0         \n",
      "                                                                 \n",
      " permute_1 (Permute)         (None, 4, 270, 1)         0         \n",
      "                                                                 \n",
      " reshape_5 (Reshape)         (None, 4, 270)            0         \n",
      "                                                                 \n",
      " lstm_2 (LSTM)               (None, 4, 4)              4400      \n",
      "                                                                 \n",
      " lstm_3 (LSTM)               (None, 4)                 144       \n",
      "                                                                 \n",
      " dropout_1 (Dropout)         (None, 4)                 0         \n",
      "                                                                 \n",
      " dense_1 (Dense)             (None, 270)               1350      \n",
      "                                                                 \n",
      "=================================================================\n",
      "Total params: 152,266\n",
      "Trainable params: 6,466\n",
      "Non-trainable params: 145,800\n",
      "_________________________________________________________________\n",
      "None\n"
     ]
    }
   ],
   "source": [
    "gcn_lstm = GCN_LSTM(\n",
    "        seq_len=seq_len+1,\n",
    "        adj=adj,\n",
    "        gc_layer_sizes=[4, 4],\n",
    "        gc_activations=[\"relu\", \"relu\"],\n",
    "        lstm_layer_sizes=[4, 4],\n",
    "        lstm_activations=[\"tanh\", \"tanh\"],\n",
    "    )\n",
    "x_input, x_output = gcn_lstm.in_out_tensors()\n",
    "model = Model(inputs=x_input, outputs=x_output)\n",
    "opt = tf.optimizers.Adam(learning_rate = 0.01)\n",
    "model.compile(optimizer=opt, loss=my_loss)\n",
    "print(model.summary())"
   ]
  },
  {
   "cell_type": "code",
   "execution_count": 34,
   "id": "e055c04f",
   "metadata": {
    "scrolled": false
   },
   "outputs": [
    {
     "name": "stdout",
     "output_type": "stream",
     "text": [
      "Train data:  (270, 5)\n",
      "Test data:  (270, 5)\n",
      "(1, 270, 4)\n",
      "(1, 270)\n",
      "(1, 270, 4)\n",
      "(1, 270)\n",
      "Mean Train loss:  tf.Tensor(17.306585, shape=(), dtype=float32) \n",
      " Last Train loss:  tf.Tensor(18.784363, shape=(), dtype=float32) \n",
      " Mean Test loss: tf.Tensor(50.908253, shape=(), dtype=float32) \n",
      " Last Test loss: tf.Tensor(50.73872, shape=(), dtype=float32) \n",
      " Train time callbacks 12.930786300000364\n"
     ]
    },
    {
     "data": {
      "image/png": "[encoded data removed]",
      "text/plain": [
       "<Figure size 504x288 with 1 Axes>"
      ]
     },
     "metadata": {
      "needs_background": "light"
     },
     "output_type": "display_data"
    }
   ],
   "source": [
    "df = data_preparation('PM Datasets/2021-01-23_all.csv')\n",
    "trainX, trainY, testX, testY, train_data = prepare_train_data(df, grid_points_indices, train_size = 0.8, full_train = False)\n",
    "max_pm = train_data.max()\n",
    "min_pm = train_data.min()\n",
    "train_model(trainX, trainY, testX, testY, train_data, n_epochs = 100)"
   ]
  },
  {
   "cell_type": "code",
   "execution_count": 24,
   "id": "7f2880f4",
   "metadata": {},
   "outputs": [
    {
     "name": "stdout",
     "output_type": "stream",
     "text": [
      "1/1 [==============================] - 0s 58ms/step\n",
      "1/1 [==============================] - 0s 51ms/step\n",
      "1/1 [==============================] - 0s 38ms/step\n",
      "1/1 [==============================] - 0s 44ms/step\n",
      "1/1 [==============================] - 0s 43ms/step\n",
      "1/1 [==============================] - 0s 55ms/step\n",
      "1/1 [==============================] - 0s 50ms/step\n",
      "1/1 [==============================] - 0s 42ms/step\n",
      "1/1 [==============================] - 0s 40ms/step\n",
      "1/1 [==============================] - 0s 43ms/step\n",
      "1/1 [==============================] - 0s 40ms/step\n",
      "1/1 [==============================] - 0s 56ms/step\n",
      "1/1 [==============================] - 0s 42ms/step\n",
      "1/1 [==============================] - 0s 41ms/step\n",
      "1/1 [==============================] - 0s 40ms/step\n",
      "1/1 [==============================] - 0s 40ms/step\n",
      "1/1 [==============================] - 0s 47ms/step\n",
      "1/1 [==============================] - 0s 48ms/step\n",
      "1/1 [==============================] - 0s 46ms/step\n",
      "1/1 [==============================] - 0s 44ms/step\n",
      "1/1 [==============================] - 0s 41ms/step\n",
      "1/1 [==============================] - 0s 49ms/step\n",
      "1/1 [==============================] - 0s 74ms/step\n",
      "1/1 [==============================] - 0s 41ms/step\n",
      "1/1 [==============================] - 0s 41ms/step\n",
      "1/1 [==============================] - 0s 40ms/step\n",
      "1/1 [==============================] - 0s 40ms/step\n",
      "1/1 [==============================] - 0s 39ms/step\n",
      "1/1 [==============================] - 0s 40ms/step\n",
      "1/1 [==============================] - 0s 46ms/step\n",
      "1/1 [==============================] - 0s 41ms/step\n",
      "1/1 [==============================] - 0s 40ms/step\n",
      "1/1 [==============================] - 0s 40ms/step\n",
      "1/1 [==============================] - 0s 40ms/step\n",
      "1/1 [==============================] - 0s 40ms/step\n",
      "1/1 [==============================] - 0s 40ms/step\n",
      "1/1 [==============================] - 0s 40ms/step\n",
      "1/1 [==============================] - 0s 52ms/step\n",
      "1/1 [==============================] - 0s 41ms/step\n",
      "1/1 [==============================] - 0s 41ms/step\n",
      "1/1 [==============================] - 0s 41ms/step\n",
      "1/1 [==============================] - 0s 45ms/step\n",
      "1/1 [==============================] - 0s 45ms/step\n",
      "1/1 [==============================] - 0s 40ms/step\n",
      "1/1 [==============================] - 0s 40ms/step\n",
      "1/1 [==============================] - 0s 39ms/step\n",
      "1/1 [==============================] - 0s 42ms/step\n",
      "1/1 [==============================] - 0s 47ms/step\n",
      "1/1 [==============================] - 0s 48ms/step\n",
      "1/1 [==============================] - 0s 43ms/step\n",
      "1/1 [==============================] - 0s 42ms/step\n",
      "1/1 [==============================] - 0s 43ms/step\n",
      "1/1 [==============================] - 0s 42ms/step\n",
      "1/1 [==============================] - 0s 41ms/step\n",
      "1/1 [==============================] - 0s 40ms/step\n",
      "1/1 [==============================] - 0s 44ms/step\n",
      "1/1 [==============================] - 0s 41ms/step\n",
      "1/1 [==============================] - 0s 41ms/step\n",
      "1/1 [==============================] - 0s 42ms/step\n",
      "1/1 [==============================] - 0s 41ms/step\n",
      "1/1 [==============================] - 0s 40ms/step\n",
      "1/1 [==============================] - 0s 40ms/step\n",
      "1/1 [==============================] - 0s 40ms/step\n",
      "1/1 [==============================] - 0s 40ms/step\n",
      "1/1 [==============================] - 0s 51ms/step\n",
      "1/1 [==============================] - 0s 42ms/step\n",
      "1/1 [==============================] - 0s 41ms/step\n",
      "1/1 [==============================] - 0s 51ms/step\n",
      "1/1 [==============================] - 0s 48ms/step\n",
      "1/1 [==============================] - 0s 53ms/step\n",
      "1/1 [==============================] - 0s 41ms/step\n",
      "1/1 [==============================] - 0s 122ms/step\n",
      "1/1 [==============================] - 0s 44ms/step\n",
      "1/1 [==============================] - 0s 48ms/step\n",
      "1/1 [==============================] - 0s 42ms/step\n",
      "1/1 [==============================] - 0s 41ms/step\n",
      "1/1 [==============================] - 0s 63ms/step\n",
      "1/1 [==============================] - 0s 40ms/step\n",
      "1/1 [==============================] - 0s 41ms/step\n",
      "1/1 [==============================] - 0s 40ms/step\n",
      "1/1 [==============================] - 0s 42ms/step\n",
      "1/1 [==============================] - 0s 40ms/step\n",
      "1/1 [==============================] - 0s 42ms/step\n",
      "1/1 [==============================] - 0s 44ms/step\n",
      "1/1 [==============================] - 0s 46ms/step\n",
      "1/1 [==============================] - 0s 40ms/step\n",
      "1/1 [==============================] - 0s 40ms/step\n",
      "1/1 [==============================] - 0s 39ms/step\n",
      "1/1 [==============================] - 0s 41ms/step\n",
      "1/1 [==============================] - 0s 40ms/step\n",
      "1/1 [==============================] - 0s 47ms/step\n",
      "1/1 [==============================] - 0s 42ms/step\n",
      "1/1 [==============================] - 0s 42ms/step\n",
      "1/1 [==============================] - 0s 43ms/step\n",
      "1/1 [==============================] - 0s 40ms/step\n",
      "1/1 [==============================] - 0s 40ms/step\n",
      "1/1 [==============================] - 0s 37ms/step\n",
      "1/1 [==============================] - 0s 41ms/step\n",
      "1/1 [==============================] - 0s 58ms/step\n",
      "1/1 [==============================] - 0s 45ms/step\n"
     ]
    }
   ],
   "source": [
    "n_epochs = 100\n",
    "train_loss_array = []\n",
    "train_rmse_array = []\n",
    "test_loss_array = []\n",
    "test_rmse_array = []\n",
    "x = trainX\n",
    "y = trainY\n",
    "x_val = testX\n",
    "y_val = testY\n",
    "for epoch in range(n_epochs):\n",
    "    \n",
    "    with tf.GradientTape() as tape: # Forward pass\n",
    "        y_ = model(x, training=True)\n",
    "        loss = my_loss(y_true=y, y_pred=y_)\n",
    "    grad = tape.gradient(loss, model.trainable_variables) # Backpropagation\n",
    "    opt.apply_gradients(zip(grad, model.trainable_variables)) # Update network weights\n",
    "    train_loss_array.append(loss)\n",
    "    train_rmse_array.append(tf.sqrt(loss))\n",
    "#     print(loss)\n",
    "    \n",
    "    y_test = model.predict(x_val) # Validation predictions\n",
    "    test_loss = my_loss(y_true=y_val, y_pred=y_test)\n",
    "    test_loss_array.append(test_loss)\n",
    "    test_rmse_array.append(tf.sqrt(test_loss))\n",
    "#     print(test_loss)"
   ]
  },
  {
   "cell_type": "code",
   "execution_count": 35,
   "id": "a4af1a33",
   "metadata": {},
   "outputs": [
    {
     "data": {
      "text/plain": [
       "<matplotlib.legend.Legend at 0x7fa637e25f90>"
      ]
     },
     "execution_count": 35,
     "metadata": {},
     "output_type": "execute_result"
    },
    {
     "data": {
      "image/png": "[encoded data removed]",
      "text/plain": [
       "<Figure size 432x288 with 1 Axes>"
      ]
     },
     "metadata": {
      "needs_background": "light"
     },
     "output_type": "display_data"
    }
   ],
   "source": [
    "import matplotlib.pyplot as plt\n",
    "titleFontSize = 15\n",
    "labelFontSize = 12\n",
    "tickFontSize = 10\n",
    "legendFontSize = 10\n",
    "labelStr = \"size = \"\n",
    "yLabel = \"% of test points with lower error\"\n",
    "xLabel = \"Error %\"\n",
    "count_arr = [i for i in range(1, len(train_loss_array) + 1)]\n",
    "plt.plot(count_arr, train_loss_array, label = \"Train loss\", color='red')\n",
    "plt.plot(count_arr, test_loss_array, label = \"Test loss\", color='blue')\n",
    "plt.title(\"Training loss vs epochs(Pytorch)\", fontsize=titleFontSize)\n",
    "plt.xlabel(\"Epochs\", fontsize=labelFontSize)\n",
    "plt.ylabel(\"Training loss\", fontsize=labelFontSize)\n",
    "plt.xticks(fontsize=tickFontSize)\n",
    "plt.yticks(fontsize=tickFontSize)\n",
    "plt.tight_layout()\n",
    "plt.legend(prop={\"size\": legendFontSize})\n",
    "# plt.savefig(\"pytorch_loss.png\")"
   ]
  },
  {
   "cell_type": "code",
   "execution_count": 28,
   "id": "cb924ffa",
   "metadata": {},
   "outputs": [
    {
     "name": "stdout",
     "output_type": "stream",
     "text": [
      "tf.Tensor(0.08108307403380502, shape=(), dtype=float64)\n"
     ]
    }
   ],
   "source": [
    "# print(test_rmse_array[-1])"
   ]
  },
  {
   "cell_type": "code",
   "execution_count": 29,
   "id": "b100f570",
   "metadata": {},
   "outputs": [
    {
     "data": {
      "text/plain": [
       "26.91668475515063"
      ]
     },
     "execution_count": 29,
     "metadata": {},
     "output_type": "execute_result"
    }
   ],
   "source": [
    "# 0.08108307403380502*max_pm"
   ]
  },
  {
   "cell_type": "code",
   "execution_count": null,
   "id": "7ca1d127",
   "metadata": {},
   "outputs": [],
   "source": [
    "#all test result visualization\n",
    "test_output, test_true = eval(model, trainX, testY)\n",
    "fig1 = plt.figure(figsize=(15, 8))\n",
    "a_out = test_output[test_output>0]\n",
    "a_true = test_true[test_true>0]\n",
    "plt.plot(a_out, \"r-\", label=\"prediction\")\n",
    "plt.plot(a_true, \"b-\", label=\"true\")\n",
    "plt.xlabel(\"grid point\")\n",
    "plt.ylabel(\"PM2.5\")\n",
    "plt.legend(loc=\"best\", fontsize=10)\n",
    "plt.show()"
   ]
  },
  {
   "cell_type": "code",
   "execution_count": null,
   "id": "886d2b5c",
   "metadata": {},
   "outputs": [],
   "source": [
    "df"
   ]
  },
  {
   "cell_type": "code",
   "execution_count": null,
   "id": "4162f479",
   "metadata": {},
   "outputs": [],
   "source": [
    "# df = data_preparation('PM Datasets/2020-11-15_all.csv')\n",
    "# train_data, test_data = train_test_split(df, grid_points_indices, train_size = 0.8, full_train = True)\n",
    "\n",
    "# for i in range(16, 31):\n",
    "\n",
    "#     if i<10:\n",
    "#         datafile = 'PM Datasets/2020-11-' + str(0) + str(i) + '_all.csv'\n",
    "#     else:\n",
    "#         datafile = 'PM Datasets/2020-11-' + str(i) + '_all.csv'\n",
    "#     df = data_preparation(datafile)\n",
    "#     train_data1, test_data1 = train_test_split(df, grid_points_indices, train_size = 0.8, full_train = True)\n",
    "#     train_data = np.hstack((train_data, train_data1))\n",
    "#     test_data = np.hstack((test_data, test_data1))\n",
    "# for i in range(1, 16):\n",
    "\n",
    "#     if i<10:\n",
    "#         datafile = 'PM Datasets/2021-01-' + str(0) + str(i) + '_all.csv'\n",
    "#     else:\n",
    "#         datafile = 'PM Datasets/2021-01-' + str(i) + '_all.csv'\n",
    "#     df = data_preparation(datafile)\n",
    "#     train_data1, test_data1 = train_test_split(df, grid_points_indices, train_size = 0.8, full_train = True)\n",
    "#     train_data = np.hstack((train_data, train_data1))\n",
    "#     test_data = np.hstack((test_data, test_data1))\n",
    "\n",
    "# print(\"Train data: \", train_data.shape)\n",
    "# print(\"Test data: \", test_data.shape)\n",
    "# train_scaled, test_scaled = scale_data(train_data, test_data)\n",
    "# trainX, trainY, testX, testY = sequence_data_preparation(\n",
    "#     seq_len, train_scaled, test_scaled\n",
    "# )\n",
    "# print(trainX.shape)\n",
    "# print(trainY.shape)\n",
    "# print(testX.shape)\n",
    "# print(testY.shape)\n"
   ]
  },
  {
   "cell_type": "code",
   "execution_count": null,
   "id": "8641202e",
   "metadata": {},
   "outputs": [],
   "source": [
    "# train_model(trainX, trainY, testX, testY, train_data, 100)"
   ]
  },
  {
   "cell_type": "code",
   "execution_count": null,
   "id": "bae4a70f",
   "metadata": {},
   "outputs": [],
   "source": [
    "# df = data_preparation('PM Datasets/2021-01-23_all.csv')\n",
    "# trainX, trainY, testX, testY, train_data = prepare_train_data(df, grid_points_indices, train_size = 0.8, full_train = False)\n",
    "# # train_model(trainX, trainY, testX, testY, train_data, 50)\n",
    "# #all test result visualization\n",
    "# test_output, test_true = eval(model, trainX, testY)\n",
    "# fig1 = plt.figure(figsize=(15, 8))\n",
    "# a_out = test_output[test_output>0]\n",
    "# a_true = test_true[test_true>0]\n",
    "# plt.plot(a_out, \"r-\", label=\"prediction\")\n",
    "# plt.plot(a_true, \"b-\", label=\"true\")\n",
    "# plt.xlabel(\"grid point\")\n",
    "# plt.ylabel(\"PM2.5\")\n",
    "# plt.legend(loc=\"best\", fontsize=10)\n",
    "# plt.show()"
   ]
  },
  {
   "cell_type": "code",
   "execution_count": null,
   "id": "4aebce46",
   "metadata": {},
   "outputs": [],
   "source": [
    "# df = data_preparation('PM Datasets/2021-01-23_all.csv')\n",
    "# trainX, trainY, testX, testY, train_data = prepare_train_data(df, grid_points_indices, train_size = 0.8, full_train = False)\n",
    "# train_model(trainX, trainY, testX, testY, train_data, 60)\n",
    "# #all test result visualization\n",
    "# test_output, test_true = eval(model, trainX, testY)\n",
    "# fig1 = plt.figure(figsize=(15, 8))\n",
    "# a_out = test_output[test_output>0]\n",
    "# a_true = test_true[test_true>0]a\n",
    "# plt.plot(a_out, \"r-\", label=\"prediction\")\n",
    "# plt.plot(a_true, \"b-\", label=\"true\")\n",
    "# plt.xlabel(\"grid point\")\n",
    "# plt.ylabel(\"PM2.5\")\n",
    "# plt.legend(loc=\"best\", fontsize=10)\n",
    "# plt.show()"
   ]
  },
  {
   "cell_type": "code",
   "execution_count": null,
   "id": "c40a8bb7",
   "metadata": {},
   "outputs": [],
   "source": []
  },
  {
   "cell_type": "code",
   "execution_count": null,
   "id": "a5298191",
   "metadata": {},
   "outputs": [],
   "source": [
    "# for i in range(24, 30):\n",
    "\n",
    "#     if i<10:\n",
    "#         datafile = 'PM Datasets/2021-01-' + str(0) + str(i) + '_all.csv'\n",
    "#     else:\n",
    "#         datafile = 'PM Datasets/2021-01-' + str(i) + '_all.csv'\n",
    "#     df = data_preparation(datafile)\n",
    "# #     if(df.shape[1]) != 12:\n",
    "# #         continue\n",
    "#     trainX, trainY, testX, testY, train_data = prepare_train_data(df, grid_points_indices, train_size = 0.8, full_train = False)\n",
    "#     train_model(trainX, trainY, testX, testY, train_data, 60)\n",
    "#     test_output, test_true = eval(model, trainX, testY)\n",
    "#     fig1 = plt.figure(figsize=(6, 6))\n",
    "#     a_out = test_output[test_output>0]\n",
    "#     a_true = test_true[test_true>0]\n",
    "#     plt.plot(a_out, \"r-\", label=\"prediction\")\n",
    "#     plt.plot(a_true, \"b-\", label=\"true\")\n",
    "#     plt.xlabel(\"grid point\")\n",
    "#     plt.ylabel(\"PM2.5\")\n",
    "#     plt.legend(loc=\"best\", fontsize=10)\n",
    "#     plt.show()"
   ]
  },
  {
   "cell_type": "code",
   "execution_count": null,
   "id": "4c8334b1",
   "metadata": {},
   "outputs": [],
   "source": []
  }
 ],
 "metadata": {
  "kernelspec": {
   "display_name": "Python 3 (ipykernel)",
   "language": "python",
   "name": "python3"
  },
  "language_info": {
   "codemirror_mode": {
    "name": "ipython",
    "version": 3
   },
   "file_extension": ".py",
   "mimetype": "text/x-python",
   "name": "python",
   "nbconvert_exporter": "python",
   "pygments_lexer": "ipython3",
   "version": "3.7.11"
  }
 },
 "nbformat": 4,
 "nbformat_minor": 5
}
