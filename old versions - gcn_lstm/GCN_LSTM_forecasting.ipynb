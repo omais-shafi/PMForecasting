{
 "cells": [
  {
   "cell_type": "code",
   "execution_count": 1,
   "id": "05a0f759",
   "metadata": {},
   "outputs": [],
   "source": [
    "# !pip install stellargraph[demos]"
   ]
  },
  {
   "cell_type": "code",
   "execution_count": 1,
   "id": "1b01d87c",
   "metadata": {},
   "outputs": [
    {
     "name": "stderr",
     "output_type": "stream",
     "text": [
      "2022-05-15 22:41:54.881888: W tensorflow/stream_executor/platform/default/dso_loader.cc:64] Could not load dynamic library 'libcudart.so.11.0'; dlerror: libcudart.so.11.0: cannot open shared object file: No such file or directory\n",
      "2022-05-15 22:41:54.883072: I tensorflow/stream_executor/cuda/cudart_stub.cc:29] Ignore above cudart dlerror if you do not have a GPU set up on your machine.\n",
      "2022-05-15 22:42:45.313887: W tensorflow/stream_executor/platform/default/dso_loader.cc:64] Could not load dynamic library 'libcuda.so.1'; dlerror: libcuda.so.1: cannot open shared object file: No such file or directory\n",
      "2022-05-15 22:42:45.316756: W tensorflow/stream_executor/cuda/cuda_driver.cc:269] failed call to cuInit: UNKNOWN ERROR (303)\n",
      "2022-05-15 22:42:45.317707: I tensorflow/stream_executor/cuda/cuda_diagnostics.cc:156] kernel driver does not appear to be running on this host (DESKTOP-F3GKG0K): /proc/driver/nvidia/version does not exist\n",
      "2022-05-15 22:42:45.343615: I tensorflow/core/platform/cpu_feature_guard.cc:151] This TensorFlow binary is optimized with oneAPI Deep Neural Network Library (oneDNN) to use the following CPU instructions in performance-critical operations:  AVX2 FMA\n",
      "To enable them in other operations, rebuild TensorFlow with the appropriate compiler flags.\n"
     ]
    }
   ],
   "source": [
    "import stellargraph as sg\n",
    "import os\n",
    "import sys\n",
    "import urllib.request\n",
    "\n",
    "import numpy as np\n",
    "import pandas as pd\n",
    "import matplotlib.pyplot as plt\n",
    "import matplotlib.lines as mlines\n",
    "import sys\n",
    "\n",
    "import tensorflow as tf\n",
    "from tensorflow import keras\n",
    "from tensorflow.keras import Sequential, Model\n",
    "from stellargraph.layer import GCN_LSTM\n",
    "\n",
    "import datetime\n",
    "import random\n",
    "random.seed(10)"
   ]
  },
  {
   "cell_type": "code",
   "execution_count": 2,
   "id": "384942b1",
   "metadata": {},
   "outputs": [],
   "source": [
    "from scipy.spatial.distance import pdist, squareform\n",
    "\n",
    "lat_range = {'min': 28.486, 'max': 28.72}\n",
    "long_range = {'min': 77.1, 'max': 77.32}\n",
    "n_lat_grid = 25\n",
    "n_long_grid = 25\n",
    "seq_len = 3\n",
    "pre_len = 1\n",
    "\n",
    "#adjacency matrix\n",
    "grid_points = pd.read_csv('grid_points_25.csv')\n",
    "n_grid_points = grid_points.shape[0] \n",
    "X = grid_points[[\"lat_grid\", \"long_grid\"]].to_numpy()\n",
    "f = lambda u, v: max(abs(u-v))<=1\n",
    "adj = squareform(pdist(X, f))\n",
    "eye = np.identity(n_grid_points)\n",
    "adj = adj+eye\n",
    "\n",
    "grid_points = grid_points.pivot_table(index=['lat_grid', 'long_grid'])\n",
    "grid_points_indices = grid_points.index"
   ]
  },
  {
   "cell_type": "code",
   "execution_count": 3,
   "id": "6507b6d1",
   "metadata": {},
   "outputs": [],
   "source": [
    "from timeit import default_timer as timer\n",
    "\n",
    "class TimingCallback(keras.callbacks.Callback):\n",
    "    def __init__(self, logs={}):\n",
    "        self.logs=[]\n",
    "    def on_epoch_begin(self, epoch, logs={}):\n",
    "        self.starttime = timer()\n",
    "    def on_epoch_end(self, epoch, logs={}):\n",
    "        self.logs.append(timer()-self.starttime)"
   ]
  },
  {
   "cell_type": "code",
   "execution_count": 4,
   "id": "5539f763",
   "metadata": {},
   "outputs": [],
   "source": [
    "def data_preparation(datafile):\n",
    "    #Put the file location\n",
    "    df = pd.read_csv(datafile)\n",
    "    #type casting\n",
    "    df.pm1_0 = df.pm1_0.astype(float)\n",
    "    df.pm2_5 = df.pm2_5.astype(float)\n",
    "    df.pm10 = df.pm10.astype(float)\n",
    "    df.lat = round(round(5*df.lat.astype(float),2)/5.0,3)\n",
    "    df.long= round(round(5*df.long.astype(float),2)/5.0,3)\n",
    "\n",
    "    # Ensuring Delhi region and removing outliers from data\n",
    "    df = df[(df.lat.astype(int) == 28) &(df.long.astype(int) == 77)]\n",
    "    df = df[(df.pm1_0<=1500) & (df.pm2_5<=1500) & (df.pm10<=1500) & (df.pm1_0>=20) & (df.pm2_5>=30) & (df.pm10>=30)]\n",
    "    #df = df[(df.humidity<=60)&(df.humidity>=7)]\n",
    "\n",
    "\n",
    "    # only PM2_5\n",
    "    df = df[['dateTime','lat','long','pm2_5']]\n",
    "\n",
    "    # TODO: Add buffer and consider train-data for range\n",
    "    lat_range = {'min': df.lat.min(), 'max': df.lat.max()}\n",
    "    long_range = {'min': df.long.min(), 'max': df.long.max()}\n",
    "\n",
    "    df['lat_grid'] = df.apply(lambda row: int((n_lat_grid-1)*(row.lat-lat_range['min'])/(lat_range['max']-lat_range['min'])), axis=1 )\n",
    "    df['long_grid'] = df.apply(lambda row: int((n_long_grid-1)*(row.long-long_range['min'])/(long_range['max']-long_range['min'])), axis=1 )\n",
    "    df['lat_grid'] = df['lat_grid'].astype(float).astype(int)\n",
    "    df['long_grid'] = df['long_grid'].astype(float).astype(int)\n",
    "\n",
    "    # rounding @120min\n",
    "    df.dateTime = pd.to_datetime(df.dateTime)\n",
    "    df.dateTime = df.dateTime.dt.round('180min')\n",
    "    # use time as a feature as well\n",
    "    df.dateTime = df.dateTime.dt.hour*60 + df.dateTime.dt.minute\n",
    "    df = df[(df.dateTime>=360)] \n",
    "\n",
    "    # only PM2_5\n",
    "#     df = df[['dateTime','lat_grid','long_grid','pm2_5\n",
    "    df = df.pivot_table(index=['lat_grid','long_grid'], columns='dateTime', aggfunc='mean')['pm2_5']\n",
    "    columns = df.columns\n",
    "#     df = df[columns[2:]]\n",
    "    df = df.fillna(0)\n",
    "    \n",
    "    return df"
   ]
  },
  {
   "cell_type": "code",
   "execution_count": 5,
   "id": "8ab45d39",
   "metadata": {},
   "outputs": [],
   "source": [
    "# df = data_preparation('PM Datasets/2021-01-23_all.csv')"
   ]
  },
  {
   "cell_type": "code",
   "execution_count": 6,
   "id": "d0b64605",
   "metadata": {},
   "outputs": [],
   "source": [
    "# df"
   ]
  },
  {
   "cell_type": "code",
   "execution_count": 7,
   "id": "91c510ff",
   "metadata": {},
   "outputs": [],
   "source": [
    "# !pip install missingno"
   ]
  },
  {
   "cell_type": "code",
   "execution_count": 8,
   "id": "fcb986ea",
   "metadata": {},
   "outputs": [],
   "source": [
    "# import missingno as msno\n",
    "# import matplotlib.pyplot as plt\n",
    "# df = data_preparation('PM Datasets/2021-01-23_all.csv')\n",
    "# msno.bar(df, figsize=(12, 6), fontsize=12, color='steelblue')"
   ]
  },
  {
   "cell_type": "code",
   "execution_count": 9,
   "id": "94b2f065",
   "metadata": {},
   "outputs": [],
   "source": [
    "def train_test_split(df, grid_points_indices, train_size):\n",
    "#     random.seed(10)\n",
    "    time_len = df.shape[1]\n",
    "    train_size = int(time_len * train_size) \n",
    "    train_data = df.iloc[:, :train_size]\n",
    "    train_data = train_data.reindex(grid_points_indices,fill_value=0)\n",
    "    train_data = np.array(train_data)\n",
    "    test_data = df.iloc[:, train_size:]\n",
    "    test_data = test_data.reindex(grid_points_indices,fill_value=0)\n",
    "    test_data = np.array(test_data)\n",
    "    return train_data, test_data"
   ]
  },
  {
   "cell_type": "code",
   "execution_count": 10,
   "id": "02f37807",
   "metadata": {},
   "outputs": [],
   "source": [
    "def scale_data(train_data, test_data):\n",
    "    max_pm = train_data.max()\n",
    "    min_pm = train_data.min()\n",
    "    train_scaled = (train_data - min_pm) / (max_pm - min_pm)\n",
    "    test_scaled = (test_data - min_pm) / (max_pm - min_pm)\n",
    "    return train_scaled, test_scaled"
   ]
  },
  {
   "cell_type": "code",
   "execution_count": 11,
   "id": "1103061e",
   "metadata": {},
   "outputs": [],
   "source": [
    "def sequence_data_preparation(seq_len, pre_len, train_data, test_data):\n",
    "    trainX, trainY, testX, testY = [], [], [], []\n",
    "\n",
    "    for i in range(train_data.shape[1] - int(seq_len + pre_len - 1)):\n",
    "        a = train_data[:, i : i + seq_len + pre_len]\n",
    "        trainX.append(a[:, :seq_len])\n",
    "        trainY.append(a[:, -1])\n",
    "\n",
    "    for i in range(test_data.shape[1] - int(seq_len + pre_len - 1)):\n",
    "        b = test_data[:, i : i + seq_len + pre_len]\n",
    "        testX.append(b[:, :seq_len])\n",
    "        testY.append(b[:, -1])\n",
    "\n",
    "    trainX = np.array(trainX)\n",
    "    trainY = np.array(trainY)\n",
    "    testX = np.array(testX)\n",
    "    testY = np.array(testY)\n",
    "\n",
    "    return trainX, trainY, testX, testY"
   ]
  },
  {
   "cell_type": "code",
   "execution_count": 12,
   "id": "a3496a51",
   "metadata": {},
   "outputs": [],
   "source": [
    "def my_loss(y_true, y_pred):\n",
    "    mse = tf.keras.losses.MeanSquaredError()  \n",
    "    loss = mse(y_pred[y_true>0], y_true[y_true>0] )\n",
    "    return loss"
   ]
  },
  {
   "cell_type": "code",
   "execution_count": 13,
   "id": "b1fc662d",
   "metadata": {},
   "outputs": [],
   "source": [
    "def prepare_train_data(df, grid_points_indices, train_size = 0.8):\n",
    "    train_data, test_data = train_test_split(df, grid_points_indices, train_size)\n",
    "    print(\"Train data: \", train_data.shape)\n",
    "    print(\"Test data: \", test_data.shape)\n",
    "    train_scaled, test_scaled = scale_data(train_data, test_data)\n",
    "    trainX, trainY, testX, testY = sequence_data_preparation(\n",
    "        seq_len, pre_len, train_scaled, test_scaled\n",
    "    )\n",
    "    print('trainX: ', trainX.shape)\n",
    "    print('trainY: ', trainY.shape)\n",
    "    print('testX: ', testX.shape)\n",
    "    print('testY: ', testY.shape)\n",
    "    return trainX, trainY, testX, testY, train_data"
   ]
  },
  {
   "cell_type": "code",
   "execution_count": 14,
   "id": "fc6b02ea",
   "metadata": {},
   "outputs": [],
   "source": [
    "def train_model(model, n_epochs, trainX, trainY, testX, testY, train_data, save_path = None, out_df = True):\n",
    "    cb = TimingCallback()\n",
    "    net = model\n",
    "    history = net.fit(\n",
    "            trainX,\n",
    "            trainY,\n",
    "            epochs = n_epochs,\n",
    "            batch_size = 1,\n",
    "            shuffle=True,\n",
    "            verbose=0,\n",
    "            validation_data=[testX, testY],\n",
    "            callbacks=[cb]\n",
    "        )\n",
    "\n",
    "    ## Rescale values\n",
    "    max_pm = train_data.max()\n",
    "    min_pm = train_data.min()\n",
    "    train_scaled = (train_data - min_pm) / (max_pm - min_pm)\n",
    "    \n",
    "#     print(\n",
    "#         \"Mean Train loss: \",\n",
    "#         sum(tf.sqrt(history.history[\"loss\"]))*max_pm/len(history.history[\"loss\"]),\n",
    "#         \"\\n Last Train loss: \",\n",
    "#         tf.sqrt(history.history[\"loss\"][-1])*max_pm,\n",
    "#         \"\\n Mean Test loss:\",\n",
    "#         sum(tf.sqrt(history.history[\"val_loss\"]))*max_pm/len(history.history[\"val_loss\"]),\n",
    "#         \"\\n Last Test loss:\",\n",
    "#         tf.sqrt(history.history[\"val_loss\"][-1])*max_pm,\n",
    "#     #     \"\\nTrain time \", traintime,\n",
    "#         \"\\n Train time callbacks\", sum(cb.logs)\n",
    "        \n",
    "#     )\n",
    "    df = pd.DataFrame()\n",
    "    df['Mean Train loss'] = [sum(tf.sqrt(history.history[\"loss\"]).numpy())*max_pm/len(history.history[\"loss\"])]\n",
    "    df['Last Train loss'] = [tf.sqrt(history.history[\"loss\"][-1]).numpy()*max_pm]\n",
    "    df['Mean Test loss'] = [sum(tf.sqrt(history.history[\"val_loss\"])).numpy()*max_pm/len(history.history[\"val_loss\"])]\n",
    "    df['Last Test loss'] = [tf.sqrt(history.history[\"val_loss\"][-1]).numpy()*max_pm]\n",
    "    df['Train time callbacks'] = [sum(cb.logs)]\n",
    "#     display(df)\n",
    "    \n",
    "    fig = sg.utils.plot_history(history, return_figure=True)\n",
    "    if save_path is not None:\n",
    "        fig.savefig(save_path)\n",
    "    return df"
   ]
  },
  {
   "cell_type": "code",
   "execution_count": 15,
   "id": "8ac37959",
   "metadata": {},
   "outputs": [],
   "source": [
    "def eval_model(model, testX, testY):\n",
    "    net = model\n",
    "    output = net.predict(testX)\n",
    "    # yhat = model.predict(testX)\n",
    "\n",
    "    ## actual train and test values\n",
    "    ## Rescale values\n",
    "    max_pm = train_data.max()\n",
    "    min_pm = train_data.min()\n",
    "    test_true = np.array((testY * (max_pm - min_pm)) + min_pm)\n",
    "\n",
    "    ## Rescale model predicted values\n",
    "    test_output = np.array((output * (max_pm - min_pm)) + min_pm)\n",
    "    # test_rescpred = np.array((yhat * (max_pm - min_pm)) + min_pm)\n",
    "\n",
    "    # # Masked predicted values\n",
    "    # mask_train = tf.sign(trainY)\n",
    "    mask_test = tf.sign(testY)\n",
    "    # train_rescpred = train_rescpred*(mask_train)\n",
    "    test_output = test_output*(mask_test)\n",
    "    test_mse = my_loss(test_true, test_output)\n",
    "    test_rmse = tf.sqrt(test_mse)\n",
    "    print(\"Test RMSE: \", test_rmse)\n",
    "    return test_output, test_true"
   ]
  },
  {
   "cell_type": "code",
   "execution_count": 16,
   "id": "daba4d10",
   "metadata": {},
   "outputs": [],
   "source": [
    "def plot_predictions(test_output, test_true, save_path=None):\n",
    "    ##all test result visualization\n",
    "    fig = plt.figure(figsize=(15, 8))\n",
    "    # test_output, test_true = eval(model, testX, testY )\n",
    "    a_pred = test_output[test_true>0]\n",
    "    a_true = test_true[test_true>0]\n",
    "    plt.plot(a_pred, \"r-\", label=\"prediction\")\n",
    "    plt.plot(a_true, \"b-\", label=\"true\")\n",
    "    plt.xlabel(\"test points\")\n",
    "    plt.ylabel(\"PM2.5\")\n",
    "    plt.legend(loc=\"best\", fontsize=10)\n",
    "    if save_path is not None:\n",
    "        plt.savefig(save_path)\n",
    "    else:\n",
    "        plt.show()"
   ]
  },
  {
   "cell_type": "code",
   "execution_count": 17,
   "id": "3ad7ae9e",
   "metadata": {},
   "outputs": [],
   "source": [
    "def define_model(gc_sizes, gc_activations, lstm_sizes, lstm_activations, lr):\n",
    "    tf.random.set_seed(45)\n",
    "    gcn_lstm = GCN_LSTM(\n",
    "            seq_len=seq_len,\n",
    "            adj=adj,\n",
    "            gc_layer_sizes = gc_sizes,\n",
    "            gc_activations = gc_activations,\n",
    "            lstm_layer_sizes = lstm_sizes,\n",
    "            lstm_activations = lstm_activations,\n",
    "        )\n",
    "    x_input, x_output = gcn_lstm.in_out_tensors()\n",
    "    model = Model(inputs=x_input, outputs=x_output)\n",
    "    opt = tf.optimizers.Adam(learning_rate = lr)\n",
    "    model.compile(optimizer=opt, loss=my_loss)\n",
    "#     print(model.summary())\n",
    "    return model"
   ]
  },
  {
   "cell_type": "code",
   "execution_count": 18,
   "id": "eb1761c9",
   "metadata": {},
   "outputs": [],
   "source": [
    "# tf.random.set_seed(45)\n",
    "# gcn_lstm = GCN_LSTM(\n",
    "#         seq_len=seq_len,\n",
    "#         adj=adj,\n",
    "#         gc_layer_sizes=[4, 4],\n",
    "#         gc_activations=[\"relu\", \"relu\"],\n",
    "#         lstm_layer_sizes=[4],\n",
    "#         lstm_activations=[\"tanh\"],\n",
    "#     )\n",
    "# x_input, x_output = gcn_lstm.in_out_tensors()\n",
    "# model = Model(inputs=x_input, outputs=x_output)\n",
    "# opt = tf.optimizers.Adam(learning_rate = 0.01)\n",
    "# model.compile(optimizer=opt, loss=my_loss)\n",
    "# print(model.summary())"
   ]
  },
  {
   "cell_type": "code",
   "execution_count": 19,
   "id": "b29b6378",
   "metadata": {},
   "outputs": [],
   "source": [
    "# df = data_preparation('PM Datasets/2020-12-01_all.csv')\n",
    "# # train_data, test_data = train_test_split(df, grid_points_indices, train_size = 0.8)\n",
    "# for i in range(2, 8):\n",
    "#     if i<10:\n",
    "#         datafile = 'PM Datasets/2020-12-' + str(0) + str(i) + '_all.csv'\n",
    "#     else:\n",
    "#         datafile = 'PM Datasets/2020-12-' + str(i) + '_all.csv'\n",
    "#     df1 = data_preparation(datafile)\n",
    "#     df = pd.concat([df,df1], axis=1)\n",
    "#     df = df.fillna(0)\n",
    "# trainX, trainY, testX, testY, train_data = prepare_train_data(df, grid_points_indices, train_size = 0.8)\n",
    "# # train_model(100, trainX, trainY, testX, testY, train_data)\n",
    "# test_output, test_true = eval(model, testX, testY)"
   ]
  },
  {
   "cell_type": "code",
   "execution_count": 20,
   "id": "4b063e94",
   "metadata": {},
   "outputs": [],
   "source": [
    "def main_forecast(df, gc_sizes, gc_activations, lstm_sizes, lstm_activations, lr, train_fraction, test_date, history_days):\n",
    "    model = define_model(gc_sizes, gc_activations, lstm_sizes, lstm_activations, lr)\n",
    "    trainX, trainY, testX, testY, train_data = prepare_train_data(df, grid_points_indices, train_size = train_fraction)\n",
    "    out = train_model(model, 100, trainX, trainY, testX, testY, train_data)\n",
    "    out['GCN sizes'] = gc_sizes\n",
    "    out['LSTM sizes'] = lstm_sizes\n",
    "    out['History (in days)'] = [history_days]\n",
    "    out['Test Date'] = [test_date]\n",
    "#     display(out)\n",
    "#     test_output, test_true = eval_model(model, testX, testY)\n",
    "#     plot_predictions(test_output, test_true)\n",
    "    return out"
   ]
  },
  {
   "cell_type": "markdown",
   "id": "6da5cb6c",
   "metadata": {},
   "source": [
    "# Experiments"
   ]
  },
  {
   "cell_type": "markdown",
   "id": "b3d68a5d",
   "metadata": {},
   "source": [
    "## Varying grid sizes on 7 Dec"
   ]
  },
  {
   "cell_type": "code",
   "execution_count": 21,
   "id": "c78ab841",
   "metadata": {},
   "outputs": [],
   "source": [
    "df = data_preparation('PM Datasets/2020-12-01_all.csv')\n",
    "for i in range(2, 8):\n",
    "    datafile = 'PM Datasets/2020-12-'\n",
    "    datafile +=  str(0) + str(i) if i<10 else str(i)\n",
    "    datafile +=  '_all.csv'\n",
    "    df1 = data_preparation(datafile)\n",
    "    df = pd.concat([df,df1], axis=1)\n",
    "    df = df.fillna(0)"
   ]
  },
  {
   "cell_type": "code",
   "execution_count": 22,
   "id": "94e0b914",
   "metadata": {},
   "outputs": [
    {
     "name": "stderr",
     "output_type": "stream",
     "text": [
      "/home/gauri/anaconda3/envs/crypten/lib/python3.7/site-packages/ipykernel_launcher.py:9: ExperimentalWarning: GCN_LSTM is experimental: Lack of unit tests and code refinement (see: https://github.com/stellargraph/stellargraph/issues/1132, https://github.com/stellargraph/stellargraph/issues/1526, https://github.com/stellargraph/stellargraph/issues/1564). It may be difficult to use and may have major changes at any time.\n",
      "  if __name__ == '__main__':\n"
     ]
    },
    {
     "name": "stdout",
     "output_type": "stream",
     "text": [
      "Train data:  (270, 36)\n",
      "Test data:  (270, 6)\n",
      "trainX:  (33, 270, 3)\n",
      "trainY:  (33, 270)\n",
      "testX:  (3, 270, 3)\n",
      "testY:  (3, 270)\n"
     ]
    },
    {
     "ename": "ValueError",
     "evalue": "Length of values (2) does not match length of index (1)",
     "output_type": "error",
     "traceback": [
      "\u001b[0;31m---------------------------------------------------------------------------\u001b[0m",
      "\u001b[0;31mValueError\u001b[0m                                Traceback (most recent call last)",
      "\u001b[0;32m/tmp/ipykernel_131/3298619632.py\u001b[0m in \u001b[0;36m<module>\u001b[0;34m\u001b[0m\n\u001b[1;32m      1\u001b[0m \u001b[0mout_results\u001b[0m \u001b[0;34m=\u001b[0m \u001b[0mpd\u001b[0m\u001b[0;34m.\u001b[0m\u001b[0mDataFrame\u001b[0m\u001b[0;34m(\u001b[0m\u001b[0;34m)\u001b[0m\u001b[0;34m\u001b[0m\u001b[0;34m\u001b[0m\u001b[0m\n\u001b[0;32m----> 2\u001b[0;31m \u001b[0mout_results\u001b[0m\u001b[0;34m.\u001b[0m\u001b[0mappend\u001b[0m\u001b[0;34m(\u001b[0m\u001b[0mmain_forecast\u001b[0m\u001b[0;34m(\u001b[0m\u001b[0mdf\u001b[0m\u001b[0;34m,\u001b[0m \u001b[0;34m[\u001b[0m\u001b[0;36m4\u001b[0m\u001b[0;34m,\u001b[0m \u001b[0;36m4\u001b[0m\u001b[0;34m]\u001b[0m\u001b[0;34m,\u001b[0m \u001b[0;34m[\u001b[0m\u001b[0;34m\"relu\"\u001b[0m\u001b[0;34m,\u001b[0m \u001b[0;34m\"relu\"\u001b[0m\u001b[0;34m]\u001b[0m\u001b[0;34m,\u001b[0m \u001b[0;34m[\u001b[0m\u001b[0;36m4\u001b[0m\u001b[0;34m]\u001b[0m\u001b[0;34m,\u001b[0m \u001b[0;34m[\u001b[0m\u001b[0;34m\"tanh\"\u001b[0m\u001b[0;34m]\u001b[0m\u001b[0;34m,\u001b[0m \u001b[0;36m0.01\u001b[0m\u001b[0;34m,\u001b[0m \u001b[0;36m0.86\u001b[0m\u001b[0;34m,\u001b[0m \u001b[0;34m'7 Dec'\u001b[0m\u001b[0;34m,\u001b[0m \u001b[0;36m6\u001b[0m\u001b[0;34m)\u001b[0m\u001b[0;34m)\u001b[0m\u001b[0;34m\u001b[0m\u001b[0;34m\u001b[0m\u001b[0m\n\u001b[0m\u001b[1;32m      3\u001b[0m \u001b[0;31m# out_results.append(main_forecast(df, [8, 8], [\"relu\", \"relu\"], [4], [\"tanh\"], 0.01, 0.86, '7 Dec', 6))\u001b[0m\u001b[0;34m\u001b[0m\u001b[0;34m\u001b[0m\u001b[0;34m\u001b[0m\u001b[0m\n\u001b[1;32m      4\u001b[0m \u001b[0;31m# out_results.append(main_forecast(df, [16, 16], [\"relu\", \"relu\"], [4], [\"tanh\"], 0.01, 0.86, '7 Dec', 6))\u001b[0m\u001b[0;34m\u001b[0m\u001b[0;34m\u001b[0m\u001b[0;34m\u001b[0m\u001b[0m\n\u001b[1;32m      5\u001b[0m \u001b[0;31m# out_results.append(main_forecast(df, [32, 32], [\"relu\", \"relu\"], [4], [\"tanh\"], 0.01, 0.86, '7 Dec', 6))\u001b[0m\u001b[0;34m\u001b[0m\u001b[0;34m\u001b[0m\u001b[0;34m\u001b[0m\u001b[0m\n",
      "\u001b[0;32m/tmp/ipykernel_131/2884275709.py\u001b[0m in \u001b[0;36mmain_forecast\u001b[0;34m(df, gc_sizes, gc_activations, lstm_sizes, lstm_activations, lr, train_fraction, test_date, history_days)\u001b[0m\n\u001b[1;32m      3\u001b[0m     \u001b[0mtrainX\u001b[0m\u001b[0;34m,\u001b[0m \u001b[0mtrainY\u001b[0m\u001b[0;34m,\u001b[0m \u001b[0mtestX\u001b[0m\u001b[0;34m,\u001b[0m \u001b[0mtestY\u001b[0m\u001b[0;34m,\u001b[0m \u001b[0mtrain_data\u001b[0m \u001b[0;34m=\u001b[0m \u001b[0mprepare_train_data\u001b[0m\u001b[0;34m(\u001b[0m\u001b[0mdf\u001b[0m\u001b[0;34m,\u001b[0m \u001b[0mgrid_points_indices\u001b[0m\u001b[0;34m,\u001b[0m \u001b[0mtrain_size\u001b[0m \u001b[0;34m=\u001b[0m \u001b[0mtrain_fraction\u001b[0m\u001b[0;34m)\u001b[0m\u001b[0;34m\u001b[0m\u001b[0;34m\u001b[0m\u001b[0m\n\u001b[1;32m      4\u001b[0m     \u001b[0mout\u001b[0m \u001b[0;34m=\u001b[0m \u001b[0mtrain_model\u001b[0m\u001b[0;34m(\u001b[0m\u001b[0mmodel\u001b[0m\u001b[0;34m,\u001b[0m \u001b[0;36m100\u001b[0m\u001b[0;34m,\u001b[0m \u001b[0mtrainX\u001b[0m\u001b[0;34m,\u001b[0m \u001b[0mtrainY\u001b[0m\u001b[0;34m,\u001b[0m \u001b[0mtestX\u001b[0m\u001b[0;34m,\u001b[0m \u001b[0mtestY\u001b[0m\u001b[0;34m,\u001b[0m \u001b[0mtrain_data\u001b[0m\u001b[0;34m)\u001b[0m\u001b[0;34m\u001b[0m\u001b[0;34m\u001b[0m\u001b[0m\n\u001b[0;32m----> 5\u001b[0;31m     \u001b[0mout\u001b[0m\u001b[0;34m[\u001b[0m\u001b[0;34m'GCN sizes'\u001b[0m\u001b[0;34m]\u001b[0m \u001b[0;34m=\u001b[0m \u001b[0mgc_sizes\u001b[0m\u001b[0;34m\u001b[0m\u001b[0;34m\u001b[0m\u001b[0m\n\u001b[0m\u001b[1;32m      6\u001b[0m     \u001b[0mout\u001b[0m\u001b[0;34m[\u001b[0m\u001b[0;34m'LSTM sizes'\u001b[0m\u001b[0;34m]\u001b[0m \u001b[0;34m=\u001b[0m \u001b[0mlstm_sizes\u001b[0m\u001b[0;34m\u001b[0m\u001b[0;34m\u001b[0m\u001b[0m\n\u001b[1;32m      7\u001b[0m     \u001b[0mout\u001b[0m\u001b[0;34m[\u001b[0m\u001b[0;34m'History (in days)'\u001b[0m\u001b[0;34m]\u001b[0m \u001b[0;34m=\u001b[0m \u001b[0;34m[\u001b[0m\u001b[0mhistory_days\u001b[0m\u001b[0;34m]\u001b[0m\u001b[0;34m\u001b[0m\u001b[0;34m\u001b[0m\u001b[0m\n",
      "\u001b[0;32m~/anaconda3/envs/crypten/lib/python3.7/site-packages/pandas/core/frame.py\u001b[0m in \u001b[0;36m__setitem__\u001b[0;34m(self, key, value)\u001b[0m\n\u001b[1;32m   3605\u001b[0m         \u001b[0;32melse\u001b[0m\u001b[0;34m:\u001b[0m\u001b[0;34m\u001b[0m\u001b[0;34m\u001b[0m\u001b[0m\n\u001b[1;32m   3606\u001b[0m             \u001b[0;31m# set column\u001b[0m\u001b[0;34m\u001b[0m\u001b[0;34m\u001b[0m\u001b[0;34m\u001b[0m\u001b[0m\n\u001b[0;32m-> 3607\u001b[0;31m             \u001b[0mself\u001b[0m\u001b[0;34m.\u001b[0m\u001b[0m_set_item\u001b[0m\u001b[0;34m(\u001b[0m\u001b[0mkey\u001b[0m\u001b[0;34m,\u001b[0m \u001b[0mvalue\u001b[0m\u001b[0;34m)\u001b[0m\u001b[0;34m\u001b[0m\u001b[0;34m\u001b[0m\u001b[0m\n\u001b[0m\u001b[1;32m   3608\u001b[0m \u001b[0;34m\u001b[0m\u001b[0m\n\u001b[1;32m   3609\u001b[0m     \u001b[0;32mdef\u001b[0m \u001b[0m_setitem_slice\u001b[0m\u001b[0;34m(\u001b[0m\u001b[0mself\u001b[0m\u001b[0;34m,\u001b[0m \u001b[0mkey\u001b[0m\u001b[0;34m:\u001b[0m \u001b[0mslice\u001b[0m\u001b[0;34m,\u001b[0m \u001b[0mvalue\u001b[0m\u001b[0;34m)\u001b[0m\u001b[0;34m:\u001b[0m\u001b[0;34m\u001b[0m\u001b[0;34m\u001b[0m\u001b[0m\n",
      "\u001b[0;32m~/anaconda3/envs/crypten/lib/python3.7/site-packages/pandas/core/frame.py\u001b[0m in \u001b[0;36m_set_item\u001b[0;34m(self, key, value)\u001b[0m\n\u001b[1;32m   3777\u001b[0m         \u001b[0mensure\u001b[0m \u001b[0mhomogeneity\u001b[0m\u001b[0;34m.\u001b[0m\u001b[0;34m\u001b[0m\u001b[0;34m\u001b[0m\u001b[0m\n\u001b[1;32m   3778\u001b[0m         \"\"\"\n\u001b[0;32m-> 3779\u001b[0;31m         \u001b[0mvalue\u001b[0m \u001b[0;34m=\u001b[0m \u001b[0mself\u001b[0m\u001b[0;34m.\u001b[0m\u001b[0m_sanitize_column\u001b[0m\u001b[0;34m(\u001b[0m\u001b[0mvalue\u001b[0m\u001b[0;34m)\u001b[0m\u001b[0;34m\u001b[0m\u001b[0;34m\u001b[0m\u001b[0m\n\u001b[0m\u001b[1;32m   3780\u001b[0m \u001b[0;34m\u001b[0m\u001b[0m\n\u001b[1;32m   3781\u001b[0m         if (\n",
      "\u001b[0;32m~/anaconda3/envs/crypten/lib/python3.7/site-packages/pandas/core/frame.py\u001b[0m in \u001b[0;36m_sanitize_column\u001b[0;34m(self, value)\u001b[0m\n\u001b[1;32m   4502\u001b[0m \u001b[0;34m\u001b[0m\u001b[0m\n\u001b[1;32m   4503\u001b[0m         \u001b[0;32mif\u001b[0m \u001b[0mis_list_like\u001b[0m\u001b[0;34m(\u001b[0m\u001b[0mvalue\u001b[0m\u001b[0;34m)\u001b[0m\u001b[0;34m:\u001b[0m\u001b[0;34m\u001b[0m\u001b[0;34m\u001b[0m\u001b[0m\n\u001b[0;32m-> 4504\u001b[0;31m             \u001b[0mcom\u001b[0m\u001b[0;34m.\u001b[0m\u001b[0mrequire_length_match\u001b[0m\u001b[0;34m(\u001b[0m\u001b[0mvalue\u001b[0m\u001b[0;34m,\u001b[0m \u001b[0mself\u001b[0m\u001b[0;34m.\u001b[0m\u001b[0mindex\u001b[0m\u001b[0;34m)\u001b[0m\u001b[0;34m\u001b[0m\u001b[0;34m\u001b[0m\u001b[0m\n\u001b[0m\u001b[1;32m   4505\u001b[0m         \u001b[0;32mreturn\u001b[0m \u001b[0msanitize_array\u001b[0m\u001b[0;34m(\u001b[0m\u001b[0mvalue\u001b[0m\u001b[0;34m,\u001b[0m \u001b[0mself\u001b[0m\u001b[0;34m.\u001b[0m\u001b[0mindex\u001b[0m\u001b[0;34m,\u001b[0m \u001b[0mcopy\u001b[0m\u001b[0;34m=\u001b[0m\u001b[0;32mTrue\u001b[0m\u001b[0;34m,\u001b[0m \u001b[0mallow_2d\u001b[0m\u001b[0;34m=\u001b[0m\u001b[0;32mTrue\u001b[0m\u001b[0;34m)\u001b[0m\u001b[0;34m\u001b[0m\u001b[0;34m\u001b[0m\u001b[0m\n\u001b[1;32m   4506\u001b[0m \u001b[0;34m\u001b[0m\u001b[0m\n",
      "\u001b[0;32m~/anaconda3/envs/crypten/lib/python3.7/site-packages/pandas/core/common.py\u001b[0m in \u001b[0;36mrequire_length_match\u001b[0;34m(data, index)\u001b[0m\n\u001b[1;32m    530\u001b[0m     \u001b[0;32mif\u001b[0m \u001b[0mlen\u001b[0m\u001b[0;34m(\u001b[0m\u001b[0mdata\u001b[0m\u001b[0;34m)\u001b[0m \u001b[0;34m!=\u001b[0m \u001b[0mlen\u001b[0m\u001b[0;34m(\u001b[0m\u001b[0mindex\u001b[0m\u001b[0;34m)\u001b[0m\u001b[0;34m:\u001b[0m\u001b[0;34m\u001b[0m\u001b[0;34m\u001b[0m\u001b[0m\n\u001b[1;32m    531\u001b[0m         raise ValueError(\n\u001b[0;32m--> 532\u001b[0;31m             \u001b[0;34m\"Length of values \"\u001b[0m\u001b[0;34m\u001b[0m\u001b[0;34m\u001b[0m\u001b[0m\n\u001b[0m\u001b[1;32m    533\u001b[0m             \u001b[0;34mf\"({len(data)}) \"\u001b[0m\u001b[0;34m\u001b[0m\u001b[0;34m\u001b[0m\u001b[0m\n\u001b[1;32m    534\u001b[0m             \u001b[0;34m\"does not match length of index \"\u001b[0m\u001b[0;34m\u001b[0m\u001b[0;34m\u001b[0m\u001b[0m\n",
      "\u001b[0;31mValueError\u001b[0m: Length of values (2) does not match length of index (1)"
     ]
    },
    {
     "data": {
      "image/png": "[encoded data removed]",
      "text/plain": [
       "<Figure size 504x288 with 1 Axes>"
      ]
     },
     "metadata": {
      "needs_background": "light"
     },
     "output_type": "display_data"
    }
   ],
   "source": [
    "out_results = pd.DataFrame()\n",
    "out_results.append(main_forecast(df, [4, 4], [\"relu\", \"relu\"], [4], [\"tanh\"], 0.01, 0.86, '7 Dec', 6)) \n",
    "# out_results.append(main_forecast(df, [8, 8], [\"relu\", \"relu\"], [4], [\"tanh\"], 0.01, 0.86, '7 Dec', 6)) \n",
    "# out_results.append(main_forecast(df, [16, 16], [\"relu\", \"relu\"], [4], [\"tanh\"], 0.01, 0.86, '7 Dec', 6)) \n",
    "# out_results.append(main_forecast(df, [32, 32], [\"relu\", \"relu\"], [4], [\"tanh\"], 0.01, 0.86, '7 Dec', 6)) \n",
    "# out_results.append(main_forecast(df, [4, 4, 4], [\"relu\", \"relu\", \"relu\"], [4], [\"tanh\"], 0.01, 0.86, '7 Dec', 6)) \n",
    "# out_results.append(main_forecast(df, [4, 8, 16], [\"relu\", \"relu\", \"relu\"], [4], [\"tanh\"], 0.01, 0.86, '7 Dec', 6)) \n",
    "# out_results.append(main_forecast(df, [4, 4], [\"relu\", \"relu\"], [8], [\"tanh\"], 0.01, 0.86, '7 Dec', 6)) \n",
    "# out_results.append(main_forecast(df, [4, 4], [\"relu\", \"relu\"], [16], [\"tanh\"], 0.01, 0.86, '7 Dec', 6)) \n",
    "# out_results.append(main_forecast(df, [4, 4], [\"relu\", \"relu\"], [32], [\"tanh\"], 0.01, 0.86, '7 Dec', 6)) \n",
    "# out_results.append(main_forecast(df, [4, 4], [\"relu\", \"relu\"], [4, 4], [\"tanh\", \"tanh\"], 0.01, 0.86, '7 Dec', 6))\n",
    "# out_results.append(main_forecast(df, [4, 4], [\"relu\", \"relu\"], [4, 8], [\"tanh\", \"tanh\"], 0.01, 0.86, '7 Dec', 6)) \n",
    "\n",
    "# out_results.to_csv('out_grid_sizes.csv')"
   ]
  },
  {
   "cell_type": "code",
   "execution_count": 30,
   "id": "ab149698",
   "metadata": {},
   "outputs": [],
   "source": [
    "out_results['GCN sizes'] = '[4, 4]'"
   ]
  },
  {
   "cell_type": "code",
   "execution_count": 33,
   "id": "5973d735",
   "metadata": {},
   "outputs": [],
   "source": [
    "list1 = [4, 4]"
   ]
  },
  {
   "cell_type": "code",
   "execution_count": 34,
   "id": "3616190d",
   "metadata": {},
   "outputs": [
    {
     "data": {
      "text/plain": [
       "'44'"
      ]
     },
     "execution_count": 34,
     "metadata": {},
     "output_type": "execute_result"
    }
   ],
   "source": [
    "''.join(str(e) for e in list1)"
   ]
  },
  {
   "cell_type": "code",
   "execution_count": 31,
   "id": "42e4a370",
   "metadata": {},
   "outputs": [
    {
     "data": {
      "text/html": [
       "<div>\n",
       "<style scoped>\n",
       "    .dataframe tbody tr th:only-of-type {\n",
       "        vertical-align: middle;\n",
       "    }\n",
       "\n",
       "    .dataframe tbody tr th {\n",
       "        vertical-align: top;\n",
       "    }\n",
       "\n",
       "    .dataframe thead th {\n",
       "        text-align: right;\n",
       "    }\n",
       "</style>\n",
       "<table border=\"1\" class=\"dataframe\">\n",
       "  <thead>\n",
       "    <tr style=\"text-align: right;\">\n",
       "      <th></th>\n",
       "      <th>GCN sizes</th>\n",
       "    </tr>\n",
       "  </thead>\n",
       "  <tbody>\n",
       "    <tr>\n",
       "      <th>0</th>\n",
       "      <td>[4, 4]</td>\n",
       "    </tr>\n",
       "    <tr>\n",
       "      <th>1</th>\n",
       "      <td>[4, 4]</td>\n",
       "    </tr>\n",
       "  </tbody>\n",
       "</table>\n",
       "</div>"
      ],
      "text/plain": [
       "  GCN sizes\n",
       "0    [4, 4]\n",
       "1    [4, 4]"
      ]
     },
     "execution_count": 31,
     "metadata": {},
     "output_type": "execute_result"
    }
   ],
   "source": [
    "out_results"
   ]
  },
  {
   "cell_type": "markdown",
   "id": "db07d478",
   "metadata": {},
   "source": [
    "## Varying number of days in history"
   ]
  },
  {
   "cell_type": "code",
   "execution_count": null,
   "id": "d253ff02",
   "metadata": {},
   "outputs": [],
   "source": [
    "out_results = pd.DataFrame()"
   ]
  },
  {
   "cell_type": "markdown",
   "id": "90025d2b",
   "metadata": {},
   "source": [
    "## 7 Dec"
   ]
  },
  {
   "cell_type": "code",
   "execution_count": null,
   "id": "4cf3bc37",
   "metadata": {},
   "outputs": [],
   "source": [
    "df = data_preparation('PM Datasets/2020-12-04_all.csv')\n",
    "for i in range(5, 8):\n",
    "    datafile = 'PM Datasets/2020-12-'\n",
    "    datafile +=  str(0) + str(i) if i<10 else str(i)\n",
    "    datafile +=  '_all.csv'\n",
    "    df1 = data_preparation(datafile)\n",
    "    df = pd.concat([df,df1], axis=1)\n",
    "    df = df.fillna(0)\n",
    "out_results.append(main_forecast(df, [4, 4], [\"relu\", \"relu\"], [4], [\"tanh\"], 0.01, 0.75, '7 Dec', 3)) "
   ]
  },
  {
   "cell_type": "code",
   "execution_count": null,
   "id": "f42e2e4b",
   "metadata": {},
   "outputs": [],
   "source": [
    "df = data_preparation('PM Datasets/2020-12-01_all.csv')\n",
    "for i in range(2, 8):\n",
    "    datafile = 'PM Datasets/2020-12-'\n",
    "    datafile +=  str(0) + str(i) if i<10 else str(i)\n",
    "    datafile +=  '_all.csv'\n",
    "    df1 = data_preparation(datafile)\n",
    "    df = pd.concat([df,df1], axis=1)\n",
    "    df = df.fillna(0)\n",
    "out_results.append(main_forecast(df, [4, 4], [\"relu\", \"relu\"], [4], [\"tanh\"], 0.01, 0.86, '7 Dec', 6)) "
   ]
  },
  {
   "cell_type": "code",
   "execution_count": null,
   "id": "c9417df6",
   "metadata": {},
   "outputs": [],
   "source": [
    "df = data_preparation('PM Datasets/2020-11-27_all.csv')\n",
    "for i in range(28, 31):\n",
    "    datafile = 'PM Datasets/2020-11-'\n",
    "    datafile +=  str(0) + str(i) if i<10 else str(i)\n",
    "    datafile +=  '_all.csv'\n",
    "    df1 = data_preparation(datafile)\n",
    "    df = pd.concat([df,df1], axis=1)\n",
    "for i in range(1, 8):\n",
    "    datafile = 'PM Datasets/2020-12-'\n",
    "    datafile +=  str(0) + str(i) if i<10 else str(i)\n",
    "    datafile +=  '_all.csv'\n",
    "    df1 = data_preparation(datafile)\n",
    "    df = pd.concat([df,df1], axis=1)\n",
    "df = df.fillna(0)\n",
    "out_results.append(main_forecast(df, [4, 4], [\"relu\", \"relu\"], [4], [\"tanh\"], 0.01, 0.91, '7 Dec', 10)) "
   ]
  },
  {
   "cell_type": "code",
   "execution_count": null,
   "id": "2f21ecb0",
   "metadata": {},
   "outputs": [],
   "source": [
    "df = data_preparation('PM Datasets/2020-11-22_all.csv')\n",
    "for i in range(23, 31):\n",
    "    datafile = 'PM Datasets/2020-11-'\n",
    "    datafile +=  str(0) + str(i) if i<10 else str(i)\n",
    "    datafile +=  '_all.csv'\n",
    "    df1 = data_preparation(datafile)\n",
    "    df = pd.concat([df,df1], axis=1)\n",
    "for i in range(1, 8):\n",
    "    datafile = 'PM Datasets/2020-12-'\n",
    "    datafile +=  str(0) + str(i) if i<10 else str(i)\n",
    "    datafile +=  '_all.csv'\n",
    "    df1 = data_preparation(datafile)\n",
    "    df = pd.concat([df,df1], axis=1)\n",
    "df = df.fillna(0)\n",
    "out_results.append(main_forecast(df, [4, 4], [\"relu\", \"relu\"], [4], [\"tanh\"], 0.01, 0.94, '7 Dec', 15)) "
   ]
  },
  {
   "cell_type": "markdown",
   "id": "5dba605b",
   "metadata": {},
   "source": [
    "## 18 Nov\n"
   ]
  },
  {
   "cell_type": "code",
   "execution_count": 4,
   "id": "8b6f644d",
   "metadata": {},
   "outputs": [],
   "source": [
    "df = data_preparation('PM Datasets/2020-11-15_all.csv')\n",
    "for i in range(16, 19):\n",
    "    datafile = 'PM Datasets/2020-11-'\n",
    "    datafile +=  str(0) + str(i) if i<10 else str(i)\n",
    "    datafile +=  '_all.csv'\n",
    "    df1 = data_preparation(datafile)\n",
    "    df = pd.concat([df,df1], axis=1)\n",
    "    df = df.fillna(0)\n",
    "out_results.append(main_forecast(df, [4, 4], [\"relu\", \"relu\"], [4], [\"tanh\"], 0.01, 0.75, '18 Nov', 3))"
   ]
  },
  {
   "cell_type": "code",
   "execution_count": 5,
   "id": "468dc199",
   "metadata": {},
   "outputs": [],
   "source": [
    "df = data_preparation('PM Datasets/2020-11-12_all.csv')\n",
    "for i in range(13, 19):\n",
    "    datafile = 'PM Datasets/2020-11-'\n",
    "    datafile +=  str(0) + str(i) if i<10 else str(i)\n",
    "    datafile +=  '_all.csv'\n",
    "    df1 = data_preparation(datafile)\n",
    "    df = pd.concat([df,df1], axis=1)\n",
    "    df = df.fillna(0)\n",
    "out_results.append(main_forecast(df, [4, 4], [\"relu\", \"relu\"], [4], [\"tanh\"], 0.01, 0.86, '18 Nov', 6))"
   ]
  },
  {
   "cell_type": "code",
   "execution_count": 6,
   "id": "1234dd73",
   "metadata": {},
   "outputs": [],
   "source": [
    "df = data_preparation('PM Datasets/2020-11-08_all.csv')\n",
    "for i in range(9, 19):\n",
    "    datafile = 'PM Datasets/2020-11-'\n",
    "    datafile +=  str(0) + str(i) if i<10 else str(i)\n",
    "    datafile +=  '_all.csv'\n",
    "    df1 = data_preparation(datafile)\n",
    "    df = pd.concat([df,df1], axis=1)\n",
    "    df = df.fillna(0)\n",
    "out_results.append(main_forecast(df, [4, 4], [\"relu\", \"relu\"], [4], [\"tanh\"], 0.01, 0.91, '18 Nov', 10))"
   ]
  },
  {
   "cell_type": "code",
   "execution_count": 7,
   "id": "9e531d24",
   "metadata": {},
   "outputs": [],
   "source": [
    "df = data_preparation('PM Datasets/2020-11-03_all.csv')\n",
    "for i in range(4, 19):\n",
    "    datafile = 'PM Datasets/2020-11-'\n",
    "    datafile +=  str(0) + str(i) if i<10 else str(i)\n",
    "    datafile +=  '_all.csv'\n",
    "    df1 = data_preparation(datafile)\n",
    "    df = pd.concat([df,df1], axis=1)\n",
    "    df = df.fillna(0)\n",
    "out_results.append(main_forecast(df, [4, 4], [\"relu\", \"relu\"], [4], [\"tanh\"], 0.01, 0.94, '18 Nov', 15))"
   ]
  },
  {
   "cell_type": "markdown",
   "id": "61d7c32c",
   "metadata": {},
   "source": [
    "## 10 Jan"
   ]
  },
  {
   "cell_type": "code",
   "execution_count": 8,
   "id": "7c223505",
   "metadata": {},
   "outputs": [],
   "source": [
    "df = data_preparation('PM Datasets/2021-01-07_all.csv')\n",
    "for i in range(8, 11):\n",
    "    datafile = 'PM Datasets/2021-01-'\n",
    "    datafile +=  str(0) + str(i) if i<10 else str(i)\n",
    "    datafile +=  '_all.csv'\n",
    "    df1 = data_preparation(datafile)\n",
    "    df = pd.concat([df,df1], axis=1)\n",
    "    df = df.fillna(0)\n",
    "out_results.append(main_forecast(df, [4, 4], [\"relu\", \"relu\"], [4], [\"tanh\"], 0.01, 0.75, '10 Jan', 3))"
   ]
  },
  {
   "cell_type": "code",
   "execution_count": 9,
   "id": "9f96f5ab",
   "metadata": {},
   "outputs": [],
   "source": [
    "df = data_preparation('PM Datasets/2021-01-04_all.csv')\n",
    "for i in range(5, 11):\n",
    "    datafile = 'PM Datasets/2021-01-'\n",
    "    datafile +=  str(0) + str(i) if i<10 else str(i)\n",
    "    datafile +=  '_all.csv'\n",
    "    df1 = data_preparation(datafile)\n",
    "    df = pd.concat([df,df1], axis=1)\n",
    "    df = df.fillna(0)\n",
    "out_results.append(main_forecast(df, [4, 4], [\"relu\", \"relu\"], [4], [\"tanh\"], 0.01, 0.86, '10 Jan', 6))"
   ]
  },
  {
   "cell_type": "code",
   "execution_count": 10,
   "id": "111cbd7a",
   "metadata": {},
   "outputs": [],
   "source": [
    "df = data_preparation('PM Datasets/2020-12-31_all.csv')\n",
    "for i in range(1, 11):\n",
    "    datafile = 'PM Datasets/2021-01-'\n",
    "    datafile +=  str(0) + str(i) if i<10 else str(i)\n",
    "    datafile +=  '_all.csv'\n",
    "    df1 = data_preparation(datafile)\n",
    "    df = pd.concat([df,df1], axis=1)\n",
    "    df = df.fillna(0)\n",
    "out_results.append(main_forecast(df, [4, 4], [\"relu\", \"relu\"], [4], [\"tanh\"], 0.01, 0.91, '10 Jan', 10))"
   ]
  },
  {
   "cell_type": "code",
   "execution_count": 11,
   "id": "55792879",
   "metadata": {},
   "outputs": [],
   "source": [
    "df = data_preparation('PM Datasets/2020-12-26_all.csv')\n",
    "for i in range(27, 32):\n",
    "    datafile = 'PM Datasets/2020-12-'\n",
    "    datafile +=  str(0) + str(i) if i<10 else str(i)\n",
    "    datafile +=  '_all.csv'\n",
    "    df1 = data_preparation(datafile)\n",
    "    df = pd.concat([df,df1], axis=1)\n",
    "    df = df.fillna(0)\n",
    "for i in range(1, 11):\n",
    "    datafile = 'PM Datasets/2021-01-'\n",
    "    datafile +=  str(0) + str(i) if i<10 else str(i)\n",
    "    datafile +=  '_all.csv'\n",
    "    df1 = data_preparation(datafile)\n",
    "    df = pd.concat([df,df1], axis=1)\n",
    "    df = df.fillna(0)\n",
    "out_results.append(main_forecast(df, [4, 4], [\"relu\", \"relu\"], [4], [\"tanh\"], 0.01, 0.94, '10 Jan', 15))"
   ]
  },
  {
   "cell_type": "code",
   "execution_count": 94,
   "id": "29b8b448",
   "metadata": {},
   "outputs": [],
   "source": [
    "out_results.to_csv('out_history.csv')"
   ]
  }
 ],
 "metadata": {
  "kernelspec": {
   "display_name": "Python 3 (ipykernel)",
   "language": "python",
   "name": "python3"
  },
  "language_info": {
   "codemirror_mode": {
    "name": "ipython",
    "version": 3
   },
   "file_extension": ".py",
   "mimetype": "text/x-python",
   "name": "python",
   "nbconvert_exporter": "python",
   "pygments_lexer": "ipython3",
   "version": "3.7.11"
  }
 },
 "nbformat": 4,
 "nbformat_minor": 5
}
