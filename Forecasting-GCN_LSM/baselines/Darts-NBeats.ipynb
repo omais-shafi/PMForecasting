{
 "cells": [
  {
   "cell_type": "code",
   "execution_count": 1,
   "id": "12c7e417-3782-4d37-a3fc-ca5dc760ab02",
   "metadata": {},
   "outputs": [
    {
     "name": "stderr",
     "output_type": "stream",
     "text": [
      "/efs/litmus-server/users/yguptgau/.local/lib/python3.8/site-packages/tqdm/auto.py:22: TqdmWarning: IProgress not found. Please update jupyter and ipywidgets. See https://ipywidgets.readthedocs.io/en/stable/user_install.html\n",
      "  from .autonotebook import tqdm as notebook_tqdm\n",
      "2022-06-14 07:03:48 prophet.plot ERROR: Importing plotly failed. Interactive plots will not work.\n",
      "2022-06-14 07:03:52.061978: I tensorflow/stream_executor/platform/default/dso_loader.cc:49] Successfully opened dynamic library libcudart.so.11.0\n"
     ]
    }
   ],
   "source": [
    "import pandas as pd\n",
    "from darts import TimeSeries\n",
    "from darts.models import NBEATSModel\n",
    "from fancyimpute import KNN\n",
    "import numpy as np\n",
    "import pandas as pd"
   ]
  },
  {
   "cell_type": "code",
   "execution_count": 3,
   "id": "ea20c77a-25a6-4a79-b9b1-48c32a075251",
   "metadata": {},
   "outputs": [],
   "source": [
    "df = pd.read_csv('../Data/Dummy_data_1week_7Dec.csv')\n",
    "df = df.set_index(['lat_grid','long_grid'])"
   ]
  },
  {
   "cell_type": "code",
   "execution_count": 4,
   "id": "84165d9a-fcf5-466d-afa7-00e309c70532",
   "metadata": {},
   "outputs": [
    {
     "name": "stdout",
     "output_type": "stream",
     "text": [
      "Imputing row 1/185 with 0 missing, elapsed time: 0.013\n",
      "Imputing row 101/185 with 2 missing, elapsed time: 0.033\n",
      "[KNN] Warning: 72/6660 still missing after imputation, replacing with 0\n"
     ]
    }
   ],
   "source": [
    "data = np.array(df)\n",
    "test_portion = 6\n",
    "data[:,:-test_portion] = np.where(data[:,:-test_portion] == 0, np.nan, data[:,:-test_portion])\n",
    "knn_imputer = KNN()\n",
    "data[:,:-test_portion] = knn_imputer.fit_transform(pd.DataFrame(data[:,:-test_portion]))"
   ]
  },
  {
   "cell_type": "code",
   "execution_count": 7,
   "id": "eb0e0c35-8a72-45aa-9491-04672692c141",
   "metadata": {},
   "outputs": [],
   "source": [
    "model = NBEATSModel(input_chunk_length=6, output_chunk_length=6, random_state=42, pl_trainer_kwargs={\"accelerator\": \"gpu\",\n",
    "                                                                                                       \"gpus\": [1]})\n"
   ]
  },
  {
   "cell_type": "code",
   "execution_count": 8,
   "id": "5409216e-c83c-4ea3-803e-5cd89a9cd490",
   "metadata": {},
   "outputs": [
    {
     "name": "stderr",
     "output_type": "stream",
     "text": [
      "[2022-06-14 09:13:33,018] INFO | darts.models.forecasting.torch_forecasting_model | Train dataset contains 4625 samples.\n",
      "[2022-06-14 09:13:33,018] INFO | darts.models.forecasting.torch_forecasting_model | Train dataset contains 4625 samples.\n",
      "2022-06-14 09:13:33 darts.models.forecasting.torch_forecasting_model INFO: Train dataset contains 4625 samples.\n",
      "[2022-06-14 09:13:33,076] INFO | darts.models.forecasting.torch_forecasting_model | Time series values are 64-bits; casting model to float64.\n",
      "[2022-06-14 09:13:33,076] INFO | darts.models.forecasting.torch_forecasting_model | Time series values are 64-bits; casting model to float64.\n",
      "2022-06-14 09:13:33 darts.models.forecasting.torch_forecasting_model INFO: Time series values are 64-bits; casting model to float64.\n",
      "[2022-06-14 09:13:33,077] WARNING | darts.models.forecasting.torch_forecasting_model | DeprecationWarning: kwarg `verbose` is deprecated and will be removed in a future Darts version. Instead, control verbosity with PyTorch Lightning Trainer parameters `enable_progress_bar`, `progress_bar_refresh_rate` and `enable_model_summary` in the `pl_trainer_kwargs` dict at model creation.\n",
      "[2022-06-14 09:13:33,077] WARNING | darts.models.forecasting.torch_forecasting_model | DeprecationWarning: kwarg `verbose` is deprecated and will be removed in a future Darts version. Instead, control verbosity with PyTorch Lightning Trainer parameters `enable_progress_bar`, `progress_bar_refresh_rate` and `enable_model_summary` in the `pl_trainer_kwargs` dict at model creation.\n",
      "2022-06-14 09:13:33 darts.models.forecasting.torch_forecasting_model WARNING: DeprecationWarning: kwarg `verbose` is deprecated and will be removed in a future Darts version. Instead, control verbosity with PyTorch Lightning Trainer parameters `enable_progress_bar`, `progress_bar_refresh_rate` and `enable_model_summary` in the `pl_trainer_kwargs` dict at model creation.\n",
      "2022-06-14 09:13:33 pytorch_lightning.utilities.rank_zero INFO: GPU available: True, used: True\n",
      "2022-06-14 09:13:33 pytorch_lightning.utilities.rank_zero INFO: TPU available: False, using: 0 TPU cores\n",
      "2022-06-14 09:13:33 pytorch_lightning.utilities.rank_zero INFO: IPU available: False, using: 0 IPUs\n",
      "2022-06-14 09:13:33 pytorch_lightning.utilities.rank_zero INFO: HPU available: False, using: 0 HPUs\n",
      "2022-06-14 09:13:35 pytorch_lightning.accelerators.gpu INFO: LOCAL_RANK: 0 - CUDA_VISIBLE_DEVICES: [0,1,2,3,4,5,6,7]\n",
      "2022-06-14 09:13:35 pytorch_lightning.callbacks.model_summary INFO: \n",
      "  | Name      | Type       | Params\n",
      "-----------------------------------------\n",
      "0 | criterion | MSELoss    | 0     \n",
      "1 | stacks    | ModuleList | 6.1 M \n",
      "-----------------------------------------\n",
      "6.1 M     Trainable params\n",
      "1.3 K     Non-trainable params\n",
      "6.1 M     Total params\n",
      "48.434    Total estimated model params size (MB)\n"
     ]
    },
    {
     "name": "stdout",
     "output_type": "stream",
     "text": [
      "Epoch 1: 100%|██████████████████████████████████████████████████████████████████████████| 145/145 [00:09<00:00, 14.67it/s, loss=2.56e+03, train_loss=3.38e+3]\n"
     ]
    },
    {
     "name": "stderr",
     "output_type": "stream",
     "text": [
      "2022-06-14 09:13:55 pytorch_lightning.accelerators.gpu INFO: LOCAL_RANK: 0 - CUDA_VISIBLE_DEVICES: [0,1,2,3,4,5,6,7]\n"
     ]
    },
    {
     "name": "stdout",
     "output_type": "stream",
     "text": [
      "Predicting DataLoader 0: 100%|███████████████████████████████████████████████████████████████████████████████████████████████| 6/6 [00:00<00:00, -780.39it/s]\n"
     ]
    }
   ],
   "source": [
    "model.fit([TimeSeries.from_values(train_series[:-test_portion]) for train_series in data], epochs=2, verbose=True)\n",
    "pred_air = model.predict(series=[TimeSeries.from_values(time_series[:-test_portion]) for time_series in data], n=test_portion)\n"
   ]
  },
  {
   "cell_type": "code",
   "execution_count": 10,
   "id": "89b5179e-b561-48f4-ac55-cc52de861c29",
   "metadata": {},
   "outputs": [
    {
     "name": "stderr",
     "output_type": "stream",
     "text": [
      "2022-06-14 09:13:59 pytorch_lightning.accelerators.gpu INFO: LOCAL_RANK: 0 - CUDA_VISIBLE_DEVICES: [0,1,2,3,4,5,6,7]\n"
     ]
    },
    {
     "name": "stdout",
     "output_type": "stream",
     "text": [
      "Predicting DataLoader 0: 100%|███████████████████████████████████████████████████████████████████████████████████████████████| 6/6 [00:00<00:00, -784.92it/s]\n"
     ]
    }
   ],
   "source": [
    "predicted_series = model.predict(series=[TimeSeries.from_values(time_series[:-test_portion]) for time_series in data], n=test_portion)"
   ]
  },
  {
   "cell_type": "code",
   "execution_count": 12,
   "id": "1f85c3aa-ac81-4743-ba99-258f31c3ea15",
   "metadata": {},
   "outputs": [
    {
     "data": {
      "text/plain": [
       "44.51028238167593"
      ]
     },
     "execution_count": 12,
     "metadata": {},
     "output_type": "execute_result"
    }
   ],
   "source": [
    "from sklearn.metrics import mean_squared_error, r2_score\n",
    "from math import sqrt\n",
    "actual_test = data[:,-test_portion:]\n",
    "predicted_test = np.array([series.values().reshape(-1,) for series in predicted_series])         \n",
    "rmse = sqrt(mean_squared_error(actual_test[actual_test>0], predicted_test[actual_test>0]))\n",
    "rmse"
   ]
  },
  {
   "cell_type": "markdown",
   "id": "0dfe575e-c1eb-4e5c-ab93-4a93ca27d01e",
   "metadata": {},
   "source": [
    "# Results of baseline -NBeats"
   ]
  },
  {
   "cell_type": "code",
   "execution_count": 13,
   "id": "584eb1a7-cf87-4fff-9d4d-1c2348242001",
   "metadata": {
    "collapsed": true,
    "jupyter": {
     "outputs_hidden": true
    },
    "tags": []
   },
   "outputs": [
    {
     "name": "stderr",
     "output_type": "stream",
     "text": [
      "[2022-06-14 09:16:38,173] INFO | darts.models.forecasting.torch_forecasting_model | Train dataset contains 4025 samples.\n",
      "[2022-06-14 09:16:38,173] INFO | darts.models.forecasting.torch_forecasting_model | Train dataset contains 4025 samples.\n",
      "2022-06-14 09:16:38 darts.models.forecasting.torch_forecasting_model INFO: Train dataset contains 4025 samples.\n",
      "[2022-06-14 09:16:38,232] INFO | darts.models.forecasting.torch_forecasting_model | Time series values are 64-bits; casting model to float64.\n",
      "[2022-06-14 09:16:38,232] INFO | darts.models.forecasting.torch_forecasting_model | Time series values are 64-bits; casting model to float64.\n",
      "2022-06-14 09:16:38 darts.models.forecasting.torch_forecasting_model INFO: Time series values are 64-bits; casting model to float64.\n",
      "[2022-06-14 09:16:38,234] WARNING | darts.models.forecasting.torch_forecasting_model | DeprecationWarning: kwarg `verbose` is deprecated and will be removed in a future Darts version. Instead, control verbosity with PyTorch Lightning Trainer parameters `enable_progress_bar`, `progress_bar_refresh_rate` and `enable_model_summary` in the `pl_trainer_kwargs` dict at model creation.\n",
      "[2022-06-14 09:16:38,234] WARNING | darts.models.forecasting.torch_forecasting_model | DeprecationWarning: kwarg `verbose` is deprecated and will be removed in a future Darts version. Instead, control verbosity with PyTorch Lightning Trainer parameters `enable_progress_bar`, `progress_bar_refresh_rate` and `enable_model_summary` in the `pl_trainer_kwargs` dict at model creation.\n",
      "2022-06-14 09:16:38 darts.models.forecasting.torch_forecasting_model WARNING: DeprecationWarning: kwarg `verbose` is deprecated and will be removed in a future Darts version. Instead, control verbosity with PyTorch Lightning Trainer parameters `enable_progress_bar`, `progress_bar_refresh_rate` and `enable_model_summary` in the `pl_trainer_kwargs` dict at model creation.\n",
      "2022-06-14 09:16:38 pytorch_lightning.utilities.rank_zero INFO: GPU available: True, used: True\n",
      "2022-06-14 09:16:38 pytorch_lightning.utilities.rank_zero INFO: TPU available: False, using: 0 TPU cores\n",
      "2022-06-14 09:16:38 pytorch_lightning.utilities.rank_zero INFO: IPU available: False, using: 0 IPUs\n",
      "2022-06-14 09:16:38 pytorch_lightning.utilities.rank_zero INFO: HPU available: False, using: 0 HPUs\n"
     ]
    },
    {
     "name": "stdout",
     "output_type": "stream",
     "text": [
      "Imputing row 1/161 with 31 missing, elapsed time: 0.011\n",
      "Imputing row 101/161 with 5 missing, elapsed time: 0.025\n",
      "[KNN] Warning: 108/5796 still missing after imputation, replacing with 0\n"
     ]
    },
    {
     "name": "stderr",
     "output_type": "stream",
     "text": [
      "2022-06-14 09:16:38 pytorch_lightning.accelerators.gpu INFO: LOCAL_RANK: 0 - CUDA_VISIBLE_DEVICES: [0,1,2,3,4,5,6,7]\n",
      "2022-06-14 09:16:38 pytorch_lightning.callbacks.model_summary INFO: \n",
      "  | Name      | Type       | Params\n",
      "-----------------------------------------\n",
      "0 | criterion | MSELoss    | 0     \n",
      "1 | stacks    | ModuleList | 6.1 M \n",
      "-----------------------------------------\n",
      "6.1 M     Trainable params\n",
      "1.3 K     Non-trainable params\n",
      "6.1 M     Total params\n",
      "48.434    Total estimated model params size (MB)\n"
     ]
    },
    {
     "name": "stdout",
     "output_type": "stream",
     "text": [
      "Epoch 1: 100%|██████████████████████████████████████████████████████████████████████████| 126/126 [00:09<00:00, 13.24it/s, loss=2.35e+03, train_loss=2.14e+3]\n"
     ]
    },
    {
     "name": "stderr",
     "output_type": "stream",
     "text": [
      "2022-06-14 09:16:57 pytorch_lightning.accelerators.gpu INFO: LOCAL_RANK: 0 - CUDA_VISIBLE_DEVICES: [0,1,2,3,4,5,6,7]\n"
     ]
    },
    {
     "name": "stdout",
     "output_type": "stream",
     "text": [
      "Predicting DataLoader 0: 100%|███████████████████████████████████████████████████████████████████████████████████████████████| 6/6 [00:00<00:00, -717.09it/s]\n"
     ]
    },
    {
     "name": "stderr",
     "output_type": "stream",
     "text": [
      "2022-06-14 09:16:58 pytorch_lightning.accelerators.gpu INFO: LOCAL_RANK: 0 - CUDA_VISIBLE_DEVICES: [0,1,2,3,4,5,6,7]\n"
     ]
    },
    {
     "name": "stdout",
     "output_type": "stream",
     "text": [
      "Predicting DataLoader 0: 100%|███████████████████████████████████████████████████████████████████████████████████████████████| 6/6 [00:00<00:00, -722.79it/s]\n",
      "34.56282668271532\n",
      "Imputing row 1/158 with 35 missing, elapsed time: 0.010\n",
      "Imputing row 101/158 with 1 missing, elapsed time: 0.022\n"
     ]
    },
    {
     "name": "stderr",
     "output_type": "stream",
     "text": [
      "[2022-06-14 09:16:58,858] INFO | darts.models.forecasting.torch_forecasting_model | Train dataset contains 3950 samples.\n",
      "[2022-06-14 09:16:58,858] INFO | darts.models.forecasting.torch_forecasting_model | Train dataset contains 3950 samples.\n",
      "2022-06-14 09:16:58 darts.models.forecasting.torch_forecasting_model INFO: Train dataset contains 3950 samples.\n",
      "[2022-06-14 09:16:58,919] INFO | darts.models.forecasting.torch_forecasting_model | Time series values are 64-bits; casting model to float64.\n",
      "[2022-06-14 09:16:58,919] INFO | darts.models.forecasting.torch_forecasting_model | Time series values are 64-bits; casting model to float64.\n",
      "2022-06-14 09:16:58 darts.models.forecasting.torch_forecasting_model INFO: Time series values are 64-bits; casting model to float64.\n",
      "[2022-06-14 09:16:58,920] WARNING | darts.models.forecasting.torch_forecasting_model | DeprecationWarning: kwarg `verbose` is deprecated and will be removed in a future Darts version. Instead, control verbosity with PyTorch Lightning Trainer parameters `enable_progress_bar`, `progress_bar_refresh_rate` and `enable_model_summary` in the `pl_trainer_kwargs` dict at model creation.\n",
      "[2022-06-14 09:16:58,920] WARNING | darts.models.forecasting.torch_forecasting_model | DeprecationWarning: kwarg `verbose` is deprecated and will be removed in a future Darts version. Instead, control verbosity with PyTorch Lightning Trainer parameters `enable_progress_bar`, `progress_bar_refresh_rate` and `enable_model_summary` in the `pl_trainer_kwargs` dict at model creation.\n",
      "2022-06-14 09:16:58 darts.models.forecasting.torch_forecasting_model WARNING: DeprecationWarning: kwarg `verbose` is deprecated and will be removed in a future Darts version. Instead, control verbosity with PyTorch Lightning Trainer parameters `enable_progress_bar`, `progress_bar_refresh_rate` and `enable_model_summary` in the `pl_trainer_kwargs` dict at model creation.\n",
      "2022-06-14 09:16:58 pytorch_lightning.utilities.rank_zero INFO: GPU available: True, used: True\n",
      "2022-06-14 09:16:58 pytorch_lightning.utilities.rank_zero INFO: TPU available: False, using: 0 TPU cores\n",
      "2022-06-14 09:16:58 pytorch_lightning.utilities.rank_zero INFO: IPU available: False, using: 0 IPUs\n",
      "2022-06-14 09:16:58 pytorch_lightning.utilities.rank_zero INFO: HPU available: False, using: 0 HPUs\n",
      "2022-06-14 09:16:58 pytorch_lightning.accelerators.gpu INFO: LOCAL_RANK: 0 - CUDA_VISIBLE_DEVICES: [0,1,2,3,4,5,6,7]\n",
      "2022-06-14 09:16:58 pytorch_lightning.callbacks.model_summary INFO: \n",
      "  | Name      | Type       | Params\n",
      "-----------------------------------------\n",
      "0 | criterion | MSELoss    | 0     \n",
      "1 | stacks    | ModuleList | 6.1 M \n",
      "-----------------------------------------\n",
      "6.1 M     Trainable params\n",
      "1.3 K     Non-trainable params\n",
      "6.1 M     Total params\n",
      "48.434    Total estimated model params size (MB)\n"
     ]
    },
    {
     "name": "stdout",
     "output_type": "stream",
     "text": [
      "Epoch 1: 100%|██████████████████████████████████████████████████████████████████████████| 124/124 [00:09<00:00, 13.13it/s, loss=1.81e+03, train_loss=2.77e+3]\n"
     ]
    },
    {
     "name": "stderr",
     "output_type": "stream",
     "text": [
      "2022-06-14 09:17:18 pytorch_lightning.accelerators.gpu INFO: LOCAL_RANK: 0 - CUDA_VISIBLE_DEVICES: [0,1,2,3,4,5,6,7]\n"
     ]
    },
    {
     "name": "stdout",
     "output_type": "stream",
     "text": [
      "Predicting DataLoader 0: 100%|███████████████████████████████████████████████████████████████████████████████████████████████| 5/5 [00:00<00:00, -782.33it/s]\n"
     ]
    },
    {
     "name": "stderr",
     "output_type": "stream",
     "text": [
      "2022-06-14 09:17:18 pytorch_lightning.accelerators.gpu INFO: LOCAL_RANK: 0 - CUDA_VISIBLE_DEVICES: [0,1,2,3,4,5,6,7]\n"
     ]
    },
    {
     "name": "stdout",
     "output_type": "stream",
     "text": [
      "Predicting DataLoader 0: 100%|███████████████████████████████████████████████████████████████████████████████████████████████| 5/5 [00:00<00:00, -776.21it/s]\n",
      "51.00243357640567\n",
      "Imputing row 1/165 with 0 missing, elapsed time: 0.009\n",
      "Imputing row 101/165 with 7 missing, elapsed time: 0.017\n",
      "[KNN] Warning: 504/5940 still missing after imputation, replacing with 0\n"
     ]
    },
    {
     "name": "stderr",
     "output_type": "stream",
     "text": [
      "[2022-06-14 09:17:19,414] INFO | darts.models.forecasting.torch_forecasting_model | Train dataset contains 4125 samples.\n",
      "[2022-06-14 09:17:19,414] INFO | darts.models.forecasting.torch_forecasting_model | Train dataset contains 4125 samples.\n",
      "2022-06-14 09:17:19 darts.models.forecasting.torch_forecasting_model INFO: Train dataset contains 4125 samples.\n",
      "[2022-06-14 09:17:19,772] INFO | darts.models.forecasting.torch_forecasting_model | Time series values are 64-bits; casting model to float64.\n",
      "[2022-06-14 09:17:19,772] INFO | darts.models.forecasting.torch_forecasting_model | Time series values are 64-bits; casting model to float64.\n",
      "2022-06-14 09:17:19 darts.models.forecasting.torch_forecasting_model INFO: Time series values are 64-bits; casting model to float64.\n",
      "[2022-06-14 09:17:19,773] WARNING | darts.models.forecasting.torch_forecasting_model | DeprecationWarning: kwarg `verbose` is deprecated and will be removed in a future Darts version. Instead, control verbosity with PyTorch Lightning Trainer parameters `enable_progress_bar`, `progress_bar_refresh_rate` and `enable_model_summary` in the `pl_trainer_kwargs` dict at model creation.\n",
      "[2022-06-14 09:17:19,773] WARNING | darts.models.forecasting.torch_forecasting_model | DeprecationWarning: kwarg `verbose` is deprecated and will be removed in a future Darts version. Instead, control verbosity with PyTorch Lightning Trainer parameters `enable_progress_bar`, `progress_bar_refresh_rate` and `enable_model_summary` in the `pl_trainer_kwargs` dict at model creation.\n",
      "2022-06-14 09:17:19 darts.models.forecasting.torch_forecasting_model WARNING: DeprecationWarning: kwarg `verbose` is deprecated and will be removed in a future Darts version. Instead, control verbosity with PyTorch Lightning Trainer parameters `enable_progress_bar`, `progress_bar_refresh_rate` and `enable_model_summary` in the `pl_trainer_kwargs` dict at model creation.\n",
      "2022-06-14 09:17:19 pytorch_lightning.utilities.rank_zero INFO: GPU available: True, used: True\n",
      "2022-06-14 09:17:19 pytorch_lightning.utilities.rank_zero INFO: TPU available: False, using: 0 TPU cores\n",
      "2022-06-14 09:17:19 pytorch_lightning.utilities.rank_zero INFO: IPU available: False, using: 0 IPUs\n",
      "2022-06-14 09:17:19 pytorch_lightning.utilities.rank_zero INFO: HPU available: False, using: 0 HPUs\n",
      "2022-06-14 09:17:19 pytorch_lightning.accelerators.gpu INFO: LOCAL_RANK: 0 - CUDA_VISIBLE_DEVICES: [0,1,2,3,4,5,6,7]\n",
      "2022-06-14 09:17:19 pytorch_lightning.callbacks.model_summary INFO: \n",
      "  | Name      | Type       | Params\n",
      "-----------------------------------------\n",
      "0 | criterion | MSELoss    | 0     \n",
      "1 | stacks    | ModuleList | 6.1 M \n",
      "-----------------------------------------\n",
      "6.1 M     Trainable params\n",
      "1.3 K     Non-trainable params\n",
      "6.1 M     Total params\n",
      "48.434    Total estimated model params size (MB)\n"
     ]
    },
    {
     "name": "stdout",
     "output_type": "stream",
     "text": [
      "Epoch 1: 100%|████████████████████████████████████████████████████████████████████████████| 129/129 [00:09<00:00, 13.13it/s, loss=4.8e+03, train_loss=4.1e+3]\n"
     ]
    },
    {
     "name": "stderr",
     "output_type": "stream",
     "text": [
      "2022-06-14 09:17:39 pytorch_lightning.accelerators.gpu INFO: LOCAL_RANK: 0 - CUDA_VISIBLE_DEVICES: [0,1,2,3,4,5,6,7]\n"
     ]
    },
    {
     "name": "stdout",
     "output_type": "stream",
     "text": [
      "Predicting DataLoader 0: 100%|███████████████████████████████████████████████████████████████████████████████████████████████| 6/6 [00:00<00:00, -735.35it/s]\n"
     ]
    },
    {
     "name": "stderr",
     "output_type": "stream",
     "text": [
      "2022-06-14 09:17:40 pytorch_lightning.accelerators.gpu INFO: LOCAL_RANK: 0 - CUDA_VISIBLE_DEVICES: [0,1,2,3,4,5,6,7]\n"
     ]
    },
    {
     "name": "stdout",
     "output_type": "stream",
     "text": [
      "Predicting DataLoader 0: 100%|███████████████████████████████████████████████████████████████████████████████████████████████| 6/6 [00:00<00:00, -734.67it/s]\n",
      "59.24456066733967\n",
      "Imputing row 1/185 with 0 missing, elapsed time: 0.013\n",
      "Imputing row 101/185 with 2 missing, elapsed time: 0.031\n",
      "[KNN] Warning: 72/6660 still missing after imputation, replacing with 0\n"
     ]
    },
    {
     "name": "stderr",
     "output_type": "stream",
     "text": [
      "[2022-06-14 09:17:40,859] INFO | darts.models.forecasting.torch_forecasting_model | Train dataset contains 4625 samples.\n",
      "[2022-06-14 09:17:40,859] INFO | darts.models.forecasting.torch_forecasting_model | Train dataset contains 4625 samples.\n",
      "2022-06-14 09:17:40 darts.models.forecasting.torch_forecasting_model INFO: Train dataset contains 4625 samples.\n",
      "[2022-06-14 09:17:40,918] INFO | darts.models.forecasting.torch_forecasting_model | Time series values are 64-bits; casting model to float64.\n",
      "[2022-06-14 09:17:40,918] INFO | darts.models.forecasting.torch_forecasting_model | Time series values are 64-bits; casting model to float64.\n",
      "2022-06-14 09:17:40 darts.models.forecasting.torch_forecasting_model INFO: Time series values are 64-bits; casting model to float64.\n",
      "[2022-06-14 09:17:40,919] WARNING | darts.models.forecasting.torch_forecasting_model | DeprecationWarning: kwarg `verbose` is deprecated and will be removed in a future Darts version. Instead, control verbosity with PyTorch Lightning Trainer parameters `enable_progress_bar`, `progress_bar_refresh_rate` and `enable_model_summary` in the `pl_trainer_kwargs` dict at model creation.\n",
      "[2022-06-14 09:17:40,919] WARNING | darts.models.forecasting.torch_forecasting_model | DeprecationWarning: kwarg `verbose` is deprecated and will be removed in a future Darts version. Instead, control verbosity with PyTorch Lightning Trainer parameters `enable_progress_bar`, `progress_bar_refresh_rate` and `enable_model_summary` in the `pl_trainer_kwargs` dict at model creation.\n",
      "2022-06-14 09:17:40 darts.models.forecasting.torch_forecasting_model WARNING: DeprecationWarning: kwarg `verbose` is deprecated and will be removed in a future Darts version. Instead, control verbosity with PyTorch Lightning Trainer parameters `enable_progress_bar`, `progress_bar_refresh_rate` and `enable_model_summary` in the `pl_trainer_kwargs` dict at model creation.\n",
      "2022-06-14 09:17:40 pytorch_lightning.utilities.rank_zero INFO: GPU available: True, used: True\n",
      "2022-06-14 09:17:40 pytorch_lightning.utilities.rank_zero INFO: TPU available: False, using: 0 TPU cores\n",
      "2022-06-14 09:17:40 pytorch_lightning.utilities.rank_zero INFO: IPU available: False, using: 0 IPUs\n",
      "2022-06-14 09:17:40 pytorch_lightning.utilities.rank_zero INFO: HPU available: False, using: 0 HPUs\n",
      "2022-06-14 09:17:40 pytorch_lightning.accelerators.gpu INFO: LOCAL_RANK: 0 - CUDA_VISIBLE_DEVICES: [0,1,2,3,4,5,6,7]\n",
      "2022-06-14 09:17:40 pytorch_lightning.callbacks.model_summary INFO: \n",
      "  | Name      | Type       | Params\n",
      "-----------------------------------------\n",
      "0 | criterion | MSELoss    | 0     \n",
      "1 | stacks    | ModuleList | 6.1 M \n",
      "-----------------------------------------\n",
      "6.1 M     Trainable params\n",
      "1.3 K     Non-trainable params\n",
      "6.1 M     Total params\n",
      "48.434    Total estimated model params size (MB)\n"
     ]
    },
    {
     "name": "stdout",
     "output_type": "stream",
     "text": [
      "Epoch 1: 100%|██████████████████████████████████████████████████████████████████████████| 145/145 [00:11<00:00, 13.18it/s, loss=2.56e+03, train_loss=3.38e+3]\n"
     ]
    },
    {
     "name": "stderr",
     "output_type": "stream",
     "text": [
      "2022-06-14 09:18:03 pytorch_lightning.accelerators.gpu INFO: LOCAL_RANK: 0 - CUDA_VISIBLE_DEVICES: [0,1,2,3,4,5,6,7]\n"
     ]
    },
    {
     "name": "stdout",
     "output_type": "stream",
     "text": [
      "Predicting DataLoader 0: 100%|███████████████████████████████████████████████████████████████████████████████████████████████| 6/6 [00:00<00:00, -764.79it/s]\n"
     ]
    },
    {
     "name": "stderr",
     "output_type": "stream",
     "text": [
      "2022-06-14 09:18:03 pytorch_lightning.accelerators.gpu INFO: LOCAL_RANK: 0 - CUDA_VISIBLE_DEVICES: [0,1,2,3,4,5,6,7]\n"
     ]
    },
    {
     "name": "stdout",
     "output_type": "stream",
     "text": [
      "Predicting DataLoader 0: 100%|███████████████████████████████████████████████████████████████████████████████████████████████| 6/6 [00:00<00:00, -777.17it/s]\n",
      "44.51028238167593\n",
      "Imputing row 1/190 with 0 missing, elapsed time: 0.013\n",
      "Imputing row 101/190 with 0 missing, elapsed time: 0.030\n",
      "[KNN] Warning: 36/6840 still missing after imputation, replacing with 0\n"
     ]
    },
    {
     "name": "stderr",
     "output_type": "stream",
     "text": [
      "[2022-06-14 09:18:04,421] INFO | darts.models.forecasting.torch_forecasting_model | Train dataset contains 4750 samples.\n",
      "[2022-06-14 09:18:04,421] INFO | darts.models.forecasting.torch_forecasting_model | Train dataset contains 4750 samples.\n",
      "2022-06-14 09:18:04 darts.models.forecasting.torch_forecasting_model INFO: Train dataset contains 4750 samples.\n",
      "[2022-06-14 09:18:04,481] INFO | darts.models.forecasting.torch_forecasting_model | Time series values are 64-bits; casting model to float64.\n",
      "[2022-06-14 09:18:04,481] INFO | darts.models.forecasting.torch_forecasting_model | Time series values are 64-bits; casting model to float64.\n",
      "2022-06-14 09:18:04 darts.models.forecasting.torch_forecasting_model INFO: Time series values are 64-bits; casting model to float64.\n",
      "[2022-06-14 09:18:04,482] WARNING | darts.models.forecasting.torch_forecasting_model | DeprecationWarning: kwarg `verbose` is deprecated and will be removed in a future Darts version. Instead, control verbosity with PyTorch Lightning Trainer parameters `enable_progress_bar`, `progress_bar_refresh_rate` and `enable_model_summary` in the `pl_trainer_kwargs` dict at model creation.\n",
      "[2022-06-14 09:18:04,482] WARNING | darts.models.forecasting.torch_forecasting_model | DeprecationWarning: kwarg `verbose` is deprecated and will be removed in a future Darts version. Instead, control verbosity with PyTorch Lightning Trainer parameters `enable_progress_bar`, `progress_bar_refresh_rate` and `enable_model_summary` in the `pl_trainer_kwargs` dict at model creation.\n",
      "2022-06-14 09:18:04 darts.models.forecasting.torch_forecasting_model WARNING: DeprecationWarning: kwarg `verbose` is deprecated and will be removed in a future Darts version. Instead, control verbosity with PyTorch Lightning Trainer parameters `enable_progress_bar`, `progress_bar_refresh_rate` and `enable_model_summary` in the `pl_trainer_kwargs` dict at model creation.\n",
      "2022-06-14 09:18:04 pytorch_lightning.utilities.rank_zero INFO: GPU available: True, used: True\n",
      "2022-06-14 09:18:04 pytorch_lightning.utilities.rank_zero INFO: TPU available: False, using: 0 TPU cores\n",
      "2022-06-14 09:18:04 pytorch_lightning.utilities.rank_zero INFO: IPU available: False, using: 0 IPUs\n",
      "2022-06-14 09:18:04 pytorch_lightning.utilities.rank_zero INFO: HPU available: False, using: 0 HPUs\n",
      "2022-06-14 09:18:04 pytorch_lightning.accelerators.gpu INFO: LOCAL_RANK: 0 - CUDA_VISIBLE_DEVICES: [0,1,2,3,4,5,6,7]\n",
      "2022-06-14 09:18:04 pytorch_lightning.callbacks.model_summary INFO: \n",
      "  | Name      | Type       | Params\n",
      "-----------------------------------------\n",
      "0 | criterion | MSELoss    | 0     \n",
      "1 | stacks    | ModuleList | 6.1 M \n",
      "-----------------------------------------\n",
      "6.1 M     Trainable params\n",
      "1.3 K     Non-trainable params\n",
      "6.1 M     Total params\n",
      "48.434    Total estimated model params size (MB)\n"
     ]
    },
    {
     "name": "stdout",
     "output_type": "stream",
     "text": [
      "Epoch 1: 100%|██████████████████████████████████████████████████████████████████████████| 149/149 [00:11<00:00, 13.13it/s, loss=3.21e+03, train_loss=2.85e+3]\n"
     ]
    },
    {
     "name": "stderr",
     "output_type": "stream",
     "text": [
      "2022-06-14 09:18:27 pytorch_lightning.accelerators.gpu INFO: LOCAL_RANK: 0 - CUDA_VISIBLE_DEVICES: [0,1,2,3,4,5,6,7]\n"
     ]
    },
    {
     "name": "stdout",
     "output_type": "stream",
     "text": [
      "Predicting DataLoader 0: 100%|███████████████████████████████████████████████████████████████████████████████████████████████| 6/6 [00:00<00:00, -779.02it/s]\n"
     ]
    },
    {
     "name": "stderr",
     "output_type": "stream",
     "text": [
      "2022-06-14 09:18:28 pytorch_lightning.accelerators.gpu INFO: LOCAL_RANK: 0 - CUDA_VISIBLE_DEVICES: [0,1,2,3,4,5,6,7]\n"
     ]
    },
    {
     "name": "stdout",
     "output_type": "stream",
     "text": [
      "Predicting DataLoader 0: 100%|███████████████████████████████████████████████████████████████████████████████████████████████| 6/6 [00:00<00:00, -785.31it/s]\n",
      "70.69956550368852\n",
      "Imputing row 1/117 with 2 missing, elapsed time: 0.006\n",
      "Imputing row 101/117 with 31 missing, elapsed time: 0.026\n"
     ]
    },
    {
     "name": "stderr",
     "output_type": "stream",
     "text": [
      "[2022-06-14 09:18:28,678] INFO | darts.models.forecasting.torch_forecasting_model | Train dataset contains 2808 samples.\n",
      "[2022-06-14 09:18:28,678] INFO | darts.models.forecasting.torch_forecasting_model | Train dataset contains 2808 samples.\n",
      "2022-06-14 09:18:28 darts.models.forecasting.torch_forecasting_model INFO: Train dataset contains 2808 samples.\n",
      "[2022-06-14 09:18:28,739] INFO | darts.models.forecasting.torch_forecasting_model | Time series values are 64-bits; casting model to float64.\n",
      "[2022-06-14 09:18:28,739] INFO | darts.models.forecasting.torch_forecasting_model | Time series values are 64-bits; casting model to float64.\n",
      "2022-06-14 09:18:28 darts.models.forecasting.torch_forecasting_model INFO: Time series values are 64-bits; casting model to float64.\n",
      "[2022-06-14 09:18:28,740] WARNING | darts.models.forecasting.torch_forecasting_model | DeprecationWarning: kwarg `verbose` is deprecated and will be removed in a future Darts version. Instead, control verbosity with PyTorch Lightning Trainer parameters `enable_progress_bar`, `progress_bar_refresh_rate` and `enable_model_summary` in the `pl_trainer_kwargs` dict at model creation.\n",
      "[2022-06-14 09:18:28,740] WARNING | darts.models.forecasting.torch_forecasting_model | DeprecationWarning: kwarg `verbose` is deprecated and will be removed in a future Darts version. Instead, control verbosity with PyTorch Lightning Trainer parameters `enable_progress_bar`, `progress_bar_refresh_rate` and `enable_model_summary` in the `pl_trainer_kwargs` dict at model creation.\n",
      "2022-06-14 09:18:28 darts.models.forecasting.torch_forecasting_model WARNING: DeprecationWarning: kwarg `verbose` is deprecated and will be removed in a future Darts version. Instead, control verbosity with PyTorch Lightning Trainer parameters `enable_progress_bar`, `progress_bar_refresh_rate` and `enable_model_summary` in the `pl_trainer_kwargs` dict at model creation.\n",
      "2022-06-14 09:18:28 pytorch_lightning.utilities.rank_zero INFO: GPU available: True, used: True\n",
      "2022-06-14 09:18:28 pytorch_lightning.utilities.rank_zero INFO: TPU available: False, using: 0 TPU cores\n",
      "2022-06-14 09:18:28 pytorch_lightning.utilities.rank_zero INFO: IPU available: False, using: 0 IPUs\n",
      "2022-06-14 09:18:28 pytorch_lightning.utilities.rank_zero INFO: HPU available: False, using: 0 HPUs\n",
      "2022-06-14 09:18:28 pytorch_lightning.accelerators.gpu INFO: LOCAL_RANK: 0 - CUDA_VISIBLE_DEVICES: [0,1,2,3,4,5,6,7]\n",
      "2022-06-14 09:18:28 pytorch_lightning.callbacks.model_summary INFO: \n",
      "  | Name      | Type       | Params\n",
      "-----------------------------------------\n",
      "0 | criterion | MSELoss    | 0     \n",
      "1 | stacks    | ModuleList | 6.1 M \n",
      "-----------------------------------------\n",
      "6.1 M     Trainable params\n",
      "1.3 K     Non-trainable params\n",
      "6.1 M     Total params\n",
      "48.434    Total estimated model params size (MB)\n"
     ]
    },
    {
     "name": "stdout",
     "output_type": "stream",
     "text": [
      "Epoch 1: 100%|█████████████████████████████████████████████████████████████████████████████| 88/88 [00:06<00:00, 13.03it/s, loss=6.79e+03, train_loss=5.5e+3]\n"
     ]
    },
    {
     "name": "stderr",
     "output_type": "stream",
     "text": [
      "2022-06-14 09:18:42 pytorch_lightning.accelerators.gpu INFO: LOCAL_RANK: 0 - CUDA_VISIBLE_DEVICES: [0,1,2,3,4,5,6,7]\n"
     ]
    },
    {
     "name": "stdout",
     "output_type": "stream",
     "text": [
      "Predicting DataLoader 0: 100%|███████████████████████████████████████████████████████████████████████████████████████████████| 4/4 [00:00<00:00, -730.65it/s]\n"
     ]
    },
    {
     "name": "stderr",
     "output_type": "stream",
     "text": [
      "2022-06-14 09:18:43 pytorch_lightning.accelerators.gpu INFO: LOCAL_RANK: 0 - CUDA_VISIBLE_DEVICES: [0,1,2,3,4,5,6,7]\n"
     ]
    },
    {
     "name": "stdout",
     "output_type": "stream",
     "text": [
      "Predicting DataLoader 0: 100%|███████████████████████████████████████████████████████████████████████████████████████████████| 4/4 [00:00<00:00, -732.25it/s]\n",
      "157.18415487018075\n",
      "Imputing row 1/167 with 35 missing, elapsed time: 0.010\n",
      "Imputing row 101/167 with 33 missing, elapsed time: 0.029\n",
      "[KNN] Warning: 612/6012 still missing after imputation, replacing with 0\n"
     ]
    },
    {
     "name": "stderr",
     "output_type": "stream",
     "text": [
      "[2022-06-14 09:18:43,728] INFO | darts.models.forecasting.torch_forecasting_model | Train dataset contains 4175 samples.\n",
      "[2022-06-14 09:18:43,728] INFO | darts.models.forecasting.torch_forecasting_model | Train dataset contains 4175 samples.\n",
      "2022-06-14 09:18:43 darts.models.forecasting.torch_forecasting_model INFO: Train dataset contains 4175 samples.\n",
      "[2022-06-14 09:18:43,786] INFO | darts.models.forecasting.torch_forecasting_model | Time series values are 64-bits; casting model to float64.\n",
      "[2022-06-14 09:18:43,786] INFO | darts.models.forecasting.torch_forecasting_model | Time series values are 64-bits; casting model to float64.\n",
      "2022-06-14 09:18:43 darts.models.forecasting.torch_forecasting_model INFO: Time series values are 64-bits; casting model to float64.\n",
      "[2022-06-14 09:18:43,787] WARNING | darts.models.forecasting.torch_forecasting_model | DeprecationWarning: kwarg `verbose` is deprecated and will be removed in a future Darts version. Instead, control verbosity with PyTorch Lightning Trainer parameters `enable_progress_bar`, `progress_bar_refresh_rate` and `enable_model_summary` in the `pl_trainer_kwargs` dict at model creation.\n",
      "[2022-06-14 09:18:43,787] WARNING | darts.models.forecasting.torch_forecasting_model | DeprecationWarning: kwarg `verbose` is deprecated and will be removed in a future Darts version. Instead, control verbosity with PyTorch Lightning Trainer parameters `enable_progress_bar`, `progress_bar_refresh_rate` and `enable_model_summary` in the `pl_trainer_kwargs` dict at model creation.\n",
      "2022-06-14 09:18:43 darts.models.forecasting.torch_forecasting_model WARNING: DeprecationWarning: kwarg `verbose` is deprecated and will be removed in a future Darts version. Instead, control verbosity with PyTorch Lightning Trainer parameters `enable_progress_bar`, `progress_bar_refresh_rate` and `enable_model_summary` in the `pl_trainer_kwargs` dict at model creation.\n",
      "2022-06-14 09:18:43 pytorch_lightning.utilities.rank_zero INFO: GPU available: True, used: True\n",
      "2022-06-14 09:18:43 pytorch_lightning.utilities.rank_zero INFO: TPU available: False, using: 0 TPU cores\n",
      "2022-06-14 09:18:43 pytorch_lightning.utilities.rank_zero INFO: IPU available: False, using: 0 IPUs\n",
      "2022-06-14 09:18:43 pytorch_lightning.utilities.rank_zero INFO: HPU available: False, using: 0 HPUs\n",
      "2022-06-14 09:18:43 pytorch_lightning.accelerators.gpu INFO: LOCAL_RANK: 0 - CUDA_VISIBLE_DEVICES: [0,1,2,3,4,5,6,7]\n",
      "2022-06-14 09:18:43 pytorch_lightning.callbacks.model_summary INFO: \n",
      "  | Name      | Type       | Params\n",
      "-----------------------------------------\n",
      "0 | criterion | MSELoss    | 0     \n",
      "1 | stacks    | ModuleList | 6.1 M \n",
      "-----------------------------------------\n",
      "6.1 M     Trainable params\n",
      "1.3 K     Non-trainable params\n",
      "6.1 M     Total params\n",
      "48.434    Total estimated model params size (MB)\n"
     ]
    },
    {
     "name": "stdout",
     "output_type": "stream",
     "text": [
      "Epoch 1: 100%|██████████████████████████████████████████████████████████████████████████| 131/131 [00:10<00:00, 13.08it/s, loss=2.25e+03, train_loss=1.89e+3]\n"
     ]
    },
    {
     "name": "stderr",
     "output_type": "stream",
     "text": [
      "2022-06-14 09:19:04 pytorch_lightning.accelerators.gpu INFO: LOCAL_RANK: 0 - CUDA_VISIBLE_DEVICES: [0,1,2,3,4,5,6,7]\n"
     ]
    },
    {
     "name": "stdout",
     "output_type": "stream",
     "text": [
      "Predicting DataLoader 0: 100%|███████████████████████████████████████████████████████████████████████████████████████████████| 6/6 [00:00<00:00, -745.40it/s]\n"
     ]
    },
    {
     "name": "stderr",
     "output_type": "stream",
     "text": [
      "2022-06-14 09:19:04 pytorch_lightning.accelerators.gpu INFO: LOCAL_RANK: 0 - CUDA_VISIBLE_DEVICES: [0,1,2,3,4,5,6,7]\n"
     ]
    },
    {
     "name": "stdout",
     "output_type": "stream",
     "text": [
      "Predicting DataLoader 0: 100%|███████████████████████████████████████████████████████████████████████████████████████████████| 6/6 [00:00<00:00, -740.22it/s]\n",
      "64.6453399541218\n",
      "Imputing row 1/153 with 0 missing, elapsed time: 0.009\n"
     ]
    },
    {
     "name": "stderr",
     "output_type": "stream",
     "text": [
      "[2022-06-14 09:19:05,476] INFO | darts.models.forecasting.torch_forecasting_model | Train dataset contains 3825 samples.\n",
      "[2022-06-14 09:19:05,476] INFO | darts.models.forecasting.torch_forecasting_model | Train dataset contains 3825 samples.\n",
      "2022-06-14 09:19:05 darts.models.forecasting.torch_forecasting_model INFO: Train dataset contains 3825 samples.\n"
     ]
    },
    {
     "name": "stdout",
     "output_type": "stream",
     "text": [
      "Imputing row 101/153 with 14 missing, elapsed time: 0.018\n"
     ]
    },
    {
     "name": "stderr",
     "output_type": "stream",
     "text": [
      "[2022-06-14 09:19:05,534] INFO | darts.models.forecasting.torch_forecasting_model | Time series values are 64-bits; casting model to float64.\n",
      "[2022-06-14 09:19:05,534] INFO | darts.models.forecasting.torch_forecasting_model | Time series values are 64-bits; casting model to float64.\n",
      "2022-06-14 09:19:05 darts.models.forecasting.torch_forecasting_model INFO: Time series values are 64-bits; casting model to float64.\n",
      "[2022-06-14 09:19:05,535] WARNING | darts.models.forecasting.torch_forecasting_model | DeprecationWarning: kwarg `verbose` is deprecated and will be removed in a future Darts version. Instead, control verbosity with PyTorch Lightning Trainer parameters `enable_progress_bar`, `progress_bar_refresh_rate` and `enable_model_summary` in the `pl_trainer_kwargs` dict at model creation.\n",
      "[2022-06-14 09:19:05,535] WARNING | darts.models.forecasting.torch_forecasting_model | DeprecationWarning: kwarg `verbose` is deprecated and will be removed in a future Darts version. Instead, control verbosity with PyTorch Lightning Trainer parameters `enable_progress_bar`, `progress_bar_refresh_rate` and `enable_model_summary` in the `pl_trainer_kwargs` dict at model creation.\n",
      "2022-06-14 09:19:05 darts.models.forecasting.torch_forecasting_model WARNING: DeprecationWarning: kwarg `verbose` is deprecated and will be removed in a future Darts version. Instead, control verbosity with PyTorch Lightning Trainer parameters `enable_progress_bar`, `progress_bar_refresh_rate` and `enable_model_summary` in the `pl_trainer_kwargs` dict at model creation.\n",
      "2022-06-14 09:19:05 pytorch_lightning.utilities.rank_zero INFO: GPU available: True, used: True\n",
      "2022-06-14 09:19:05 pytorch_lightning.utilities.rank_zero INFO: TPU available: False, using: 0 TPU cores\n",
      "2022-06-14 09:19:05 pytorch_lightning.utilities.rank_zero INFO: IPU available: False, using: 0 IPUs\n",
      "2022-06-14 09:19:05 pytorch_lightning.utilities.rank_zero INFO: HPU available: False, using: 0 HPUs\n",
      "2022-06-14 09:19:05 pytorch_lightning.accelerators.gpu INFO: LOCAL_RANK: 0 - CUDA_VISIBLE_DEVICES: [0,1,2,3,4,5,6,7]\n",
      "2022-06-14 09:19:05 pytorch_lightning.callbacks.model_summary INFO: \n",
      "  | Name      | Type       | Params\n",
      "-----------------------------------------\n",
      "0 | criterion | MSELoss    | 0     \n",
      "1 | stacks    | ModuleList | 6.1 M \n",
      "-----------------------------------------\n",
      "6.1 M     Trainable params\n",
      "1.3 K     Non-trainable params\n",
      "6.1 M     Total params\n",
      "48.434    Total estimated model params size (MB)\n"
     ]
    },
    {
     "name": "stdout",
     "output_type": "stream",
     "text": [
      "Epoch 1: 100%|███████████████████████████████████████████████████████████████████████████| 120/120 [00:09<00:00, 13.11it/s, loss=1.64e+03, train_loss=1.2e+3]\n"
     ]
    },
    {
     "name": "stderr",
     "output_type": "stream",
     "text": [
      "2022-06-14 09:19:24 pytorch_lightning.accelerators.gpu INFO: LOCAL_RANK: 0 - CUDA_VISIBLE_DEVICES: [0,1,2,3,4,5,6,7]\n"
     ]
    },
    {
     "name": "stdout",
     "output_type": "stream",
     "text": [
      "Predicting DataLoader 0: 100%|███████████████████████████████████████████████████████████████████████████████████████████████| 5/5 [00:00<00:00, -768.78it/s]\n"
     ]
    },
    {
     "name": "stderr",
     "output_type": "stream",
     "text": [
      "2022-06-14 09:19:24 pytorch_lightning.accelerators.gpu INFO: LOCAL_RANK: 0 - CUDA_VISIBLE_DEVICES: [0,1,2,3,4,5,6,7]\n"
     ]
    },
    {
     "name": "stdout",
     "output_type": "stream",
     "text": [
      "Predicting DataLoader 0: 100%|███████████████████████████████████████████████████████████████████████████████████████████████| 5/5 [00:00<00:00, -776.41it/s]\n",
      "62.11738106885674\n"
     ]
    }
   ],
   "source": [
    "from sklearn.metrics import mean_squared_error, r2_score\n",
    "from math import sqrt\n",
    "days = ['7Jan', '10Jan', '15Dec', '7Dec', '24Jan', '15Nov', '28Nov', '20Nov']\n",
    "filename = ['../Data/Dummy_data_1week_'+ day +'.csv' for day in days]\n",
    "test_rmse = []\n",
    "for file in filename:\n",
    "    df = pd.read_csv(file)\n",
    "    df = df.set_index(['lat_grid','long_grid'])\n",
    "    train_size = 36\n",
    "    test_portion = 6\n",
    "    data = np.array(df)\n",
    "    data[:,:-test_portion] = np.where(data[:,:-test_portion] == 0, np.nan, data[:,:-test_portion])\n",
    "    knn_imputer = KNN()\n",
    "    data[:,:-test_portion] = knn_imputer.fit_transform(pd.DataFrame(data[:,:-test_portion]))\n",
    "    model = NBEATSModel(input_chunk_length=6, output_chunk_length=6, random_state=42, pl_trainer_kwargs={\"accelerator\": \"gpu\",\n",
    "                                                                                                       \"gpus\": [1]})\n",
    "    model.fit([TimeSeries.from_values(train_series[:-test_portion]) for train_series in data], epochs=2, verbose=True)\n",
    "    pred_air = model.predict(series=[TimeSeries.from_values(time_series[:-test_portion]) for time_series in data], n=test_portion)\n",
    "    predicted_series = model.predict(series=[TimeSeries.from_values(time_series[:-test_portion]) for time_series in data], n=test_portion)\n",
    "    actual_test = data[:,-test_portion:]\n",
    "    predicted_test = np.array([series.values().reshape(-1,) for series in predicted_series])         \n",
    "    rmse = sqrt(mean_squared_error(actual_test[actual_test>0], predicted_test[actual_test>0]))\n",
    "    print(rmse)\n",
    "    test_rmse.append(rmse)"
   ]
  },
  {
   "cell_type": "code",
   "execution_count": 15,
   "id": "c883dab8-59aa-405e-96e2-6f968f47cf06",
   "metadata": {},
   "outputs": [],
   "source": [
    "out = pd.DataFrame()\n",
    "out['rmse'] = test_rmse\n",
    "out['day'] = days\n",
    "out.to_csv('NBeats_results.csv')"
   ]
  },
  {
   "cell_type": "code",
   "execution_count": 16,
   "id": "2b34e58d-25d7-4d47-b8ba-8d3f51ff940e",
   "metadata": {},
   "outputs": [
    {
     "data": {
      "text/html": [
       "<div>\n",
       "<style scoped>\n",
       "    .dataframe tbody tr th:only-of-type {\n",
       "        vertical-align: middle;\n",
       "    }\n",
       "\n",
       "    .dataframe tbody tr th {\n",
       "        vertical-align: top;\n",
       "    }\n",
       "\n",
       "    .dataframe thead th {\n",
       "        text-align: right;\n",
       "    }\n",
       "</style>\n",
       "<table border=\"1\" class=\"dataframe\">\n",
       "  <thead>\n",
       "    <tr style=\"text-align: right;\">\n",
       "      <th></th>\n",
       "      <th>rmse</th>\n",
       "      <th>day</th>\n",
       "    </tr>\n",
       "  </thead>\n",
       "  <tbody>\n",
       "    <tr>\n",
       "      <th>0</th>\n",
       "      <td>34.562827</td>\n",
       "      <td>7Jan</td>\n",
       "    </tr>\n",
       "    <tr>\n",
       "      <th>1</th>\n",
       "      <td>51.002434</td>\n",
       "      <td>10Jan</td>\n",
       "    </tr>\n",
       "    <tr>\n",
       "      <th>2</th>\n",
       "      <td>59.244561</td>\n",
       "      <td>15Dec</td>\n",
       "    </tr>\n",
       "    <tr>\n",
       "      <th>3</th>\n",
       "      <td>44.510282</td>\n",
       "      <td>7Dec</td>\n",
       "    </tr>\n",
       "    <tr>\n",
       "      <th>4</th>\n",
       "      <td>70.699566</td>\n",
       "      <td>24Jan</td>\n",
       "    </tr>\n",
       "    <tr>\n",
       "      <th>5</th>\n",
       "      <td>157.184155</td>\n",
       "      <td>15Nov</td>\n",
       "    </tr>\n",
       "    <tr>\n",
       "      <th>6</th>\n",
       "      <td>64.645340</td>\n",
       "      <td>28Nov</td>\n",
       "    </tr>\n",
       "    <tr>\n",
       "      <th>7</th>\n",
       "      <td>62.117381</td>\n",
       "      <td>20Nov</td>\n",
       "    </tr>\n",
       "  </tbody>\n",
       "</table>\n",
       "</div>"
      ],
      "text/plain": [
       "         rmse    day\n",
       "0   34.562827   7Jan\n",
       "1   51.002434  10Jan\n",
       "2   59.244561  15Dec\n",
       "3   44.510282   7Dec\n",
       "4   70.699566  24Jan\n",
       "5  157.184155  15Nov\n",
       "6   64.645340  28Nov\n",
       "7   62.117381  20Nov"
      ]
     },
     "execution_count": 16,
     "metadata": {},
     "output_type": "execute_result"
    }
   ],
   "source": [
    "out"
   ]
  },
  {
   "cell_type": "code",
   "execution_count": 19,
   "id": "57f7c3b5-acc2-485f-9cff-5307670f19d5",
   "metadata": {},
   "outputs": [
    {
     "data": {
      "text/plain": [
       "67.99581808812304"
      ]
     },
     "execution_count": 19,
     "metadata": {},
     "output_type": "execute_result"
    }
   ],
   "source": [
    "out['rmse'].mean()"
   ]
  },
  {
   "cell_type": "code",
   "execution_count": null,
   "id": "4e1e6e4e-ca72-4488-93ed-8b9b2ca28c62",
   "metadata": {},
   "outputs": [],
   "source": []
  }
 ],
 "metadata": {
  "kernelspec": {
   "display_name": "stellargraph",
   "language": "python",
   "name": "stellargraph"
  },
  "language_info": {
   "codemirror_mode": {
    "name": "ipython",
    "version": 3
   },
   "file_extension": ".py",
   "mimetype": "text/x-python",
   "name": "python",
   "nbconvert_exporter": "python",
   "pygments_lexer": "ipython3",
   "version": "3.8.13"
  }
 },
 "nbformat": 4,
 "nbformat_minor": 5
}
