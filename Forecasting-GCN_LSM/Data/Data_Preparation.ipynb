{
 "cells": [
  {
   "cell_type": "code",
   "execution_count": 2,
   "metadata": {},
   "outputs": [],
   "source": [
    "import numpy as np\n",
    "import pandas as pd\n",
    "import datetime\n",
    "import random\n",
    "random.seed(10)"
   ]
  },
  {
   "cell_type": "markdown",
   "metadata": {
    "tags": []
   },
   "source": [
    "# Preparing the grid"
   ]
  },
  {
   "cell_type": "code",
   "execution_count": null,
   "metadata": {},
   "outputs": [],
   "source": [
    "#find the lat-lonf range\n",
    "# lat_range = {'min': 28.486, 'max': 28.72}\n",
    "# long_range = {'min': 77.1, 'max': 77.32}\n",
    "# # area = 21*26 sq km"
   ]
  },
  {
   "cell_type": "code",
   "execution_count": 5,
   "metadata": {},
   "outputs": [],
   "source": [
    "lat_min = 29\n",
    "lat_max = 27\n",
    "long_min = 78\n",
    "long_max = 76\n",
    "for i in range(1, 31):\n",
    "    if i<10:\n",
    "        datafile = '../PM Datasets/2020-11-' + str(0) + str(i) + '_all.csv'\n",
    "    else:\n",
    "        datafile = '../PM Datasets/2020-11-' + str(i) + '_all.csv'\n",
    "    \n",
    "    df = pd.read_csv(datafile)\n",
    "    df = df[['lat', 'long']]\n",
    "    df.lat = round(round(5*df.lat.astype(float),2)/5.0,3)\n",
    "    df.long= round(round(5*df.long.astype(float),2)/5.0,3)\n",
    "    df = df[(df.lat.astype(int) == 28) &(df.long.astype(int) == 77)]\n",
    "    lat_min = min(lat_min, df.lat.min())\n",
    "    lat_max = max(lat_max, df.lat.max())\n",
    "    long_min = min(long_min, df.long.min())\n",
    "    long_max = max(long_max, df.long.max())\n",
    "for i in range(1, 32):\n",
    "    if i<10:\n",
    "        datafile = '../PM Datasets/2020-12-' + str(0) + str(i) + '_all.csv'\n",
    "    else:\n",
    "        datafile = '../PM Datasets/2020-12-' + str(i) + '_all.csv'\n",
    "    \n",
    "    df = pd.read_csv(datafile)\n",
    "    df = df[['lat', 'long']]\n",
    "    df.lat = round(round(5*df.lat.astype(float),2)/5.0,3)\n",
    "    df.long= round(round(5*df.long.astype(float),2)/5.0,3)\n",
    "    df = df[(df.lat.astype(int) == 28) &(df.long.astype(int) == 77)]\n",
    "    lat_min = min(lat_min, df.lat.min())\n",
    "    lat_max = max(lat_max, df.lat.max())\n",
    "    long_min = min(long_min, df.long.min())\n",
    "    long_max = max(long_max, df.long.max())\n",
    "for i in range(1, 31):\n",
    "    if i<10:\n",
    "        datafile = '../PM Datasets/2021-01-' + str(0) + str(i) + '_all.csv'\n",
    "    else:\n",
    "        datafile = '../PM Datasets/2021-01-' + str(i) + '_all.csv'\n",
    "    \n",
    "    df = pd.read_csv(datafile)\n",
    "    df = df[['lat', 'long']]\n",
    "    df.lat = round(round(5*df.lat.astype(float),2)/5.0,3)\n",
    "    df.long= round(round(5*df.long.astype(float),2)/5.0,3)\n",
    "    df = df[(df.lat.astype(int) == 28) &(df.long.astype(int) == 77)]\n",
    "    lat_min = min(lat_min, df.lat.min())\n",
    "    lat_max = max(lat_max, df.lat.max())\n",
    "    long_min = min(long_min, df.long.min())\n",
    "    long_max = max(long_max, df.long.max())"
   ]
  },
  {
   "cell_type": "code",
   "execution_count": 6,
   "metadata": {},
   "outputs": [],
   "source": [
    "# TODO: Add buffer and consider train-data for range\n",
    "lat_range = {'min': lat_min, 'max': lat_max}\n",
    "long_range = {'min': long_min, 'max': long_max}\n",
    "n_lat_grid = 25\n",
    "n_long_grid = 25"
   ]
  },
  {
   "cell_type": "code",
   "execution_count": null,
   "metadata": {},
   "outputs": [],
   "source": [
    "##Prepare the grid (25*25)"
   ]
  },
  {
   "cell_type": "code",
   "execution_count": 7,
   "metadata": {},
   "outputs": [],
   "source": [
    "df1 = pd.DataFrame()\n",
    "day = []\n",
    "grid_size = []\n",
    "for i in range(1, 31):\n",
    "    if i<10:\n",
    "        datafile = '../PM Datasets/2020-11-' + str(0) + str(i) + '_all.csv'\n",
    "    else:\n",
    "        datafile = '../PM Datasets/2020-11-' + str(i) + '_all.csv'\n",
    "    \n",
    "    df2 = pd.read_csv(datafile)\n",
    "    df2 = df2[['lat', 'long']]\n",
    "    df2.lat = round(round(5*df2.lat.astype(float),2)/5.0,3)\n",
    "    df2.long= round(round(5*df2.long.astype(float),2)/5.0,3)\n",
    "    # Ensuring Delhi region and removing outliers from data\n",
    "    df2 = df2[(df2.lat.astype(int) == 28) &(df2.long.astype(int) == 77)]\n",
    "    df2['lat_grid'] = df2.apply(lambda row: int((n_lat_grid-1)*(row.lat-lat_range['min'])/(lat_range['max']-lat_range['min'])), axis=1 )\n",
    "    df2['long_grid'] = df2.apply(lambda row: int((n_long_grid-1)*(row.long-long_range['min'])/(long_range['max']-long_range['min'])), axis=1 )\n",
    "    df2['lat_grid'] = df2['lat_grid'].astype(float).astype(int)\n",
    "    df2['long_grid'] = df2['long_grid'].astype(float).astype(int)\n",
    "    df2 = df2.groupby(['lat_grid', 'long_grid']).size().reset_index()\n",
    "    day.append(datafile)\n",
    "    grid_size.append(df2.shape[0])\n",
    "    df1 = pd.concat([df1, df2])\n",
    "    df1 = df1.groupby(['lat_grid', 'long_grid']).size().reset_index()\n",
    "    \n",
    "for i in range(1, 32):\n",
    "    if i<10:\n",
    "        datafile = '../PM Datasets/2020-12-' + str(0) + str(i) + '_all.csv'\n",
    "    else:\n",
    "        datafile = '../PM Datasets/2020-12-' + str(i) + '_all.csv'\n",
    "    \n",
    "    df2 = pd.read_csv(datafile)\n",
    "    df2 = df2[['lat', 'long']]\n",
    "    df2.lat = round(round(5*df2.lat.astype(float),2)/5.0,3)\n",
    "    df2.long= round(round(5*df2.long.astype(float),2)/5.0,3)\n",
    "    # Ensuring Delhi region and removing outliers from data\n",
    "    df2 = df2[(df2.lat.astype(int) == 28) &(df2.long.astype(int) == 77)]\n",
    "    df2['lat_grid'] = df2.apply(lambda row: int((n_lat_grid-1)*(row.lat-lat_range['min'])/(lat_range['max']-lat_range['min'])), axis=1 )\n",
    "    df2['long_grid'] = df2.apply(lambda row: int((n_long_grid-1)*(row.long-long_range['min'])/(long_range['max']-long_range['min'])), axis=1 )\n",
    "    df2['lat_grid'] = df2['lat_grid'].astype(float).astype(int)\n",
    "    df2['long_grid'] = df2['long_grid'].astype(float).astype(int)\n",
    "    df2 = df2.groupby(['lat_grid', 'long_grid']).size().reset_index()\n",
    "    day.append(datafile)\n",
    "    grid_size.append(df2.shape[0])\n",
    "    df1 = pd.concat([df1, df2])\n",
    "    df1 = df1.groupby(['lat_grid', 'long_grid']).size().reset_index() \n",
    "    \n",
    "for i in range(1, 31):\n",
    "    if i<10:\n",
    "        datafile = '../PM Datasets/2021-01-' + str(0) + str(i) + '_all.csv'\n",
    "    else:\n",
    "        datafile = '../PM Datasets/2021-01-' + str(i) + '_all.csv'\n",
    "    \n",
    "    df2 = pd.read_csv(datafile)\n",
    "    df2 = df2[['lat', 'long']]\n",
    "    df2.lat = round(round(5*df2.lat.astype(float),2)/5.0,3)\n",
    "    df2.long= round(round(5*df2.long.astype(float),2)/5.0,3)\n",
    "    # Ensuring Delhi region and removing outliers from data\n",
    "    df2 = df2[(df2.lat.astype(int) == 28) &(df2.long.astype(int) == 77)]\n",
    "    df2['lat_grid'] = df2.apply(lambda row: int((n_lat_grid-1)*(row.lat-lat_range['min'])/(lat_range['max']-lat_range['min'])), axis=1 )\n",
    "    df2['long_grid'] = df2.apply(lambda row: int((n_long_grid-1)*(row.long-long_range['min'])/(long_range['max']-long_range['min'])), axis=1 )\n",
    "    df2['lat_grid'] = df2['lat_grid'].astype(float).astype(int)\n",
    "    df2['long_grid'] = df2['long_grid'].astype(float).astype(int)\n",
    "    df2 = df2.groupby(['lat_grid', 'long_grid']).size().reset_index()\n",
    "    day.append(datafile)\n",
    "    grid_size.append(df2.shape[0])\n",
    "    df1 = pd.concat([df1, df2])\n",
    "    df1 = df1.groupby(['lat_grid', 'long_grid']).size().reset_index()"
   ]
  },
  {
   "cell_type": "code",
   "execution_count": 8,
   "metadata": {},
   "outputs": [],
   "source": [
    "#populated grid indices\n",
    "del df1[0]\n",
    "df1 = df1[[\"lat_grid\", \"long_grid\"]]\n",
    "df1.to_csv('grid_points_25.csv')"
   ]
  },
  {
   "cell_type": "code",
   "execution_count": 9,
   "metadata": {},
   "outputs": [
    {
     "data": {
      "text/html": [
       "<div>\n",
       "<style scoped>\n",
       "    .dataframe tbody tr th:only-of-type {\n",
       "        vertical-align: middle;\n",
       "    }\n",
       "\n",
       "    .dataframe tbody tr th {\n",
       "        vertical-align: top;\n",
       "    }\n",
       "\n",
       "    .dataframe thead th {\n",
       "        text-align: right;\n",
       "    }\n",
       "</style>\n",
       "<table border=\"1\" class=\"dataframe\">\n",
       "  <thead>\n",
       "    <tr style=\"text-align: right;\">\n",
       "      <th></th>\n",
       "      <th>day</th>\n",
       "      <th>grid_size</th>\n",
       "    </tr>\n",
       "  </thead>\n",
       "  <tbody>\n",
       "    <tr>\n",
       "      <th>0</th>\n",
       "      <td>../PM Datasets/2020-11-01_all.csv</td>\n",
       "      <td>73</td>\n",
       "    </tr>\n",
       "    <tr>\n",
       "      <th>1</th>\n",
       "      <td>../PM Datasets/2020-11-02_all.csv</td>\n",
       "      <td>96</td>\n",
       "    </tr>\n",
       "    <tr>\n",
       "      <th>2</th>\n",
       "      <td>../PM Datasets/2020-11-03_all.csv</td>\n",
       "      <td>111</td>\n",
       "    </tr>\n",
       "    <tr>\n",
       "      <th>3</th>\n",
       "      <td>../PM Datasets/2020-11-04_all.csv</td>\n",
       "      <td>117</td>\n",
       "    </tr>\n",
       "    <tr>\n",
       "      <th>4</th>\n",
       "      <td>../PM Datasets/2020-11-05_all.csv</td>\n",
       "      <td>80</td>\n",
       "    </tr>\n",
       "    <tr>\n",
       "      <th>...</th>\n",
       "      <td>...</td>\n",
       "      <td>...</td>\n",
       "    </tr>\n",
       "    <tr>\n",
       "      <th>86</th>\n",
       "      <td>../PM Datasets/2021-01-26_all.csv</td>\n",
       "      <td>107</td>\n",
       "    </tr>\n",
       "    <tr>\n",
       "      <th>87</th>\n",
       "      <td>../PM Datasets/2021-01-27_all.csv</td>\n",
       "      <td>148</td>\n",
       "    </tr>\n",
       "    <tr>\n",
       "      <th>88</th>\n",
       "      <td>../PM Datasets/2021-01-28_all.csv</td>\n",
       "      <td>132</td>\n",
       "    </tr>\n",
       "    <tr>\n",
       "      <th>89</th>\n",
       "      <td>../PM Datasets/2021-01-29_all.csv</td>\n",
       "      <td>148</td>\n",
       "    </tr>\n",
       "    <tr>\n",
       "      <th>90</th>\n",
       "      <td>../PM Datasets/2021-01-30_all.csv</td>\n",
       "      <td>147</td>\n",
       "    </tr>\n",
       "  </tbody>\n",
       "</table>\n",
       "<p>91 rows × 2 columns</p>\n",
       "</div>"
      ],
      "text/plain": [
       "                                  day  grid_size\n",
       "0   ../PM Datasets/2020-11-01_all.csv         73\n",
       "1   ../PM Datasets/2020-11-02_all.csv         96\n",
       "2   ../PM Datasets/2020-11-03_all.csv        111\n",
       "3   ../PM Datasets/2020-11-04_all.csv        117\n",
       "4   ../PM Datasets/2020-11-05_all.csv         80\n",
       "..                                ...        ...\n",
       "86  ../PM Datasets/2021-01-26_all.csv        107\n",
       "87  ../PM Datasets/2021-01-27_all.csv        148\n",
       "88  ../PM Datasets/2021-01-28_all.csv        132\n",
       "89  ../PM Datasets/2021-01-29_all.csv        148\n",
       "90  ../PM Datasets/2021-01-30_all.csv        147\n",
       "\n",
       "[91 rows x 2 columns]"
      ]
     },
     "execution_count": 9,
     "metadata": {},
     "output_type": "execute_result"
    }
   ],
   "source": [
    "#number of populates grid points on each day\n",
    "data = pd.DataFrame()\n",
    "data['day'] = day\n",
    "data['grid_size'] = grid_size\n",
    "data"
   ]
  },
  {
   "cell_type": "code",
   "execution_count": 5,
   "metadata": {},
   "outputs": [
    {
     "data": {
      "image/png": "[encoded data removed]",
      "text/plain": [
       "<Figure size 360x360 with 1 Axes>"
      ]
     },
     "metadata": {
      "needs_background": "light"
     },
     "output_type": "display_data"
    }
   ],
   "source": [
    "import matplotlib.pyplot as plt\n",
    "import numpy as np\n",
    "import pandas as pd\n",
    "df1 = pd.read_csv('grid_points_25.csv')\n",
    "x = np.array(df1['lat_grid'])\n",
    "y = np.array(df1['long_grid'])\n",
    "plt.figure(figsize=(5, 5))\n",
    "plt.scatter(x, y)\n",
    "plt.xlabel('Latitude')\n",
    "plt.ylabel('Longitude')\n",
    "#ax1.set_ylim(bottom=-1.5,top=1.5)\n",
    "plt.title('Populated grids covering Delhi')\n",
    "# Turn on the minor TICKS, which are required for the minor GRID\n",
    "plt.minorticks_on()\n",
    "\n",
    "# Customize the major grid\n",
    "plt.grid(which='major', linestyle='-', linewidth='0.5', color='red')\n",
    "# Customize the minor grid\n",
    "plt.grid(which='minor', linestyle=':', linewidth='0.5', color='black')\n",
    "plt.savefig('grid.png')\n",
    "plt.show()"
   ]
  },
  {
   "cell_type": "code",
   "execution_count": null,
   "metadata": {},
   "outputs": [],
   "source": []
  },
  {
   "cell_type": "code",
   "execution_count": null,
   "metadata": {},
   "outputs": [],
   "source": []
  },
  {
   "cell_type": "markdown",
   "metadata": {
    "tags": []
   },
   "source": [
    "# Adjacency matrix"
   ]
  },
  {
   "cell_type": "code",
   "execution_count": 7,
   "metadata": {},
   "outputs": [
    {
     "name": "stdout",
     "output_type": "stream",
     "text": [
      "(270, 270)\n",
      "(270, 270)\n"
     ]
    }
   ],
   "source": [
    "from scipy.spatial.distance import pdist, euclidean, squareform \n",
    "lat_range = {'min': 28.486, 'max': 28.72}\n",
    "long_range = {'min': 77.1, 'max': 77.32}\n",
    "n_lat_grid = 25\n",
    "n_long_grid = 25\n",
    "\n",
    "#adjacency matrix\n",
    "grid_points = pd.read_csv('Data/grid_points_25.csv')\n",
    "n_grid_points = grid_points.shape[0] \n",
    "X = grid_points[[\"lat_grid\", \"long_grid\"]].to_numpy()\n",
    "grid_points = grid_points.pivot_table(index=['lat_grid', 'long_grid'])\n",
    "grid_points_indices = grid_points.index\n",
    "\n",
    "# adjacency matrix will be 1 for the nerighbouring 8 grids and the self grid, 0 otherwise\n",
    "f = lambda u, v: max(abs(u-v))<=1\n",
    "adj = squareform(pdist(X, f))\n",
    "eye = np.identity(n_grid_points)\n",
    "adj = adj+eye\n",
    "print(adj.shape) \n",
    "np.savetxt('adj_near8.txt', adj, fmt='%d')\n",
    "adj = np.loadtxt('adj_near8.txt', dtype=int)\n",
    "\n",
    "# adjacency matrix will be 1 for the first(acc to eucledian distance) nerighbouring 8 grids that have pollution values and the self grid, 0 otherwise\n",
    "adj = []\n",
    "for u in X:\n",
    "    distance_u = [euclidean(u, vertex) for vertex in X]\n",
    "    first_9_neighbours_idx = np.argsort(distance_u)[:9]\n",
    "    adj_u = [1 if idx in first_9_neighbours_idx else 0 for idx in range(0, n_grid_points)]\n",
    "    adj.append(adj_u)\n",
    "adj = np.array(adj)\n",
    "print(adj.shape)\n",
    "np.savetxt('adj_first8.txt', adj, fmt='%d')\n",
    "adj = np.loadtxt('adj_first8.txt', dtype=int)"
   ]
  },
  {
   "cell_type": "code",
   "execution_count": null,
   "metadata": {},
   "outputs": [],
   "source": []
  },
  {
   "cell_type": "code",
   "execution_count": null,
   "metadata": {},
   "outputs": [],
   "source": []
  },
  {
   "cell_type": "markdown",
   "metadata": {
    "tags": []
   },
   "source": [
    "# Data Modelling"
   ]
  },
  {
   "cell_type": "code",
   "execution_count": 9,
   "metadata": {},
   "outputs": [],
   "source": [
    "def data_preparation(datafile):\n",
    "    lat_range = {'min': 28.486, 'max': 28.72}\n",
    "    long_range = {'min': 77.1, 'max': 77.32}\n",
    "    n_lat_grid = 25\n",
    "    n_long_grid = 25\n",
    "    \n",
    "    #Put the file location\n",
    "    df = pd.read_csv(datafile)\n",
    "    #type casting\n",
    "    df.pm1_0 = df.pm1_0.astype(float)\n",
    "    df.pm2_5 = df.pm2_5.astype(float)\n",
    "    df.pm10 = df.pm10.astype(float)\n",
    "    df.lat = round(round(5*df.lat.astype(float),2)/5.0,3)\n",
    "    df.long= round(round(5*df.long.astype(float),2)/5.0,3)\n",
    "\n",
    "    # Ensuring Delhi region and removing outliers from data\n",
    "    df = df[(df.lat.astype(int) == 28) &(df.long.astype(int) == 77)]\n",
    "    df = df[(df.pm1_0<=1500) & (df.pm2_5<=1500) & (df.pm10<=1500) & (df.pm1_0>=20) & (df.pm2_5>=30) & (df.pm10>=30)]\n",
    "    #df = df[(df.humidity<=60)&(df.humidity>=7)]\n",
    "\n",
    "    df['lat_grid'] = df.apply(lambda row: int((n_lat_grid-1)*(row.lat-lat_range['min'])/(lat_range['max']-lat_range['min'])), axis=1 )\n",
    "    df['long_grid'] = df.apply(lambda row: int((n_long_grid-1)*(row.long-long_range['min'])/(long_range['max']-long_range['min'])), axis=1 )\n",
    "    df['lat_grid'] = df['lat_grid'].astype(float).astype(int)\n",
    "    df['long_grid'] = df['long_grid'].astype(float).astype(int)\n",
    "\n",
    "    # rounding @180min\n",
    "    df.dateTime = pd.to_datetime(df.dateTime)\n",
    "    df.dateTime = df.dateTime.dt.round('180min')\n",
    "    # use time as a feature as well\n",
    "    df.dateTime = df.dateTime.dt.hour*60 + df.dateTime.dt.minute\n",
    "    #taking only data from 6Am-12midnight\n",
    "    df = df[(df.dateTime>=360)] \n",
    "    df = df.pivot_table(index=['lat_grid','long_grid'], columns='dateTime', aggfunc='mean')['pm2_5']\n",
    "    df = df.fillna(0)\n",
    "    return df"
   ]
  },
  {
   "cell_type": "code",
   "execution_count": null,
   "metadata": {},
   "outputs": [],
   "source": [
    "# df = data_preparation('PM Datasets/2020-12-01_all.csv')\n",
    "# for i in range(2, 8):\n",
    "#     datafile = 'PM Datasets/2020-12-'\n",
    "#     datafile +=  str(0) + str(i) if i<10 else str(i)\n",
    "#     datafile +=  '_all.csv'\n",
    "#     df1 = data_preparation(datafile)\n",
    "#     df = pd.concat([df,df1], axis=1)\n",
    "#     df = df.fillna(0)\n",
    "# df.to_csv('Dummy_data_1week_7Dec.csv')"
   ]
  },
  {
   "cell_type": "code",
   "execution_count": null,
   "metadata": {},
   "outputs": [],
   "source": [
    "# df = pd.read_csv('Dummy_data_1week_7Dec.csv')\n",
    "# df = df.set_index(['lat_grid','long_grid'])"
   ]
  },
  {
   "cell_type": "code",
   "execution_count": 11,
   "metadata": {},
   "outputs": [],
   "source": [
    "# !pip install missingno"
   ]
  },
  {
   "cell_type": "code",
   "execution_count": null,
   "metadata": {},
   "outputs": [],
   "source": [
    "# import missingno as msno\n",
    "# import matplotlib.pyplot as plt\n",
    "# df = data_preparation('PM Datasets/2021-01-23_all.csv')\n",
    "# msno.bar(df, figsize=(12, 6), fontsize=12, color='steelblue')"
   ]
  },
  {
   "cell_type": "markdown",
   "metadata": {
    "jp-MarkdownHeadingCollapsed": true,
    "tags": []
   },
   "source": [
    "# Creating dummy data files for test evaluations\n",
    "<!-- file name -> test date with previous 6 days as training data -->\n"
   ]
  },
  {
   "cell_type": "code",
   "execution_count": 9,
   "metadata": {},
   "outputs": [],
   "source": [
    "df = data_preparation('../PM Datasets/2020-11-09_all.csv')\n",
    "for i in range(10, 16):\n",
    "    datafile = '../PM Datasets/2020-11-'\n",
    "    datafile +=  str(0) + str(i) if i<10 else str(i)\n",
    "    datafile +=  '_all.csv'\n",
    "    df1 = data_preparation(datafile)\n",
    "    df = pd.concat([df,df1], axis=1)\n",
    "    df = df.fillna(0)\n",
    "df.to_csv('Dummy_data_1week_15Nov.csv')"
   ]
  },
  {
   "cell_type": "code",
   "execution_count": 10,
   "metadata": {},
   "outputs": [],
   "source": [
    "df = data_preparation('../PM Datasets/2020-11-14_all.csv')\n",
    "for i in range(15, 21):\n",
    "    datafile = '../PM Datasets/2020-11-'\n",
    "    datafile +=  str(0) + str(i) if i<10 else str(i)\n",
    "    datafile +=  '_all.csv'\n",
    "    df1 = data_preparation(datafile)\n",
    "    df = pd.concat([df,df1], axis=1)\n",
    "    df = df.fillna(0)\n",
    "df.to_csv('Dummy_data_1week_20Nov.csv')"
   ]
  },
  {
   "cell_type": "code",
   "execution_count": 11,
   "metadata": {},
   "outputs": [],
   "source": [
    "df = data_preparation('../PM Datasets/2020-11-22_all.csv')\n",
    "for i in range(23, 29):\n",
    "    datafile = '../PM Datasets/2020-11-'\n",
    "    datafile +=  str(0) + str(i) if i<10 else str(i)\n",
    "    datafile +=  '_all.csv'\n",
    "    df1 = data_preparation(datafile)\n",
    "    df = pd.concat([df,df1], axis=1)\n",
    "    df = df.fillna(0)\n",
    "df.to_csv('Dummy_data_1week_28Nov.csv')"
   ]
  },
  {
   "cell_type": "code",
   "execution_count": 12,
   "metadata": {},
   "outputs": [],
   "source": [
    "df = data_preparation('../PM Datasets/2020-12-01_all.csv')\n",
    "for i in range(2, 8):\n",
    "    datafile = '../PM Datasets/2020-12-'\n",
    "    datafile +=  str(0) + str(i) if i<10 else str(i)\n",
    "    datafile +=  '_all.csv'\n",
    "    df1 = data_preparation(datafile)\n",
    "    df = pd.concat([df,df1], axis=1)\n",
    "    df = df.fillna(0)\n",
    "df.to_csv('Dummy_data_1week_7Dec.csv')"
   ]
  },
  {
   "cell_type": "code",
   "execution_count": 13,
   "metadata": {},
   "outputs": [],
   "source": [
    "df = data_preparation('../PM Datasets/2020-12-09_all.csv')\n",
    "for i in range(10, 16):\n",
    "    datafile = '../PM Datasets/2020-12-'\n",
    "    datafile +=  str(0) + str(i) if i<10 else str(i)\n",
    "    datafile +=  '_all.csv'\n",
    "    df1 = data_preparation(datafile)\n",
    "    df = pd.concat([df,df1], axis=1)\n",
    "    df = df.fillna(0)\n",
    "df.to_csv('Dummy_data_1week_15Dec.csv')"
   ]
  },
  {
   "cell_type": "code",
   "execution_count": 14,
   "metadata": {},
   "outputs": [],
   "source": [
    "df = data_preparation('../PM Datasets/2021-01-01_all.csv')\n",
    "for i in range(2, 8):\n",
    "    datafile = '../PM Datasets/2021-01-'\n",
    "    datafile +=  str(0) + str(i) if i<10 else str(i)\n",
    "    datafile +=  '_all.csv'\n",
    "    df1 = data_preparation(datafile)\n",
    "    df = pd.concat([df,df1], axis=1)\n",
    "    df = df.fillna(0)\n",
    "df.to_csv('Dummy_data_1week_7Jan.csv') \n",
    "\n",
    "df = data_preparation('../PM Datasets/2021-01-04_all.csv')\n",
    "for i in range(5, 11):\n",
    "    datafile = '../PM Datasets/2021-01-'\n",
    "    datafile +=  str(0) + str(i) if i<10 else str(i)\n",
    "    datafile +=  '_all.csv'\n",
    "    df1 = data_preparation(datafile)\n",
    "    df = pd.concat([df,df1], axis=1)\n",
    "    df = df.fillna(0)\n",
    "df.to_csv('Dummy_data_1week_10Jan.csv')"
   ]
  },
  {
   "cell_type": "code",
   "execution_count": 16,
   "metadata": {},
   "outputs": [],
   "source": [
    "df = data_preparation('../PM Datasets/2021-01-18_all.csv')\n",
    "for i in range(19, 25):\n",
    "    datafile = '../PM Datasets/2021-01-'\n",
    "    datafile +=  str(0) + str(i) if i<10 else str(i)\n",
    "    datafile +=  '_all.csv'\n",
    "    df1 = data_preparation(datafile)\n",
    "    df = pd.concat([df,df1], axis=1)\n",
    "    df = df.fillna(0)\n",
    "df.to_csv('Dummy_data_1week_24Jan.csv')"
   ]
  },
  {
   "cell_type": "code",
   "execution_count": null,
   "metadata": {},
   "outputs": [],
   "source": []
  },
  {
   "cell_type": "code",
   "execution_count": null,
   "metadata": {},
   "outputs": [],
   "source": []
  },
  {
   "cell_type": "code",
   "execution_count": null,
   "metadata": {},
   "outputs": [],
   "source": []
  }
 ],
 "metadata": {
  "kernelspec": {
   "display_name": "Python (conda3.6)",
   "language": "python",
   "name": "conda3.6"
  },
  "language_info": {
   "codemirror_mode": {
    "name": "ipython",
    "version": 3
   },
   "file_extension": ".py",
   "mimetype": "text/x-python",
   "name": "python",
   "nbconvert_exporter": "python",
   "pygments_lexer": "ipython3",
   "version": "3.6.10"
  }
 },
 "nbformat": 4,
 "nbformat_minor": 5
}
