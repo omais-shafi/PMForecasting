{
 "cells": [
  {
   "cell_type": "code",
   "execution_count": 1,
   "metadata": {
    "id": "8HoBgkeJsFQf"
   },
   "outputs": [],
   "source": [
    "# !pip install --quiet optuna\n",
    "# !pip install --quiet stellargraph"
   ]
  },
  {
   "cell_type": "code",
   "execution_count": 2,
   "metadata": {
    "colab": {
     "base_uri": "https://localhost:8080/"
    },
    "id": "nygzV4y4D0qo",
    "outputId": "50c29833-3f32-405d-b4b1-09c4437dfd97"
   },
   "outputs": [
    {
     "name": "stderr",
     "output_type": "stream",
     "text": [
      "/home/mohit/anaconda3/envs/btp/lib/python3.8/site-packages/tqdm/auto.py:22: TqdmWarning: IProgress not found. Please update jupyter and ipywidgets. See https://ipywidgets.readthedocs.io/en/stable/user_install.html\n",
      "  from .autonotebook import tqdm as notebook_tqdm\n"
     ]
    }
   ],
   "source": [
    "import os\n",
    "import optuna\n",
    "from optuna.trial import TrialState"
   ]
  },
  {
   "cell_type": "code",
   "execution_count": 3,
   "metadata": {
    "id": "d1fxr-4ZWaWQ"
   },
   "outputs": [
    {
     "data": {
      "text/plain": [
       "device(type='cuda')"
      ]
     },
     "execution_count": 3,
     "metadata": {},
     "output_type": "execute_result"
    }
   ],
   "source": [
    "import pandas as pd\n",
    "import numpy as np\n",
    "import torch\n",
    "import random\n",
    "import math\n",
    "import torch.optim as optim\n",
    "device = torch.device('cuda' if torch.cuda.is_available() else 'cpu')\n",
    "device"
   ]
  },
  {
   "cell_type": "code",
   "execution_count": 4,
   "metadata": {},
   "outputs": [],
   "source": [
    "from torch.utils.data import DataLoader, TensorDataset"
   ]
  },
  {
   "cell_type": "markdown",
   "metadata": {
    "id": "w8v-XuEdwYtu",
    "jp-MarkdownHeadingCollapsed": true,
    "tags": []
   },
   "source": [
    "# Data prep"
   ]
  },
  {
   "cell_type": "code",
   "execution_count": 5,
   "metadata": {
    "colab": {
     "base_uri": "https://localhost:8080/"
    },
    "id": "027d9ea6",
    "outputId": "2997026b-2490-4b39-943b-93ace10daae3"
   },
   "outputs": [
    {
     "name": "stdout",
     "output_type": "stream",
     "text": [
      "(270, 270)\n"
     ]
    }
   ],
   "source": [
    "from scipy.spatial.distance import pdist, squareform\n",
    "\n",
    "lat_range = {'min': 28.486, 'max': 28.72}\n",
    "long_range = {'min': 77.1, 'max': 77.32}\n",
    "n_lat_grid = 25\n",
    "n_long_grid = 25\n",
    "seq_len = 3\n",
    "pre_len = 1\n",
    "\n",
    "#adjacency matrix\n",
    "grid_points = pd.read_csv('../Data/grid_points_25.csv')\n",
    "n_grid_points = grid_points.shape[0] \n",
    "X = grid_points[[\"lat_grid\", \"long_grid\"]].to_numpy()\n",
    "f = lambda u, v: max(abs(u-v))<=1\n",
    "adj = squareform(pdist(X, f))\n",
    "eye = np.identity(n_grid_points)\n",
    "adj = adj+eye\n",
    "print(adj.shape) \n",
    "\n",
    "grid_points = grid_points.pivot_table(index=['lat_grid', 'long_grid'])\n",
    "grid_points_indices = grid_points.index"
   ]
  },
  {
   "cell_type": "code",
   "execution_count": 6,
   "metadata": {
    "id": "3119cb60"
   },
   "outputs": [],
   "source": [
    "def data_preparation(datafile):\n",
    "    #Put the file location\n",
    "    df = pd.read_csv(datafile)\n",
    "    #type casting\n",
    "    df.pm1_0 = df.pm1_0.astype(float)\n",
    "    df.pm2_5 = df.pm2_5.astype(float)\n",
    "    df.pm10 = df.pm10.astype(float)\n",
    "    df.lat = round(round(5*df.lat.astype(float),2)/5.0,3)\n",
    "    df.long= round(round(5*df.long.astype(float),2)/5.0,3)\n",
    "\n",
    "    # Ensuring Delhi region and removing outliers from data\n",
    "    df = df[(df.lat.astype(int) == 28) &(df.long.astype(int) == 77)]\n",
    "    df = df[(df.pm1_0<=1500) & (df.pm2_5<=1500) & (df.pm10<=1500) & (df.pm1_0>=20) & (df.pm2_5>=30) & (df.pm10>=30)]\n",
    "    #df = df[(df.humidity<=60)&(df.humidity>=7)]\n",
    "    # only PM2_5\n",
    "    df = df[['dateTime','lat','long','pm2_5']]\n",
    "\n",
    "    df['lat_grid'] = df.apply(lambda row: int((n_lat_grid-1)*(row.lat-lat_range['min'])/(lat_range['max']-lat_range['min'])), axis=1 )\n",
    "    df['long_grid'] = df.apply(lambda row: int((n_long_grid-1)*(row.long-long_range['min'])/(long_range['max']-long_range['min'])), axis=1 )\n",
    "    df['lat_grid'] = df['lat_grid'].astype(float).astype(int)\n",
    "    df['long_grid'] = df['long_grid'].astype(float).astype(int)\n",
    "\n",
    "    # rounding @120min\n",
    "    df.dateTime = pd.to_datetime(df.dateTime)\n",
    "    df.dateTime = df.dateTime.dt.round('180min')\n",
    "    # use time as a feature as well\n",
    "    df.dateTime = df.dateTime.dt.hour*60 + df.dateTime.dt.minute\n",
    "    df = df[(df.dateTime>=360)] \n",
    "\n",
    "    # only PM2_5\n",
    "#     df = df[['dateTime','lat_grid','long_grid','pm2_5\n",
    "    df = df.pivot_table(index=['lat_grid','long_grid'], columns='dateTime', aggfunc='mean')['pm2_5']\n",
    "    columns = df.columns\n",
    "#     df = df[columns[2:]]\n",
    "    df = df.fillna(0)\n",
    "    \n",
    "    return df"
   ]
  },
  {
   "cell_type": "code",
   "execution_count": 7,
   "metadata": {},
   "outputs": [],
   "source": [
    "df = data_preparation('../PM Datasets/2020-12-01_all.csv')"
   ]
  },
  {
   "cell_type": "code",
   "execution_count": 8,
   "metadata": {
    "id": "862f1040"
   },
   "outputs": [],
   "source": [
    "def train_test_split(df, grid_points_indices, train_size):\n",
    "    # random.seed(10)\n",
    "    time_len = df.shape[1]\n",
    "    train_size = int(time_len * train_size) \n",
    "    train_data = df.iloc[:, :train_size]\n",
    "    train_data = train_data.reindex(grid_points_indices,fill_value=0)\n",
    "    train_data = np.array(train_data)\n",
    "    test_data = df.iloc[:, train_size:]\n",
    "    test_data = test_data.reindex(grid_points_indices,fill_value=0)\n",
    "    test_data = np.array(test_data)\n",
    "    return train_data, test_data"
   ]
  },
  {
   "cell_type": "code",
   "execution_count": 9,
   "metadata": {
    "id": "71d9f9ca"
   },
   "outputs": [],
   "source": [
    "def scale_data(train_data, test_data):\n",
    "    max_pm = train_data.max()\n",
    "    min_pm = train_data.min()\n",
    "    train_scaled = (train_data - min_pm) / (max_pm - min_pm)\n",
    "    test_scaled = (test_data - min_pm) / (max_pm - min_pm)\n",
    "    return train_scaled, test_scaled"
   ]
  },
  {
   "cell_type": "code",
   "execution_count": 10,
   "metadata": {
    "id": "216e54f0"
   },
   "outputs": [],
   "source": [
    "def sequence_data_preparation(seq_len, pre_len, train_data, test_data):\n",
    "    trainX, trainY, testX, testY = [], [], [], []\n",
    "\n",
    "    for i in range(train_data.shape[1] - int(seq_len + pre_len - 1)):\n",
    "        a = train_data[:, i : i + seq_len + pre_len]\n",
    "        trainX.append(a[:, :seq_len])\n",
    "        trainY.append(a[:, -1])\n",
    "\n",
    "    for i in range(test_data.shape[1] - int(seq_len + pre_len - 1)):\n",
    "        b = test_data[:, i : i + seq_len + pre_len]\n",
    "        testX.append(b[:, :seq_len])\n",
    "        testY.append(b[:, -1])\n",
    "\n",
    "    trainX = np.array(trainX)\n",
    "    trainY = np.array(trainY)\n",
    "    testX = np.array(testX)\n",
    "    testY = np.array(testY)\n",
    "\n",
    "    return trainX, trainY, testX, testY"
   ]
  },
  {
   "cell_type": "code",
   "execution_count": 11,
   "metadata": {
    "id": "eb07fa73"
   },
   "outputs": [],
   "source": [
    "def prepare_train_data(df, grid_points_indices, train_size = 0.8):\n",
    "    train_data, test_data = train_test_split(df, grid_points_indices, train_size)\n",
    "    print(\"Train data: \", train_data.shape)\n",
    "    print(\"Test data: \", test_data.shape)\n",
    "    train_scaled, test_scaled = scale_data(train_data, test_data)\n",
    "    trainX, trainY, testX, testY = sequence_data_preparation(\n",
    "        seq_len, pre_len, train_scaled, test_scaled\n",
    "    )\n",
    "    print(trainX.shape)\n",
    "    print(trainY.shape)\n",
    "    print(testX.shape)\n",
    "    print(testY.shape)\n",
    "    return trainX, trainY, testX, testY, train_data"
   ]
  },
  {
   "cell_type": "markdown",
   "metadata": {
    "jp-MarkdownHeadingCollapsed": true,
    "tags": []
   },
   "source": [
    "# Training"
   ]
  },
  {
   "cell_type": "code",
   "execution_count": 12,
   "metadata": {},
   "outputs": [],
   "source": [
    "def my_loss(y_true, y_pred):\n",
    "    loss = torch.mean((y_pred[y_true>0]-y_true[y_true>0])**2)\n",
    "    return loss"
   ]
  },
  {
   "cell_type": "code",
   "execution_count": 13,
   "metadata": {},
   "outputs": [],
   "source": [
    "def eval_model(model, testX, testY):\n",
    "    output = model(torch.Tensor(testX))\n",
    "    ## actual train and test values\n",
    "    ## Rescale values\n",
    "    max_pm = train_data.max()\n",
    "    min_pm = train_data.min()\n",
    "    test_true = np.array((testY * (max_pm - min_pm)) + min_pm)\n",
    "    ## Rescale model predicted values\n",
    "    test_output = np.array((output.detach().numpy() * (max_pm - min_pm)) + min_pm)\n",
    "    # # Masked predicted values\\\n",
    "    mask_test = torch.sign(torch.Tensor(testY))\n",
    "    test_output = torch.Tensor(test_output)*(mask_test)\n",
    "    test_mse = my_loss(torch.Tensor(test_true), torch.Tensor(test_output))\n",
    "    test_rmse = torch.sqrt(test_mse)\n",
    "    print(\"Test RMSE: \", test_rmse)\n",
    "    return test_output, test_true"
   ]
  },
  {
   "cell_type": "code",
   "execution_count": 14,
   "metadata": {},
   "outputs": [],
   "source": [
    "def get_out_df(train_rmse, validation_rmse):\n",
    "    max_pm = train_data.max()\n",
    "    min_pm = train_data.min()\n",
    "    scale_factor = max_pm - min_pm\n",
    "    df = pd.DataFrame()\n",
    "    df['Mean Train loss'] = [sum(train_rmse)*scale_factor/len(train_rmse)]\n",
    "    df['Last Train loss'] = [train_rmse[-1]*scale_factor]\n",
    "    df['Mean Test loss'] = [sum(validation_rmse)*scale_factor/len(validation_rmse)]\n",
    "    df['Last Test loss'] = [validation_rmse[-1]*scale_factor]\n",
    "    # df['Train time callbacks'] = [sum(cb.logs)]\n",
    "    return df"
   ]
  },
  {
   "cell_type": "code",
   "execution_count": 15,
   "metadata": {},
   "outputs": [],
   "source": [
    "def plot_predictions(test_output, test_true, save_path=None):\n",
    "    ##all test result visualization\n",
    "    fig = plt.figure(figsize=(15, 8))\n",
    "    # test_output, test_true = eval(model, testX, testY )\n",
    "    a_pred = test_output[test_true>0]\n",
    "    a_true = test_true[test_true>0]\n",
    "    plt.plot(a_pred, \"r-\", label=\"prediction\")\n",
    "    plt.plot(a_true, \"b-\", label=\"true\")\n",
    "    plt.xlabel(\"test points\")\n",
    "    plt.ylabel(\"PM2.5\")\n",
    "    plt.legend(loc=\"best\", fontsize=10)\n",
    "    if save_path is not None:\n",
    "        plt.savefig(save_path)\n",
    "    else:\n",
    "        plt.show()"
   ]
  },
  {
   "cell_type": "markdown",
   "metadata": {
    "id": "0cXhHSBqSnPO",
    "tags": []
   },
   "source": [
    "# Initialize The Model"
   ]
  },
  {
   "cell_type": "code",
   "execution_count": 16,
   "metadata": {
    "id": "m-87DwIujc5w"
   },
   "outputs": [],
   "source": [
    "df = data_preparation('../dataset/Dec/2020-12-1_all.csv')\n",
    "for i in range(2, 8):\n",
    "    datafile = '../dataset/Dec/2020-12-'\n",
    "    datafile +=  str(i) if i<10 else str(i)\n",
    "    datafile +=  '_all.csv'\n",
    "    df1 = data_preparation(datafile)\n",
    "    df = pd.concat([df,df1], axis=1)\n",
    "    df = df.fillna(0)"
   ]
  },
  {
   "cell_type": "code",
   "execution_count": 17,
   "metadata": {
    "colab": {
     "base_uri": "https://localhost:8080/"
    },
    "id": "K-w7y9wAx_45",
    "outputId": "b6fb3286-0f45-4e57-facd-bca95c77d5bd"
   },
   "outputs": [
    {
     "name": "stdout",
     "output_type": "stream",
     "text": [
      "Train data:  (270, 36)\n",
      "Test data:  (270, 6)\n",
      "(33, 270, 3)\n",
      "(33, 270)\n",
      "(3, 270, 3)\n",
      "(3, 270)\n"
     ]
    }
   ],
   "source": [
    "trainX, trainY, testX, testY, train_data = prepare_train_data(df, grid_points_indices, train_size = 0.86)"
   ]
  },
  {
   "cell_type": "code",
   "execution_count": 18,
   "metadata": {},
   "outputs": [
    {
     "name": "stdout",
     "output_type": "stream",
     "text": [
      "(33, 270, 3) (33, 270) (3, 270, 3) (3, 270)\n"
     ]
    }
   ],
   "source": [
    "print(trainX.shape, trainY.shape, testX.shape, testY.shape)"
   ]
  },
  {
   "cell_type": "code",
   "execution_count": 19,
   "metadata": {},
   "outputs": [
    {
     "data": {
      "text/plain": [
       "((270, 3), (270,), (33, 270, 3), (33, 270))"
      ]
     },
     "execution_count": 19,
     "metadata": {},
     "output_type": "execute_result"
    }
   ],
   "source": [
    "trainX[0].shape, trainY[0].shape, trainX.shape, trainY.shape"
   ]
  },
  {
   "cell_type": "code",
   "execution_count": 20,
   "metadata": {},
   "outputs": [
    {
     "name": "stderr",
     "output_type": "stream",
     "text": [
      "2022-09-14 11:22:18.584133: I tensorflow/core/platform/cpu_feature_guard.cc:151] This TensorFlow binary is optimized with oneAPI Deep Neural Network Library (oneDNN) to use the following CPU instructions in performance-critical operations:  SSE4.1 SSE4.2 AVX AVX2 FMA\n",
      "To enable them in other operations, rebuild TensorFlow with the appropriate compiler flags.\n",
      "2022-09-14 11:22:18.585108: I tensorflow/core/common_runtime/process_util.cc:146] Creating new thread pool with default inter op setting: 2. Tune using inter_op_parallelism_threads for best performance.\n"
     ]
    }
   ],
   "source": [
    "from gcn_lstm_gpu import GCN_LSTM\n",
    "import numpy as np\n",
    "import torch\n",
    "adj = adj.astype(np.float32)\n",
    "model=GCN_LSTM(torch.from_numpy(adj), grid_size = 270, seq_len = 3, gc_sizes = [4, 4], lstm_sizes = [4])\n",
    "model = model.to(device)\n",
    "optimizer = optim.Adam(model.parameters(), lr=0.05, betas=(0.9, 0.999), eps=1e-05)"
   ]
  },
  {
   "cell_type": "code",
   "execution_count": 21,
   "metadata": {},
   "outputs": [
    {
     "name": "stdout",
     "output_type": "stream",
     "text": [
      "<class 'torch.nn.parameter.Parameter'> torch.Size([270, 4])\n",
      "<class 'torch.nn.parameter.Parameter'> torch.Size([270])\n"
     ]
    }
   ],
   "source": [
    "for param in model.parameters():\n",
    "    print(type(param), param.size())"
   ]
  },
  {
   "cell_type": "code",
   "execution_count": 22,
   "metadata": {},
   "outputs": [],
   "source": [
    "\n",
    "def train_model(model, optimizer, trainX, trainY, testX, testY, n_epochs, batch_size):\n",
    "    # convert all data to tensor\n",
    "    trainX = torch.from_numpy(trainX.astype(np.float32)).to(device)\n",
    "    trainY = torch.from_numpy(trainY.astype(np.float32)).to(device)\n",
    "    testX = torch.from_numpy(testX.astype(np.float32)).to(device)\n",
    "    testY = torch.from_numpy(testY.astype(np.float32)).to(device)\n",
    "    \n",
    "    trainDs = TensorDataset(trainX, trainY)\n",
    "    testDs = TensorDataset(testX, testY)\n",
    "    trainLoader = DataLoader(trainDs, batch_size=batch_size, shuffle=True)\n",
    "    testLoader = DataLoader(testDs, batch_size=batch_size, shuffle=False)\n",
    "\n",
    "    train_mse, train_rmse, validation_mse, validation_rmse=[], [], [], []\n",
    "    for epoch in range(n_epochs):\n",
    "        train_loss = 0.0\n",
    "        valid_loss = 0.0\n",
    "        for _, (inputs, targets) in enumerate(trainLoader):\n",
    "            model.train()\n",
    "            outputs = model(inputs)\n",
    "            loss = my_loss(outputs, targets)\n",
    "            optimizer.zero_grad()\n",
    "            loss.backward()\n",
    "            optimizer.step()\n",
    "            train_loss += loss.item()*len(inputs)\n",
    "        \n",
    "        with torch.no_grad():\n",
    "            for _, (inputs, targets) in enumerate(testLoader):\n",
    "                model.eval()\n",
    "                outputs = model(inputs)\n",
    "                loss = my_loss(outputs, targets)\n",
    "                valid_loss += loss.item()*len(inputs)\n",
    "\n",
    "        train_loss /= len(trainX)\n",
    "        valid_loss /= len(testX)\n",
    "        train_mse.append(train_loss)\n",
    "        validation_mse.append(valid_loss)\n",
    "        train_rmse.append(math.sqrt(train_loss))\n",
    "        validation_rmse.append(math.sqrt(valid_loss))\n",
    "\n",
    "        if((epoch+1)%10==0):\n",
    "            print(f'Epoch {epoch+1} \\t Train Loss: ', {train_loss}, 'Valid Loss: ', {valid_loss})\n",
    "\n",
    "    return train_mse, train_rmse, validation_mse, validation_rmse"
   ]
  },
  {
   "cell_type": "code",
   "execution_count": 23,
   "metadata": {},
   "outputs": [
    {
     "name": "stdout",
     "output_type": "stream",
     "text": [
      "Epoch 10 \t Train Loss:  {0.0209218387238004} Valid Loss:  {0.014028700068593025}\n",
      "Epoch 20 \t Train Loss:  {0.016539232777149387} Valid Loss:  {0.013162948191165924}\n",
      "Epoch 30 \t Train Loss:  {0.016191471396296314} Valid Loss:  {0.012912632897496223}\n",
      "Epoch 40 \t Train Loss:  {0.015062144167269722} Valid Loss:  {0.012641048058867455}\n",
      "Epoch 50 \t Train Loss:  {0.014856036526687218} Valid Loss:  {0.012649820186197758}\n",
      "Epoch 60 \t Train Loss:  {0.015159583086091461} Valid Loss:  {0.012676592916250229}\n",
      "Epoch 70 \t Train Loss:  {0.014766555646377983} Valid Loss:  {0.01264781504869461}\n",
      "Epoch 80 \t Train Loss:  {0.014456766798640743} Valid Loss:  {0.012322380207479}\n",
      "Epoch 90 \t Train Loss:  {0.014619499134520689} Valid Loss:  {0.01257316954433918}\n",
      "Epoch 100 \t Train Loss:  {0.015042127956720915} Valid Loss:  {0.012688995338976383}\n",
      "Epoch 110 \t Train Loss:  {0.014192040614557989} Valid Loss:  {0.012250206433236599}\n",
      "Epoch 120 \t Train Loss:  {0.014971766366877338} Valid Loss:  {0.012532993219792843}\n",
      "Epoch 130 \t Train Loss:  {0.014908445801473024} Valid Loss:  {0.012439503334462643}\n",
      "Epoch 140 \t Train Loss:  {0.014749418972342304} Valid Loss:  {0.012349925003945827}\n",
      "Epoch 150 \t Train Loss:  {0.014736546796153892} Valid Loss:  {0.012589413672685623}\n",
      "Epoch 160 \t Train Loss:  {0.014531638981266455} Valid Loss:  {0.012463049963116646}\n",
      "Epoch 170 \t Train Loss:  {0.015030241514922995} Valid Loss:  {0.012558311223983765}\n",
      "Epoch 180 \t Train Loss:  {0.014702487059614876} Valid Loss:  {0.012936401180922985}\n",
      "Epoch 190 \t Train Loss:  {0.014631111146599957} Valid Loss:  {0.012318305671215057}\n",
      "Epoch 200 \t Train Loss:  {0.014750390878003655} Valid Loss:  {0.01219285000115633}\n"
     ]
    },
    {
     "data": {
      "image/png": "[encoded data removed]",
      "text/plain": [
       "<Figure size 432x288 with 1 Axes>"
      ]
     },
     "metadata": {
      "needs_background": "light"
     },
     "output_type": "display_data"
    },
    {
     "data": {
      "text/html": [
       "<div>\n",
       "<style scoped>\n",
       "    .dataframe tbody tr th:only-of-type {\n",
       "        vertical-align: middle;\n",
       "    }\n",
       "\n",
       "    .dataframe tbody tr th {\n",
       "        vertical-align: top;\n",
       "    }\n",
       "\n",
       "    .dataframe thead th {\n",
       "        text-align: right;\n",
       "    }\n",
       "</style>\n",
       "<table border=\"1\" class=\"dataframe\">\n",
       "  <thead>\n",
       "    <tr style=\"text-align: right;\">\n",
       "      <th></th>\n",
       "      <th>Mean Train loss</th>\n",
       "      <th>Last Train loss</th>\n",
       "      <th>Mean Test loss</th>\n",
       "      <th>Last Test loss</th>\n",
       "    </tr>\n",
       "  </thead>\n",
       "  <tbody>\n",
       "    <tr>\n",
       "      <th>0</th>\n",
       "      <td>81.129618</td>\n",
       "      <td>78.108295</td>\n",
       "      <td>73.313097</td>\n",
       "      <td>71.014659</td>\n",
       "    </tr>\n",
       "  </tbody>\n",
       "</table>\n",
       "</div>"
      ],
      "text/plain": [
       "   Mean Train loss  Last Train loss  Mean Test loss  Last Test loss\n",
       "0        81.129618        78.108295       73.313097       71.014659"
      ]
     },
     "execution_count": 23,
     "metadata": {},
     "output_type": "execute_result"
    }
   ],
   "source": [
    "train_mse, train_rmse, validation_mse, validation_rmse = train_model(model, optimizer, trainX, trainY, testX, testY, 200, 5)\n",
    "from matplotlib import pyplot as plt\n",
    "plt.plot(np.arange(1, 201), train_mse, label='avg validation loss')\n",
    "plt.plot(np.arange(1, 201), validation_mse, label='avg training loss')\n",
    "plt.legend()\n",
    "plt.show()\n",
    "get_out_df(train_rmse, validation_rmse)"
   ]
  },
  {
   "cell_type": "code",
   "execution_count": 24,
   "metadata": {},
   "outputs": [
    {
     "name": "stdout",
     "output_type": "stream",
     "text": [
      "Epoch 10 \t Train Loss:  {0.014190989292480728} Valid Loss:  {0.012554585002362728}\n",
      "Epoch 20 \t Train Loss:  {0.014171989041973244} Valid Loss:  {0.012479833327233791}\n",
      "Epoch 30 \t Train Loss:  {0.014449079887885036} Valid Loss:  {0.012438338249921799}\n",
      "Epoch 40 \t Train Loss:  {0.014749839986589823} Valid Loss:  {0.012321624904870987}\n",
      "Epoch 50 \t Train Loss:  {0.01464884891880281} Valid Loss:  {0.012306805700063705}\n",
      "Epoch 60 \t Train Loss:  {0.014696766057926598} Valid Loss:  {0.012531878426671028}\n",
      "Epoch 70 \t Train Loss:  {0.014196551884665634} Valid Loss:  {0.012389169074594975}\n",
      "Epoch 80 \t Train Loss:  {0.014689957807687197} Valid Loss:  {0.012321455404162407}\n",
      "Epoch 90 \t Train Loss:  {0.014808785791198412} Valid Loss:  {0.012259986251592636}\n",
      "Epoch 100 \t Train Loss:  {0.014732921750030735} Valid Loss:  {0.012469111941754818}\n"
     ]
    },
    {
     "data": {
      "image/png": "[encoded data removed]",
      "text/plain": [
       "<Figure size 432x288 with 1 Axes>"
      ]
     },
     "metadata": {
      "needs_background": "light"
     },
     "output_type": "display_data"
    },
    {
     "data": {
      "text/html": [
       "<div>\n",
       "<style scoped>\n",
       "    .dataframe tbody tr th:only-of-type {\n",
       "        vertical-align: middle;\n",
       "    }\n",
       "\n",
       "    .dataframe tbody tr th {\n",
       "        vertical-align: top;\n",
       "    }\n",
       "\n",
       "    .dataframe thead th {\n",
       "        text-align: right;\n",
       "    }\n",
       "</style>\n",
       "<table border=\"1\" class=\"dataframe\">\n",
       "  <thead>\n",
       "    <tr style=\"text-align: right;\">\n",
       "      <th></th>\n",
       "      <th>Mean Train loss</th>\n",
       "      <th>Last Train loss</th>\n",
       "      <th>Mean Test loss</th>\n",
       "      <th>Last Test loss</th>\n",
       "    </tr>\n",
       "  </thead>\n",
       "  <tbody>\n",
       "    <tr>\n",
       "      <th>0</th>\n",
       "      <td>77.583591</td>\n",
       "      <td>78.062029</td>\n",
       "      <td>71.628658</td>\n",
       "      <td>71.814667</td>\n",
       "    </tr>\n",
       "  </tbody>\n",
       "</table>\n",
       "</div>"
      ],
      "text/plain": [
       "   Mean Train loss  Last Train loss  Mean Test loss  Last Test loss\n",
       "0        77.583591        78.062029       71.628658       71.814667"
      ]
     },
     "execution_count": 24,
     "metadata": {},
     "output_type": "execute_result"
    }
   ],
   "source": [
    "train_mse, train_rmse, validation_mse, validation_rmse = train_model(model, optimizer, trainX, trainY, testX, testY, 100, 23)\n",
    "from matplotlib import pyplot as plt\n",
    "plt.plot(np.arange(1, 101), train_mse, label='avg validation loss')\n",
    "plt.plot(np.arange(1, 101), validation_mse, label='avg training loss')\n",
    "plt.legend()\n",
    "plt.show()\n",
    "get_out_df(train_rmse, validation_rmse)"
   ]
  },
  {
   "cell_type": "code",
   "execution_count": 25,
   "metadata": {},
   "outputs": [
    {
     "ename": "TypeError",
     "evalue": "train_model() missing 1 required positional argument: 'batch_size'",
     "output_type": "error",
     "traceback": [
      "\u001b[0;31m---------------------------------------------------------------------------\u001b[0m",
      "\u001b[0;31mTypeError\u001b[0m                                 Traceback (most recent call last)",
      "\u001b[1;32m/home/mohit/Desktop/BTP/codebase/gcn_lstm_forecasting/Pytorch-gcn_lstm/GCN_LSTM_v2.ipynb Cell 28\u001b[0m in \u001b[0;36m<cell line: 1>\u001b[0;34m()\u001b[0m\n\u001b[0;32m----> <a href='vscode-notebook-cell:/home/mohit/Desktop/BTP/codebase/gcn_lstm_forecasting/Pytorch-gcn_lstm/GCN_LSTM_v2.ipynb#X36sZmlsZQ%3D%3D?line=0'>1</a>\u001b[0m train_mse, train_rmse, validation_mse, validation_rmse \u001b[39m=\u001b[39m train_model(model, trainX, trainY, testX, testY, \u001b[39m100\u001b[39;49m, \u001b[39m23\u001b[39;49m)\n\u001b[1;32m      <a href='vscode-notebook-cell:/home/mohit/Desktop/BTP/codebase/gcn_lstm_forecasting/Pytorch-gcn_lstm/GCN_LSTM_v2.ipynb#X36sZmlsZQ%3D%3D?line=1'>2</a>\u001b[0m \u001b[39mfrom\u001b[39;00m \u001b[39mmatplotlib\u001b[39;00m \u001b[39mimport\u001b[39;00m pyplot \u001b[39mas\u001b[39;00m plt\n\u001b[1;32m      <a href='vscode-notebook-cell:/home/mohit/Desktop/BTP/codebase/gcn_lstm_forecasting/Pytorch-gcn_lstm/GCN_LSTM_v2.ipynb#X36sZmlsZQ%3D%3D?line=2'>3</a>\u001b[0m plt\u001b[39m.\u001b[39mplot(np\u001b[39m.\u001b[39marange(\u001b[39m1\u001b[39m, \u001b[39m101\u001b[39m), train_mse, label\u001b[39m=\u001b[39m\u001b[39m'\u001b[39m\u001b[39mavg training loss\u001b[39m\u001b[39m'\u001b[39m)\n",
      "\u001b[0;31mTypeError\u001b[0m: train_model() missing 1 required positional argument: 'batch_size'"
     ]
    }
   ],
   "source": [
    "train_mse, train_rmse, validation_mse, validation_rmse = train_model(model, trainX, trainY, testX, testY, 100, 23)\n",
    "from matplotlib import pyplot as plt\n",
    "plt.plot(np.arange(1, 101), train_mse, label='avg training loss')\n",
    "plt.plot(np.arange(1, 101), validation_mse, label='avg validation loss')\n",
    "plt.legend()\n",
    "plt.show()\n",
    "get_out_df(train_rmse, validation_rmse)"
   ]
  },
  {
   "cell_type": "code",
   "execution_count": null,
   "metadata": {},
   "outputs": [],
   "source": [
    "train_mse, train_rmse, validation_mse, validation_rmse = train_model(trainX, trainY, testX, testY, 100, 23)\n",
    "from matplotlib import pyplot as plt\n",
    "plt.plot(np.arange(1, 101), train_mse, label='avg training loss')\n",
    "plt.plot(np.arange(1, 101), validation_mse, label='avg validation loss')\n",
    "plt.legend()\n",
    "plt.show()\n",
    "get_out_df(train_rmse, validation_rmse)"
   ]
  },
  {
   "cell_type": "code",
   "execution_count": null,
   "metadata": {},
   "outputs": [],
   "source": []
  }
 ],
 "metadata": {
  "colab": {
   "collapsed_sections": [
    "w8v-XuEdwYtu",
    "E_mXhzz87keD"
   ],
   "name": "GCN-LSTM in PyTorch-Clean.ipynb",
   "provenance": []
  },
  "kernelspec": {
   "display_name": "Python 3.8.13 ('btp')",
   "language": "python",
   "name": "python3"
  },
  "language_info": {
   "codemirror_mode": {
    "name": "ipython",
    "version": 3
   },
   "file_extension": ".py",
   "mimetype": "text/x-python",
   "name": "python",
   "nbconvert_exporter": "python",
   "pygments_lexer": "ipython3",
   "version": "3.8.13"
  },
  "vscode": {
   "interpreter": {
    "hash": "1fa7a0fbbb61462e42869da95f5e2cfb9ee2fd24c7a472cb62590ddd85e59b49"
   }
  }
 },
 "nbformat": 4,
 "nbformat_minor": 4
}
